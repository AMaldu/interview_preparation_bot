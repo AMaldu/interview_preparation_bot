{
 "cells": [
  {
   "cell_type": "markdown",
   "metadata": {},
   "source": [
    "The purpose of this notebook is to create a dataset of ground data questions to perform further metrics of the LLM model"
   ]
  },
  {
   "cell_type": "markdown",
   "metadata": {},
   "source": [
    "# Import libraries and load the book in JSON format"
   ]
  },
  {
   "cell_type": "code",
   "execution_count": 1,
   "metadata": {},
   "outputs": [],
   "source": [
    "import json\n",
    "import hashlib\n",
    "import ollama\n",
    "import pandas as pd\n",
    "from tqdm.auto import tqdm\n",
    "import pickle\n",
    "\n",
    "# to initiate ollama on console\n",
    "# ollama serve\n",
    "# ollama pull llama2"
   ]
  },
  {
   "cell_type": "code",
   "execution_count": 2,
   "metadata": {},
   "outputs": [],
   "source": [
    "with open('../data/parsed_book.json', 'r') as f_in:\n",
    "    book_raw = json.load(f_in)"
   ]
  },
  {
   "cell_type": "code",
   "execution_count": 3,
   "metadata": {},
   "outputs": [
    {
     "data": {
      "text/plain": [
       "{'chapter': 'CHAPTER 1',\n",
       " 'title': 'Machine Learning Roles and the Interview Process',\n",
       " 'content': [{'section': 'Overview of This Book',\n",
       "   'text': 'In the first part of this chapter, I’ll walk through the structure of this book. Then, I’ll discuss the various job titles and roles that use ML skills in industry. 1 I’ll also clarify the responsibilities of various job titles, such as data scientist, machine learning engineer, and so on, as this is a common point of confusion for job seekers. These will be illustrated with an ML skills matrix and ML lifecycle that will be referenced throughout the book. The second part of this chapter walks through the interview process, from beginning to end. I’ve mentored candidates who appreciated this overview since online resources often focus on specific pieces of the interview but not how they all connect together and result in an offer. Especially for new graduates 2 and readers coming from different industries, this chapter helps get everyone on the same page as well as clarifies the process. The interconnecting pieces of interviews are complex, with many types of combina‐ tions depending on the ML role you’re aiming for. This overview will help set the stage, so you’ll know what to focus your time on. For example, some online resources focus on knowledge specific to “product data scientists,” but will title the course or article “data scientist interview tips” without differentiating. For a newcomer, it’s hard to tell if that is relevant to your own career interests. After this chapter, you’ll be able to tell what skills are required for each job title, and in Chapter 2 , you’ll be able to parse out that information yourself from job postings and make your resume as relevant to the job title and job posting as possible. This chapter focuses on helping you differentiate among various ML roles, and walks through the entire interview process, as illustrated in Figure 1-1 : • Job applications and resume ( Chapter 2 ) • Technical interviews — Machine learning (Chapters 3 , 4 , and 6 ) — Coding/programming ( Chapter 5 ) • Behavioral interviews ( Chapter 7 ) • Your interview roadmap ( Chapter 8 ) • Post-interview and follow-up ( Chapter 9 ) Figure 1-1. Overview of the chapters and how they tie into the ML interview process. Depending on where you are in your ML interview journey, I encourage you to focus on the chapters and sections that seem relevant to you. I’ve also planned the book to be referenced as you go along; for example, you might iterate on your resume multi‐ ple times and then flip back to Chapter 2 when needed. The same applies to the other chapters. With that overview, let’s continue. The companion site to this book, https://susanshu.substack.com , features bonus content, helper resources, and more.'},\n",
       "  {'section': 'A Brief History of Machine Learning and Data Science Job Titles',\n",
       "   'text': 'First, let’s walk through a brief history of job titles. I decided to start with this section to dispel some myths about the “data scientist” job title and shed some light on why there are so many ML-related job titles. After understanding this history, you should be more aware of what job titles to aim for yourself. If you’ve ever been confused about the litany of titles such as machine learning engineer (MLE), product data sci‐ entist, MLOps engineer, and more, this section is for you. ML techniques aren’t a new thing; in 1985, David Ackley, Geoffrey E. Hinton, and Terrence J. Sejnowski popularized the Boltzmann Machine algorithm. 3 Even before that, regression techniques 4 had early developments in the 1800s. There have long been jobs and roles that use modeling techniques to forecast and predict. Econome‐ tricians, statisticians, financial modelers, physics modelers, and biochemical modelers have existed as professions for decades. The main difference is that there were much smaller datasets compared to the modern day (barring simulations). It was only in recent years, just before the 21st century, when compute power started to increase exponentially. In addition, advances in distributed and parallel computing created a cycle in which “big data” became more readily available. This allowed practitioners to apply that advanced compute power to millions or billions of data points. Larger datasets started being accumulated and distributed for ML research, such as WordNet, 5 and, subsequently, ImageNet, 6 a project led by Fei-Fei Li. These collective efforts laid the foundation for even more ML breakthroughs. AlexNet 7 was released in 2012, achieving high accuracy in the ImageNet challenge, 8 which demonstrated that deep learning can be adept at humanlike tasks at a scale that had not been seen before. Many ML practitioners see this as a time when machine learning, deep learning, and related topics increased by leaps and bounds in terms of recognition from the broader population, not just the AI community. The recent popularity of generative AI (such as ChatGPT) in 2022 and 2023 didn’t come out of nowhere, nor did the deepfakes, self-driving cars, chess bots, and more that came before it; these applica‐ tions were the results of many advances over recent years. “Data scientist” as a job title began as an umbrella term, when the ML and data fields were less mature. The term “data scientist” on Google Trends , which measures the popularity of search terms, surged in 2012. That was the year when that article was published by Harvard Business Review: “Data Scientist: The Sexiest Job of the 21st Century.” 9 By April 2013, the search popularity of “data scientist” was already tied with “statistician” and subsequently surpassed it by magnitudes, as shown in Figure 1-2 . Back in those days, there wasn’t a narrow divide between infrastructure jobs and model training, though. For example, Kubernetes was first released in 2014, but companies have taken some time to adopt it for orchestrating ML jobs. So now there are more specific job titles for ML infrastructure that didn’t exist before. Figure 1-2. Search popularity for the terms “data scientist,” “machine learning engi‐ neer,” and “statistician” on Google Trends (retrieved August 9, 2023). As social media, web recommender systems, and other modern use cases increased, companies started gathering much more granular data, such as clickstream data , which is data collected as a user browses a website or app. Another recent advance‐ ment is an average corporation being able to store the sheer amount of telemetry from machines and Internet of Things (IoT) devices. Previously, data scientists may have worked with data that was updated weekly or daily. Now, as many applications update more frequently or in real time, more infrastructure is needed to serve ML functionality in web products and apps, so more jobs have been created around those functions as well. In short: as the machine learning lifecycle grew more complex, more job titles were created to describe the new skills that a full ML team now requires. I’ll elaborate more on the job titles and ML lifecycle later in this chapter. All of this happened within the last decade, and companies don’t always change their job titles to reflect how the roles have become more specialized. Regardless, as a can‐ didate, knowing this history can help reduce confusion and frustration from applying for a job and finding the role is different from another company’s job with the exact same title. See Table 1-1 for previous trends in ML-related job titles and Table 1-2 for current trends in ML job titles. Table 1-1. Previous trends of ML and data job titles Table 1-2. Current trends of ML and data job titles With that history to explain why you will encounter different job titles, I’ll elaborate on each of these job titles and their responsibilities.'},\n",
       "  {'section': 'Job Titles Requiring ML Experience',\n",
       "   'text': 'Here is a nonexhaustive list of job titles for ML (or closely related) roles: • Data scientist • Machine learning engineer • Applied scientist • Software engineer, machine learning • MLOps engineer • Product data scientist • Data analyst • Decision scientist • Research scientist As I discussed “A Brief History of Machine Learning and Data Science Job Titles” on page 3 , each role is responsible for a different part of the ML lifecycle. A job title alone does not convey what the job entails. As a job seeker, be warned: in different companies, completely different titles might end up doing similar jobs! As illustrated in Figure 1-3 , your ML job title will depend on the company, the team, and which part(s) of the ML lifecycle your role is responsible for. To give specific examples of how job titles can depend on the company or organiza‐ tion that is hiring for the job—based on real people I’ve spoken to, job descriptions, and job interviews—the person responsible for training ML models but not for build‐ ing the underlying platform might be called the following: • Software engineer (ML) or data scientist (Google) • Applied scientist (Amazon) • Machine learning engineer (Meta, Pinterest) • Data scientist (Elastic, the team where I work) • Data scientist (Unity) Figure 1-3. What’s in a machine learning job title? By the time this book is published, any of the job titles within these companies and teams may have changed. Regardless, it demon‐ strates the point that ML titles may vary between companies and even between different teams in the same company. The job title also depends on the organization, the department, and so on. Some departments in Google have the data scientist 12 job title, and some don’t. At the com‐ panies where I’ve worked, my teams had data scientists train ML models while MLEs built the infrastructure (working all day in tools such as Kubernetes, Terraform, Jen‐ kins, and so on). In some other companies, MLEs are the ones who train ML models. As a personal example, my work experience has heavily involved ML model training, so I apply for jobs that have the title “machine learning engineer” or “data scientist.” I’ll provide more examples of skills and roles that could be a good fit for your inter‐ ests and skills in the following sections. As mentioned in the Preface , this book focuses more on the industry applications of ML rather than research roles. Here’s a brief overview of research roles: Requirements Most often PhD. Responsibilities Similar to academic roles/academia, such as conducting research and coming up with novel algorithms and improvements, authoring papers, presenting at aca‐ demic conferences, and so on. If you’re in a research role in industry , such as a researcher at Google DeepMind, the main difference is that there isn’t a require‐ ment for teaching (that I know of).'},\n",
       "  {'section': 'Machine Learning Lifecycle',\n",
       "   'text': 'In industry, it is an expectation for applied ML projects to eventually improve the customer experience—for example, a better recommender system that shows the user more relevant videos, news, and social media posts. In industry, “customer” can also mean internal customers: people within the same company or organization. For example, your team builds ML models that predict demand, which helps your com‐ pany’s logistics department better plan its shipment schedules. Regardless of whether the user is external or internal, many components are involved in building a full the user is external or internal, many components are involved in building a fullfledged, end-to-end ML product. I’ll walk through a simplified example. First, there needs to be data, as most ML is trained and tested with large amounts of data. Someone needs to make sure the raw data is brought in (ingested) so that it’s easily accessible later on for data analysis, ML, reporting and monitoring, and so on. This is illustrated by step A (data) in Figure 1-4 . Next, with the data in place, someone with knowledge of ML algorithms and tools will use the data to start ML development. This is illustrated by step B (machine learning development) in Figure 1-4 . This involves feature engineering, model train‐ ing, and evaluation. If the results aren’t great, there is a lot of iteration in step B, and this person might enhance their feature engineering or model training, or even go back to step A and request that more data be ingested. Once there are somewhat satisfactory results, they’ll move on to step C (machine learning deployment), which connects the ML models to customers. Depending on the type of ML project, it could be deployed to a website, app, internal dashboard, and so on. Of course, they’d like to make sure the ML is working properly, so any good team will have a way to monitor the results. In ML there are two main types of potential issues. The first is that something in the software layer doesn’t work, such as bugs in the code. The second is a data or ML model issue—for example, in the model-development phase, the model outputs normal results, but after deployment/ release, there is data imbalance, so then the model results become undesirable. From step C onward, there can be more iteration back to step B to improve the models and run more experiments in step C again. Figure 1-4. Machine learning lifecycle (the graph is simplified for understanding). In the machine learning lifecycle I just walked through, a lot of skills are required. Data pipelines, model training, maintaining continuous integration and continuous deployment (CI/CD): as a job candidate, what should you be learning to prepare for the interview? Thankfully, as I mentioned in “A Brief History of Machine Learning and Data Science Job Titles” on page 3 companies nowadays might hire people who have a subset of these skills. For example, they need some people specialized in step A (data engineering), some specialized in step B (ML development), some in step C (ML deployment), and so forth. I emphasize the might since it still differs depending on the company or team; I will walk through some scenarios. Startup roles will usually wear more hats, meaning they will need to do the jobs in multiple steps in the machine learning lifecycle as illustrated in Figure 1-4 . Here’s an example: Usually, startup companies have the goal of shipping 13 an end-to-end product, but because they have fewer customers they might care less about the scale and stability (at an early stage). Hence, it’s more likely that the person developing and training ML models is the same person doing data analysis and presenting to stakeholders, or even the same person building the platform infrastructure. An ML team in a startup might simply have fewer people. For example, the startup might have 30 software engineers and data people in total, whereas larger corporations could have a team of data ana‐ lysts alone numbering 30 people to disperse the workload. If the company and/or team has grown enough, it is more likely the ML roles have become more specialized. Generally, the larger the team, the more specialized the role. If the “machine learning engineer” at a larger company trains models, then it’s likely they don’t wear two or three hats at once, as they might at a startup. Instead, the big company hires more people to fill those roles. That isn’t to say the work is simpler at a larger company. In fact, there’s often more data, more scale, and more downsides if the ML functionality goes down, so each MLE’s time could be com‐ pletely tied up wearing only one hat. Larger company size often corresponds to larger ML teams, but it depends. For example, a large company in a traditionally nontech industry, might have its first ML team hires operate in more of a startup-like environment while they figure out how ML best works for the company. Let’s go one level deeper and add more details of ML or data responsibilities. Figure 1-5 expands on the machine learning lifecycle from Figure 1-4 to reflect teams or companies with more fine-grained roles. (It’s worth repeating that even if this list is a useful and common enough heuristic, it’s still a bit simplified for illustration pur‐ poses since there will always be exceptions and outliers.) Figure 1-5. Machine learning lifecycle with more fine-grained roles (extended version of Figure 1-4 ). Here’s an example of what your role might be responsible for within these more fine Here’s an example of what your role might be responsible for within these more finegrained roles, as illustrated in Figure 1-5 : • You build the data pipelines for analytics and ML (step A). • You train ML models (step B). • You build the infrastructure for ML models to be deployed (step C.1). • You design and conduct hypothesis testing, often A/B tests, for new ML product features (step C.2). • You do data analysis, build reports and dashboards, and present to stakeholders (step D). Figure 1-5 is often referred to in later chapters, so save or book‐ mark it!'},\n",
       "  {'section': 'The Three Pillars of Machine Learning Roles',\n",
       "   'text': 'To set the stage for the rest of the book, I’ll go over what I call the three pillars of ML and data science roles: • Machine learning algorithms and data intuition • Programming and software engineering skills • Execution and communication skills These are the broad categories of skills that you will be evaluated on during ML job interviews. This book focuses a lot on helping you understand these skills and bridge any gaps between your current experiences and skills and those under these three pillars (see Figure 1-6 ). All these skills will be expanded on in the following chapters. Figure 1-6. Three pillars of machine learning jobs. You’re able to understand the underlying workings of ML algorithms and statistics theory and their respective trade-offs—which is essential when you’re faced with an open-ended question in a real-world ML project at work. You’re not just following steps as you would for a school assignment. Having data intuition means that when you’re faced with a new problem, you know how to use data to solve it; and when you encounter new data or data sources, you know how to dive in to evaluate them. You ask yourself, is this data suitable for ML? What types of ML models might it be suitable for? Are there any issues with the data before you can use it for ML? You know what to ask and how to find the answers. In the ML job-interview process, various types of interviews and interview questions are aimed at assessing a candidate’s knowledge and readiness in this pillar, which I’ll cover in Chapters 3 and 4 . While working on a project, you have the programming skills required to deliver, such as manipulating data with Python or using an internal deploy process so that another team can use the results from the ML model. Even if you know the theory well, without the programming or software engineer‐ ing 14 sense, you can’t make ML materialize out of thin air. You need to use code to connect the data with ML algorithms, which are also implemented with code—that is, you must convert theory to practice. Other programming skills in high demand for ML roles are the (software) engineer’s ability to transition from prototype to production—that is, the ML is integrated and released. Some roles are responsible for end-to-end ML: from researching and train‐ ing models to deployment and production. Some ML roles, such as MLOps engi‐ neers, are responsible for building software infrastructure that can handle the demands of processing large amounts of data to send ML responses to users in sec‐ onds or even milliseconds. In the ML job-interview process, various types of interviews and interview questions assess a candidate’s skills in this pillar, which I’ll walk through in Chapters 5 and 6 . You’re able to work with people who aren’t in the same role as you. In ML, we work with software engineers, data engineers, product managers, and many other collea‐ gues. The ability to get things done in a team encompasses a few soft skills such as communication and some project management skills. For example, being unable to communicate with team members is a real blocker 15 for projects and could cause your ML projects to languish or even be deprioritized. Even in cases where you work with only one person (say, your boss), you still need to be able to report on your projects, which requires communication skills. Consequently, in the ML field a highly in-demand skill is being able to communicate technical con‐ cepts with nontechnical stakeholders. You’ll also need some project management skills to keep your tasks on track. We all learn to how manage our to-do lists and calendars during the process of education or self-learning, but it’s more chaotic since now your project calendar depends on oth‐ ers’ calendars and priorities. Even if you have a project and/or product manager to keep the team on track, you still need to manage yourself to some extent. Without soft skills, things don’t get done, full stop. Don’t be that candidate who focu‐ ses only on technical skills but neglects building and demonstrating their soft skills in interviews. I’ll delve into the details of how ML interviews evaluate candidates on this pillar in Chapter 7 . Growing your skills in all three ML pillars is a tall order, and for entry-level roles you’re usually only expected to have a minimum (such as a 3/10) for each pillar, as illustrated in Figure 1-7 . For example, a job candidate who has some exposure to pro‐ gramming, even if they aren’t skilled or experienced, can be taught to improve. Ideally, you’d be stronger on at least one pillar (such as 5/10 for programming) that is most related to the particular ML role in order to stand out from other job candidates. Figure 1-7. Minimum required skill levels for ML jobs (example). For senior roles, the bare minimum requirements are higher, but a similar rule of thumb applies: clear the minimum skill requirements. From then on, you’ll be com‐ pared with other candidates on the skills that you are great in, depending on the role. Data scientists who only train ML models but don’t deploy them might not need to develop their programming skills as much as their ML theory and communication skills. For entry level roles, I’d argue that the communication pillar has a lower requirement (but not 0/10, please!) because it takes the hard-earned experience of working with a larger group of people, including nontechnical teammates, to raise it higher. This also gives some candidates an edge in this pillar: for those with a nontraditional back‐ ground, such as candidates who are self-taught or switching from software engineer roles or another field, the ability to adeptly tell a story and showcase a portfolio can set them apart from other candidates. Now that you’ve had an overview of the three pillars, you can use this mental model to stand out.'},\n",
       "  {'section': 'Machine Learning Skills Matrix',\n",
       "   'text': 'Congratulations! You’ve made it to the end of a pretty dense section! Now that you’ve gone through the overview of the machine learning lifecycle and three pillars of ML skills, it’s time for you to map your interests and skills to job titles. Table 1-3 will give you a rough idea of what skills you will need to learn in order to succeed in specific roles. On a scale from one to three stars, one star represents a skill of lower importance, and three stars represents a highly important skill. Table 1-3. Machine learning and data skills matrix Table 1-3 is often referred to in later chapters, so save or bookmark it! Taking a look at these skills, you can roughly map them to the three pillars of ML skills in the previous section, as shown in Table 1-4 . Table 1-4. Machine learning and data skills mapped to the three pillars of ML jobs It’s OK if you aren’t completely sure what each type of skill might entail just yet. In Chapter 2 , we will revisit this matrix, and there will be details and a checklist for self assessment. You don’t need to worry about every single skill; companies are aware that they are responsible for training up new grads. But you can stand out from other job candi‐ dates by showing that you are more easily trainable and can learn fast. An easy way to demonstrate this earlier in your ML career is to gain high-level (not necessarily deep) exposure to topics that you don’t have experience with yet. For example, even if you haven’t worked much with version control, it’s a bonus to be familiar with. You can achieve this by watching some videos (30 minutes) and installing/testing it out on a project (one hour). Now, let’s tie all this together. We’ve looked at the machine learning lifecycle ( Figure 1-5 ) and machine learning skills matrix ( Table 1-3 ). What’s left is to see what jobs are best for you to apply to now or to gain the skills for! To do so, let’s connect everything to the current trend of ML and data job titles ( Table 1-2 ). This is illustra‐ ted in Figure 1-8 . Figure 1-8. Common ML job titles and how they correspond to the ML lifecycle. The alphabetical annotations in Figure 1-8 can be mapped to those in Figure 1-5 , lis‐ ted here for convenience: • (A) Data • (B) Machine learning development • (C.1) ML/software infrastructure • (C.2) ML hypothesis testing/monitoring • (D) Reports and dashboards Figure 1-8 is often referred to in later chapters, so save or book‐ mark it! When you see a job title and check the details of the job posting, you can map it to what that job is likely responsible for in the day to day. In addition, based on what part of the ML lifecycle you’re interested in, you can better prepare and target your job applications, so you don’t accidentally bark up the wrong tree. Go to a job board of your choice, such as LinkedIn, Indeed, or others listed in Chap‐ ter 2 . Search “machine learning,” “data scientist,” “data,” “AI,” “generative AI,” and so on. What are you seeing? Do you see different types of jobs being advertised that all use ML?'},\n",
       "  {'section': 'Introduction to ML Job Interviews',\n",
       "   'text': 'Now that I’ve introduced many job titles that might be of interest to you, it’s time to go through all the steps and types of interviews you will encounter during the pro‐ cess! This book is called Machine Learning Interviews , but interviews are so much more than just interview questions. There are job applications and your resume, which are how you get interviews in the first place. If you don’t increase your chances of getting more interviews, then you won’t even get the chance to answer any inter‐ view questions! I’ll be covering the process from beginning to end, including how to follow up after the interview ( Chapter 9 ). To quickly set the stage, here are some common terms used in this book. When I use the term “interviewee,” I am referring to the person currently seeking employment, while the “interviewer” is currently employed at the company that the interviewee is interviewing to join. The interviewee is also referred to as a “candidate” or “job candidate,” since they are a candidate to be the successfully hired person (see Table 1-5 ). Table 1-5. Synonyms of common terms used in this book “Big tech” refers to the major, large tech companies. Because of constant changes in the industry—for example, Facebook rebranding to Meta as the parent company and Google doing something similar with Alphabet—the popular FAANG. 16 (Facebook, Apple, Amazon, Netflix, Google) acronym has already become outdated. To keep things simple, I will use the umbrella term “big tech.”'},\n",
       "  {'section': 'Machine Learning Job-Interview Process',\n",
       "   'text': 'Now let’s get into the entire job-interview process. You’ll start by applying to jobs, then interviewing, and then, after some rounds of interviewing, finally receiving offers. This process is detailed in Figure 1-9 . Figure 1-9 is often referred to in later chapters, so save or book‐ mark it! Figure 1-9. ML interview process. Let’s imagine that you’re just starting out and applying for an ML role at a company with an established HR 17 and hiring process. You can begin your application in a few ways: by cold applying through the company website or job board (discussed in Chapter 2 ) or through a referral from someone within the team or company. You can also get interviews through cold messaging on LinkedIn or by emailing recruiters. Usually, at companies that have an HR-tracking software system, even if someone refers you, you’ll still need to upload a standard application into the online portal, which means you’ll need to prepare an updated resume and fill in your information. You may also choose to supplement your job-search efforts by working with a third-party recruiter, which is differentfrom an in from an inhouse recruiter who works or contracts specifically for the hiring company. Third-party recruiters often work with multiple compa‐ nies at once. Professional peers I know recommend working only with specific trusted third-party recruiters but warned me to beware those who make too many unrealistic promises or aren’t reputable. You can read more about third-party recruiters in this Forbes article . Using the first method—cold applying through company websites or third-party job boards—you’ve been browsing job boards like Indeed 18 as well as going directly to the career pages of companies you’re interested in working for. In this scenario, you don’t have someone referring you to the team or company (I’ll cover that in “Apply‐ ing via a Referral” on page 22 ). You’ve seen some ML-related jobs that seem relevant to you, and you clicked the links to apply. After you submit your application and the company has your information and resume, an HR member, recruiter, or whoever is in charge of resume screening, will proceed with the next step. The reality is that jobs have many applicants, and you should assume the first batch of applicants will be filtered before the hiring manager sees them. The hiring manager is the manager you’ll work with and report to if you join the team. So you can usually assume that a generalized HR partner or internal or external recruiters will be read‐ ing your resume first. These recruiters may be somewhat familiar with the roles they are screening resumes for, but they are still predominantly generalists, not as special‐ ized as the engineers and ML professionals you’ll actually be working with. This part of the screening process leads to several hidden criteria for your resume, which is why it might be baffling when your resume doesn’t clear this step even if you have a relevant background. It’s important to remember that these generalists will likely pass along your resume to the hiring manager if they: • See key technologies or experiences on your resume based on the job posting • See years of experience in key technologies or experiences or, in the case of entry • See years of experience in key technologies or experiences or, in the case of entrylevel or new-grad jobs, sufficient evidence that you can be easily trained • Understand that your skills and accomplishments are relevant, in plain language To determine whether your resume meets the criteria, the recruiter will likely be searching for keywords and comparing your resume to the job posting. They will not automatically “translate” skills on your resume for you. For example, if the job description says “Python” and your resume says “C++,” at this step they will likely not consider that, since both programming languages are object oriented, you could probably learn Python quickly if you put in the effort. There has been some debate at this stage on ATS , which is an acronym for applicant tracking system . While companies do use systems such as Workday to manage appli‐ cations, there hasn’t been concrete proof that companies are using them to program‐ matically filter out resumes at this step for each job posting ( Figure 1-10 ). Figure 1-10. Gergely Orosz (founder of The Pragmatic Engineer publication and former manager at Uber) on ATS (screenshot via Twitter). In practice, recruiters use them at most to filter resumes into a selection to fulfill existing criteria on the job posting, such as those mentioned on the previous page. I also haven’t seen ATS automatically filter out qualified candidates during full-time work experience, and once I was responsible for manually reading a PDF containing more than 50 resumes. However, I don’t want to claim that automated ATS rejections are fully untrue. To be safe, in this book I assume both standpoints have some truth to it. So even if ATS is an issue, the steps in this book will help you, since I’ll teach you the principles for how resume selection is conducted. (You can read more on ATS on thetechresume.com .) If you’re able to describe your experiences at a level that HR recruiters can under‐ stand is relevant to the job posting, you will increase your chances at the resume stand is relevant to the job posting, you will increase your chances at the resumescreening step. HR and recruiters, by nature of the role, are aware of higher-level technologies and what’s popular with the roles they’re hiring for but not the details, so it’s important for your resume to be optimized well. (Read more on how to opti‐ mize your resume in Chapter 2 .) Now that I’ve walked through cold applications directly via job boards or websites without any referral, I’ll provide some examples of how referrals can help you fast without any referral, I’ll provide some examples of how referrals can help you fasttrack the process. Let’s say you’re interested in an ML job at ARI Corporation. 19 You know an alum of your university who works on the ML team. You catch up with them and express your interest in the job. During the chat, you show the alum some of your personal ML projects, which are relevant to the ML job you’re interested in. The school alum agrees to refer you and gives you instructions for how to be referred, something that depends on the way the HR system of the company is set up. Since this alum knows you and is willing to vouch for your skills after seeing your personal projects, you get your resume to the “top of the pile.” Depending on the strength of the referral/recommendation, you may skip the resume screening alto‐ gether and get a highly guaranteed callback from a recruiter or even bypass the recruiter directly and get to the rest of the interview rounds. This is illustrated in Figure 1-11 . Note that I say “highly” guaranteed here since it still depends on various factors such as timing. As an example: maybe you got referred, but the job posting has coincidentally just been filled. Thus, you didn’t get to the rest of the interview. I will cover more on referrals and how to get them via professional networking in Chapter 2 . Figure 1-11. The interview process can be shortcut with a strong referral. You’ve been invited to an interview! How do you perform your best? Maybe time is limited; what do you do to ensure that you can maximize your outcome? My personal tactic is to first narrow down the types of questions that might be asked. For example, in the first round of an Amazon interview, the recruiter has outlined the format and it will focus on statistical theory questions. I will read online resources, skim over my notes, and see what topics I’m the weakest on. I will focus less on the questions that I know I can answer confidently and more on those that seem more likely to be asked but that I don’t know well. As to how I “guess” what will likely be asked, that is based mostly on conversations with the recruiter and my follow-up questions to the recruiter or hiring manager. I’m not super accurate at guessing, and this is similar to trying to guess what will come up in a university exam—it could work well, or it could backfire! Either way, there’s the trade-off between knowing a subset of questions well or know‐ ing all questions roughly but not as well (depth vs. breadth). When reviewing my preparation notes, I personally go for breadth, but your results may vary depending on how well you know the material already. Depending on your location and your interviewers’ location, there may be time zone differences. I try to find the time when I have the most energy possible. Sometimes the available interview time slots aren’t ideal, so I choose the lesser of the evils (for example, interviewing from GMT+8 and talking to someone in GMT-4 while travel‐ ing abroad). To make it easy to figure out time zones for candidates invited to an interview, it’s common for HR-scheduling software to have a calendar feature where you can input your preferred times and it will account for your local time zones. However, sometimes the time will be set via back-and-forth emails, and tools such as Cal‐ endly or Cal.com can help. As both an interviewer and interviewee, I am wary of scheduling right at the begin‐ ning of a workday. This is so that I have more time to prepare after I wake up. But of course, if no other time slots are available, then I will select the early time. As an interviewer, I’ve seen countless candidates’ interviews start late because of con‐ nection issues or using a new web-conferencing software—for example, not being able to set up Zoom on time because they hadn’t used it before. As a candidate, I’ve been tripped up and wasted time when needing to use Microsoft Teams because on my personal computers I only had Zoom and Google Meet. In the end, I used the browser version, but there was an issue with my login since my Microsoft student account had expired. We finally got it sorted out, a few minutes later. This could have been avoided if I had tried to sign in a bit earlier or on the day before the interview. Here are some tips to help your interview go more smoothly: Try your best to be in a quiet environment. Some software, such as Zoom, has pretty good built-in noise canceling, as do some wireless headphones. Check your audio and video beforehand. Video-wise, make sure the lighting is good and your camera lens is clean. Sound Video-wise, make sure the lighting is good and your camera lens is clean. Soundwise, make sure your mic sounds clear. On Windows and Mac, there are built-in camera and voice recording apps that I use. You could also start a new Zoom, Google Meet, or Teams session and run a test. Keep a mental list of backup options. Did the internet at your home suddenly go down before the interview? Is there a nearby cafe with (preferably secure) internet that you could go to? Can you use your phone data? Are there dial-in options via phone on the calendar invite? Knowing these things beforehand can help you a lot. I’ve had to dial in once to an interview, and thankfully, I knew that I had the option to. Congrats, your resume has made it past the resume screening! Now let’s go through an example to illustrate what might happen next. Let’s imagine that there were 200 applicants for the role. The recruiter has gone through them and removed 170 that either lacked relevant experience or for some reason didn’t seem to fit the role. Recall that this is based on the impression your resume gave the recruiter; it’s possible that with the same job title and same recruiter team, an improved resume would have passed. If you had a good referral, your resume might have already moved forward. Now that there are 30 applicants, the recruiter will call each of them; this is usually a shorter interview, 15 to 30 minutes long. We refer to this as the “recruiter screening” or “recruiter call.” Generally, the recruiter wants to see what you’re like as a person and if you’re easy to work with. If someone blatantly claims to have experience that they don’t, the call could reveal fabricated work or school experiences. There are other logistical issues to screen for, such as location, salary expectations, and legal status. The recruiter screening is more of a “smell test” instead of an in The recruiter screening is more of a “smell test” instead of an indepth test of your technical skills and experience. My tip for success is to optimize for one thing: that the recruiter understands that you are a good candidate, that your experience is relevant (or you can learn fast), and that you can fit well into the team and role they are hiring for. This is different from con‐ vincing a hiring manager of the same things, or an interview panel of senior MLEs. Instead, you will succeed here if you make the additional effort to connect your resume to the job description on this call. Here’s an example of some bullet points in a job description: • “The candidate has experience with recommender systems.” • “Experience with data processing such as Spark, Snowflake, or Hadoop.” • “The candidate has experience with Python.” A bad example of explaining your experience on the recruiter call for this job is: “For that past project, I used the ALS algorithm, which was implemented with PySpark.” A better example of explaining your experience on the recruiter call for this job is: “For that past project, I used the alternating least squares (ALS) algorithm, which is a recommender systems algorithm based off of matrix factorization, and I used PySpark, which is Spark that’s wrapped with a Python API.” Note that the italicized phrases also appear in the job description. The better example allows a recruiter to match up more of your skills to the job description, whereas the bad example doesn’t match up to the posted skills in an obvious manner. When you’re writing your resume, you have limited space; the real obvious manner. When you’re writing your resume, you have limited space; the realtime conversation of an interview is a chance for you to fill in gaps that the recruiter may not have noticed. It’s also important to expand on acronyms. This is true for interviews conducted with technical people too. I’m relatively specialized in recommender systems and rein‐ forcement learning, but I don’t work with computer vision tasks in my day-to-day work. I appreciated it when a candidate I interviewed was talking about computer vision projects and generally explained the more niche techniques. You can (and should) do this in a way that’s not condescending to your interviewer, whether they are a recruiter or part of your future team. The recruiter call is a good time for you as the candidate to assess the job as well. You can ask questions that you care about, to see if you should continue to interview. For example, I might ask about the team size and if this job focuses more on ML or data analyst responsibilities. You can also prepare some questions about the company and their products. For example, is the team’s current project focused on improving the click-through rate or long-term engagement? If you’re a user of the product, you might have a lot of ideas and questions to discuss. This is also a chance to show your enthusiasm and knowledge of the company. On to the next step. Good news: the recruiter cleared you! You explained your previ‐ ous experience well, and the recruiter was able to understand your past work and how it connects to the job description they have on hand. But it’s not over yet. You’re among 15 other candidates who succeeded at the first recruiter screening. The recruiter informs you of upcoming technical interviews which include ML theory, programming, and a case study interview. There are also behavioral interviews sprinkled throughout. If you pass those, you’ll make it to the on-site interview, which is often the final round. These days, there are also virtual on on-site interview, which is often the final round. These days, there are also virtual onsites/final rounds. If you pass the final round, you’ll be extended an offer. Let’s break down the various types of interviews that take place after the recruiter screening, the first being technical interviews. Technical interviews are typically con‐ ducted with technical individual contributors (ICs), such as an MLE or a data scientist. There may be multiple rounds of technical interviews; there could be one that is a data-focused coding round or one in which the interviewer presents some fictitious example data and asks you to use SQL or Python pandas/NumPy (sometimes there are multiple questions, and you use various programming tools throughout the inter‐ view). I’ll expand more on this type of interview structure and interview questions in Chapter 5 . Apart from ML and data-focused programming interviews, you might be asked brainteaser-type questions. For this type of interview, you might use an interview platform such as CoderPad or HackerRank, where the interviewer presents you with a question and you code in the online integrated development environment (IDE) that both you and your interviewer can see in real time. Sometimes you’ll get other formats, such as technical deep dives, systems design, take-home exercises in a pri‐ vate repo or Google Colab, and so on. I’ll elaborate on how to prepare for these types of interviews in Chapters 5 and 6 . These subsequent interview rounds could further reduce the number of candidates before the final round. In our example, fifteen candidates passed the recruiter screen, and eight passed the first round of technical interviews. After the second round of technical interviews, we’re left with three candidates who will proceed to the on-site interview. Interspersed during the interview process are questions meant to assess how you react in certain situations. The intent often is to use past experience to predict future performance and understand how you react to high-stress or difficult situations. In addition, these questions assess your soft skills, such as communication and team‐ work skills. You’ll want to prepare a few past experiences and relay them in a story‐ telling fashion. For example, during your first recruiter call, the recruiter might ask about a time when you dealt with a difficult timeline on a project. Once you’ve responded you won’t be out of the woods yet. During the on-site, an hour is often dedicated to behavioral questions. And in some technical interviews, you might be asked a couple of questions that are a mix between a purely technical question and a behavioral question. I’ll help you succeed with behavioral interviews in Chapter 7 , which also has tips on company-specific preparation, such as Amazon’s Leadership Principles . For many companies there is an “on-site” final round or the virtual equivalent. These are usually back-to-back interviews. For example, starting in the morning, you might meet with a technical director for a case study interview and then a senior data scien‐ tist for a programming interview. After a lunch break, you might meet with two data scientists who ask about ML theory, and then the hiring manager asks more behavio‐ ral questions and probes about your past experiences. In addition to technical inter‐ viewers, you may speak with a stakeholder (e.g., a product manager on an adjacent team that the team you’re interviewing for works closely with). In several final-round interviews I’ve been through, there was a product manager interviewer or someone from another department that the ML team worked closely with, such as marketing or advertising. Some companies will have an additional mini round after this, such as a quick chat with a skip level (your manager’s manager).In this chapter, you’ve learned about various ML roles, the ML lifecycle, and the dif‐ ferent responsibilities that map onto the ML lifecycle. You’ve also seen how you make your way from the beginning of the process to the final round of interviews. There’s a lot to prepare for and to learn about, but now you have an overview and hopefully some thoughts on how you can target your preparations. Now that this chapter has set the foundation, I’ll walk through a detailed job applica‐ tion guide, including a resume guide, to help you greatly increase your chances of getting interviews.'}]}"
      ]
     },
     "execution_count": 3,
     "metadata": {},
     "output_type": "execute_result"
    }
   ],
   "source": [
    "book_raw[0]"
   ]
  },
  {
   "cell_type": "markdown",
   "metadata": {},
   "source": [
    "Flatten the json and reformat chapter and title --> list of dicts"
   ]
  },
  {
   "cell_type": "code",
   "execution_count": 4,
   "metadata": {},
   "outputs": [],
   "source": [
    "documents = []\n",
    "\n",
    "for chapter in book_raw:\n",
    "    chapter_name = chapter['chapter']\n",
    "    title = chapter['title']\n",
    "\n",
    "    for doc in chapter['content']:\n",
    "        new_doc = {\n",
    "            'chapter': chapter_name,\n",
    "            'title': title,\n",
    "            'section': doc['section'],\n",
    "            'text': doc['text']\n",
    "        }\n",
    "        documents.append(new_doc) \n"
   ]
  },
  {
   "cell_type": "code",
   "execution_count": 5,
   "metadata": {},
   "outputs": [
    {
     "data": {
      "text/plain": [
       "[{'chapter': 'CHAPTER 1',\n",
       "  'title': 'Machine Learning Roles and the Interview Process',\n",
       "  'section': 'Overview of This Book',\n",
       "  'text': 'In the first part of this chapter, I’ll walk through the structure of this book. Then, I’ll discuss the various job titles and roles that use ML skills in industry. 1 I’ll also clarify the responsibilities of various job titles, such as data scientist, machine learning engineer, and so on, as this is a common point of confusion for job seekers. These will be illustrated with an ML skills matrix and ML lifecycle that will be referenced throughout the book. The second part of this chapter walks through the interview process, from beginning to end. I’ve mentored candidates who appreciated this overview since online resources often focus on specific pieces of the interview but not how they all connect together and result in an offer. Especially for new graduates 2 and readers coming from different industries, this chapter helps get everyone on the same page as well as clarifies the process. The interconnecting pieces of interviews are complex, with many types of combina‐ tions depending on the ML role you’re aiming for. This overview will help set the stage, so you’ll know what to focus your time on. For example, some online resources focus on knowledge specific to “product data scientists,” but will title the course or article “data scientist interview tips” without differentiating. For a newcomer, it’s hard to tell if that is relevant to your own career interests. After this chapter, you’ll be able to tell what skills are required for each job title, and in Chapter 2 , you’ll be able to parse out that information yourself from job postings and make your resume as relevant to the job title and job posting as possible. This chapter focuses on helping you differentiate among various ML roles, and walks through the entire interview process, as illustrated in Figure 1-1 : • Job applications and resume ( Chapter 2 ) • Technical interviews — Machine learning (Chapters 3 , 4 , and 6 ) — Coding/programming ( Chapter 5 ) • Behavioral interviews ( Chapter 7 ) • Your interview roadmap ( Chapter 8 ) • Post-interview and follow-up ( Chapter 9 ) Figure 1-1. Overview of the chapters and how they tie into the ML interview process. Depending on where you are in your ML interview journey, I encourage you to focus on the chapters and sections that seem relevant to you. I’ve also planned the book to be referenced as you go along; for example, you might iterate on your resume multi‐ ple times and then flip back to Chapter 2 when needed. The same applies to the other chapters. With that overview, let’s continue. The companion site to this book, https://susanshu.substack.com , features bonus content, helper resources, and more.'},\n",
       " {'chapter': 'CHAPTER 1',\n",
       "  'title': 'Machine Learning Roles and the Interview Process',\n",
       "  'section': 'A Brief History of Machine Learning and Data Science Job Titles',\n",
       "  'text': 'First, let’s walk through a brief history of job titles. I decided to start with this section to dispel some myths about the “data scientist” job title and shed some light on why there are so many ML-related job titles. After understanding this history, you should be more aware of what job titles to aim for yourself. If you’ve ever been confused about the litany of titles such as machine learning engineer (MLE), product data sci‐ entist, MLOps engineer, and more, this section is for you. ML techniques aren’t a new thing; in 1985, David Ackley, Geoffrey E. Hinton, and Terrence J. Sejnowski popularized the Boltzmann Machine algorithm. 3 Even before that, regression techniques 4 had early developments in the 1800s. There have long been jobs and roles that use modeling techniques to forecast and predict. Econome‐ tricians, statisticians, financial modelers, physics modelers, and biochemical modelers have existed as professions for decades. The main difference is that there were much smaller datasets compared to the modern day (barring simulations). It was only in recent years, just before the 21st century, when compute power started to increase exponentially. In addition, advances in distributed and parallel computing created a cycle in which “big data” became more readily available. This allowed practitioners to apply that advanced compute power to millions or billions of data points. Larger datasets started being accumulated and distributed for ML research, such as WordNet, 5 and, subsequently, ImageNet, 6 a project led by Fei-Fei Li. These collective efforts laid the foundation for even more ML breakthroughs. AlexNet 7 was released in 2012, achieving high accuracy in the ImageNet challenge, 8 which demonstrated that deep learning can be adept at humanlike tasks at a scale that had not been seen before. Many ML practitioners see this as a time when machine learning, deep learning, and related topics increased by leaps and bounds in terms of recognition from the broader population, not just the AI community. The recent popularity of generative AI (such as ChatGPT) in 2022 and 2023 didn’t come out of nowhere, nor did the deepfakes, self-driving cars, chess bots, and more that came before it; these applica‐ tions were the results of many advances over recent years. “Data scientist” as a job title began as an umbrella term, when the ML and data fields were less mature. The term “data scientist” on Google Trends , which measures the popularity of search terms, surged in 2012. That was the year when that article was published by Harvard Business Review: “Data Scientist: The Sexiest Job of the 21st Century.” 9 By April 2013, the search popularity of “data scientist” was already tied with “statistician” and subsequently surpassed it by magnitudes, as shown in Figure 1-2 . Back in those days, there wasn’t a narrow divide between infrastructure jobs and model training, though. For example, Kubernetes was first released in 2014, but companies have taken some time to adopt it for orchestrating ML jobs. So now there are more specific job titles for ML infrastructure that didn’t exist before. Figure 1-2. Search popularity for the terms “data scientist,” “machine learning engi‐ neer,” and “statistician” on Google Trends (retrieved August 9, 2023). As social media, web recommender systems, and other modern use cases increased, companies started gathering much more granular data, such as clickstream data , which is data collected as a user browses a website or app. Another recent advance‐ ment is an average corporation being able to store the sheer amount of telemetry from machines and Internet of Things (IoT) devices. Previously, data scientists may have worked with data that was updated weekly or daily. Now, as many applications update more frequently or in real time, more infrastructure is needed to serve ML functionality in web products and apps, so more jobs have been created around those functions as well. In short: as the machine learning lifecycle grew more complex, more job titles were created to describe the new skills that a full ML team now requires. I’ll elaborate more on the job titles and ML lifecycle later in this chapter. All of this happened within the last decade, and companies don’t always change their job titles to reflect how the roles have become more specialized. Regardless, as a can‐ didate, knowing this history can help reduce confusion and frustration from applying for a job and finding the role is different from another company’s job with the exact same title. See Table 1-1 for previous trends in ML-related job titles and Table 1-2 for current trends in ML job titles. Table 1-1. Previous trends of ML and data job titles Table 1-2. Current trends of ML and data job titles With that history to explain why you will encounter different job titles, I’ll elaborate on each of these job titles and their responsibilities.'}]"
      ]
     },
     "execution_count": 5,
     "metadata": {},
     "output_type": "execute_result"
    }
   ],
   "source": [
    "documents[0:2]"
   ]
  },
  {
   "cell_type": "code",
   "execution_count": 6,
   "metadata": {},
   "outputs": [],
   "source": [
    "# Subsection\n",
    "\n",
    "# documents = [d for d in documents if d['chapter'] == 'CHAPTER 1']"
   ]
  },
  {
   "cell_type": "markdown",
   "metadata": {},
   "source": [
    "# Generate ids\n"
   ]
  },
  {
   "cell_type": "code",
   "execution_count": 7,
   "metadata": {},
   "outputs": [],
   "source": [
    "generated_ids = {}\n",
    "\n",
    "def generate_document_id(doc):\n",
    "    combined = f\"{doc['chapter']}-{doc['title']}-{doc['text'][:10]}\"\n",
    "    hash_object = hashlib.md5(combined.encode())\n",
    "    hash_hex = hash_object.hexdigest()\n",
    "    document_id = hash_hex[:10]\n",
    "    \n",
    "    if document_id in generated_ids:\n",
    "        counter = generated_ids[document_id]\n",
    "        document_id = f\"{document_id}-{counter}\"\n",
    "        generated_ids[document_id] = counter + 1\n",
    "    else:\n",
    "        generated_ids[document_id] = 1\n",
    "    \n",
    "    return document_id\n",
    "\n",
    "for doc in documents:\n",
    "    doc['id'] = generate_document_id(doc)\n"
   ]
  },
  {
   "cell_type": "code",
   "execution_count": 8,
   "metadata": {},
   "outputs": [
    {
     "data": {
      "text/plain": [
       "[{'chapter': 'CHAPTER 1',\n",
       "  'title': 'Machine Learning Roles and the Interview Process',\n",
       "  'section': 'Overview of This Book',\n",
       "  'text': 'In the first part of this chapter, I’ll walk through the structure of this book. Then, I’ll discuss the various job titles and roles that use ML skills in industry. 1 I’ll also clarify the responsibilities of various job titles, such as data scientist, machine learning engineer, and so on, as this is a common point of confusion for job seekers. These will be illustrated with an ML skills matrix and ML lifecycle that will be referenced throughout the book. The second part of this chapter walks through the interview process, from beginning to end. I’ve mentored candidates who appreciated this overview since online resources often focus on specific pieces of the interview but not how they all connect together and result in an offer. Especially for new graduates 2 and readers coming from different industries, this chapter helps get everyone on the same page as well as clarifies the process. The interconnecting pieces of interviews are complex, with many types of combina‐ tions depending on the ML role you’re aiming for. This overview will help set the stage, so you’ll know what to focus your time on. For example, some online resources focus on knowledge specific to “product data scientists,” but will title the course or article “data scientist interview tips” without differentiating. For a newcomer, it’s hard to tell if that is relevant to your own career interests. After this chapter, you’ll be able to tell what skills are required for each job title, and in Chapter 2 , you’ll be able to parse out that information yourself from job postings and make your resume as relevant to the job title and job posting as possible. This chapter focuses on helping you differentiate among various ML roles, and walks through the entire interview process, as illustrated in Figure 1-1 : • Job applications and resume ( Chapter 2 ) • Technical interviews — Machine learning (Chapters 3 , 4 , and 6 ) — Coding/programming ( Chapter 5 ) • Behavioral interviews ( Chapter 7 ) • Your interview roadmap ( Chapter 8 ) • Post-interview and follow-up ( Chapter 9 ) Figure 1-1. Overview of the chapters and how they tie into the ML interview process. Depending on where you are in your ML interview journey, I encourage you to focus on the chapters and sections that seem relevant to you. I’ve also planned the book to be referenced as you go along; for example, you might iterate on your resume multi‐ ple times and then flip back to Chapter 2 when needed. The same applies to the other chapters. With that overview, let’s continue. The companion site to this book, https://susanshu.substack.com , features bonus content, helper resources, and more.',\n",
       "  'id': '86fd49a66d'},\n",
       " {'chapter': 'CHAPTER 1',\n",
       "  'title': 'Machine Learning Roles and the Interview Process',\n",
       "  'section': 'A Brief History of Machine Learning and Data Science Job Titles',\n",
       "  'text': 'First, let’s walk through a brief history of job titles. I decided to start with this section to dispel some myths about the “data scientist” job title and shed some light on why there are so many ML-related job titles. After understanding this history, you should be more aware of what job titles to aim for yourself. If you’ve ever been confused about the litany of titles such as machine learning engineer (MLE), product data sci‐ entist, MLOps engineer, and more, this section is for you. ML techniques aren’t a new thing; in 1985, David Ackley, Geoffrey E. Hinton, and Terrence J. Sejnowski popularized the Boltzmann Machine algorithm. 3 Even before that, regression techniques 4 had early developments in the 1800s. There have long been jobs and roles that use modeling techniques to forecast and predict. Econome‐ tricians, statisticians, financial modelers, physics modelers, and biochemical modelers have existed as professions for decades. The main difference is that there were much smaller datasets compared to the modern day (barring simulations). It was only in recent years, just before the 21st century, when compute power started to increase exponentially. In addition, advances in distributed and parallel computing created a cycle in which “big data” became more readily available. This allowed practitioners to apply that advanced compute power to millions or billions of data points. Larger datasets started being accumulated and distributed for ML research, such as WordNet, 5 and, subsequently, ImageNet, 6 a project led by Fei-Fei Li. These collective efforts laid the foundation for even more ML breakthroughs. AlexNet 7 was released in 2012, achieving high accuracy in the ImageNet challenge, 8 which demonstrated that deep learning can be adept at humanlike tasks at a scale that had not been seen before. Many ML practitioners see this as a time when machine learning, deep learning, and related topics increased by leaps and bounds in terms of recognition from the broader population, not just the AI community. The recent popularity of generative AI (such as ChatGPT) in 2022 and 2023 didn’t come out of nowhere, nor did the deepfakes, self-driving cars, chess bots, and more that came before it; these applica‐ tions were the results of many advances over recent years. “Data scientist” as a job title began as an umbrella term, when the ML and data fields were less mature. The term “data scientist” on Google Trends , which measures the popularity of search terms, surged in 2012. That was the year when that article was published by Harvard Business Review: “Data Scientist: The Sexiest Job of the 21st Century.” 9 By April 2013, the search popularity of “data scientist” was already tied with “statistician” and subsequently surpassed it by magnitudes, as shown in Figure 1-2 . Back in those days, there wasn’t a narrow divide between infrastructure jobs and model training, though. For example, Kubernetes was first released in 2014, but companies have taken some time to adopt it for orchestrating ML jobs. So now there are more specific job titles for ML infrastructure that didn’t exist before. Figure 1-2. Search popularity for the terms “data scientist,” “machine learning engi‐ neer,” and “statistician” on Google Trends (retrieved August 9, 2023). As social media, web recommender systems, and other modern use cases increased, companies started gathering much more granular data, such as clickstream data , which is data collected as a user browses a website or app. Another recent advance‐ ment is an average corporation being able to store the sheer amount of telemetry from machines and Internet of Things (IoT) devices. Previously, data scientists may have worked with data that was updated weekly or daily. Now, as many applications update more frequently or in real time, more infrastructure is needed to serve ML functionality in web products and apps, so more jobs have been created around those functions as well. In short: as the machine learning lifecycle grew more complex, more job titles were created to describe the new skills that a full ML team now requires. I’ll elaborate more on the job titles and ML lifecycle later in this chapter. All of this happened within the last decade, and companies don’t always change their job titles to reflect how the roles have become more specialized. Regardless, as a can‐ didate, knowing this history can help reduce confusion and frustration from applying for a job and finding the role is different from another company’s job with the exact same title. See Table 1-1 for previous trends in ML-related job titles and Table 1-2 for current trends in ML job titles. Table 1-1. Previous trends of ML and data job titles Table 1-2. Current trends of ML and data job titles With that history to explain why you will encounter different job titles, I’ll elaborate on each of these job titles and their responsibilities.',\n",
       "  'id': '9a2356679c'},\n",
       " {'chapter': 'CHAPTER 1',\n",
       "  'title': 'Machine Learning Roles and the Interview Process',\n",
       "  'section': 'Job Titles Requiring ML Experience',\n",
       "  'text': 'Here is a nonexhaustive list of job titles for ML (or closely related) roles: • Data scientist • Machine learning engineer • Applied scientist • Software engineer, machine learning • MLOps engineer • Product data scientist • Data analyst • Decision scientist • Research scientist As I discussed “A Brief History of Machine Learning and Data Science Job Titles” on page 3 , each role is responsible for a different part of the ML lifecycle. A job title alone does not convey what the job entails. As a job seeker, be warned: in different companies, completely different titles might end up doing similar jobs! As illustrated in Figure 1-3 , your ML job title will depend on the company, the team, and which part(s) of the ML lifecycle your role is responsible for. To give specific examples of how job titles can depend on the company or organiza‐ tion that is hiring for the job—based on real people I’ve spoken to, job descriptions, and job interviews—the person responsible for training ML models but not for build‐ ing the underlying platform might be called the following: • Software engineer (ML) or data scientist (Google) • Applied scientist (Amazon) • Machine learning engineer (Meta, Pinterest) • Data scientist (Elastic, the team where I work) • Data scientist (Unity) Figure 1-3. What’s in a machine learning job title? By the time this book is published, any of the job titles within these companies and teams may have changed. Regardless, it demon‐ strates the point that ML titles may vary between companies and even between different teams in the same company. The job title also depends on the organization, the department, and so on. Some departments in Google have the data scientist 12 job title, and some don’t. At the com‐ panies where I’ve worked, my teams had data scientists train ML models while MLEs built the infrastructure (working all day in tools such as Kubernetes, Terraform, Jen‐ kins, and so on). In some other companies, MLEs are the ones who train ML models. As a personal example, my work experience has heavily involved ML model training, so I apply for jobs that have the title “machine learning engineer” or “data scientist.” I’ll provide more examples of skills and roles that could be a good fit for your inter‐ ests and skills in the following sections. As mentioned in the Preface , this book focuses more on the industry applications of ML rather than research roles. Here’s a brief overview of research roles: Requirements Most often PhD. Responsibilities Similar to academic roles/academia, such as conducting research and coming up with novel algorithms and improvements, authoring papers, presenting at aca‐ demic conferences, and so on. If you’re in a research role in industry , such as a researcher at Google DeepMind, the main difference is that there isn’t a require‐ ment for teaching (that I know of).',\n",
       "  'id': '6d22154063'},\n",
       " {'chapter': 'CHAPTER 1',\n",
       "  'title': 'Machine Learning Roles and the Interview Process',\n",
       "  'section': 'Machine Learning Lifecycle',\n",
       "  'text': 'In industry, it is an expectation for applied ML projects to eventually improve the customer experience—for example, a better recommender system that shows the user more relevant videos, news, and social media posts. In industry, “customer” can also mean internal customers: people within the same company or organization. For example, your team builds ML models that predict demand, which helps your com‐ pany’s logistics department better plan its shipment schedules. Regardless of whether the user is external or internal, many components are involved in building a full the user is external or internal, many components are involved in building a fullfledged, end-to-end ML product. I’ll walk through a simplified example. First, there needs to be data, as most ML is trained and tested with large amounts of data. Someone needs to make sure the raw data is brought in (ingested) so that it’s easily accessible later on for data analysis, ML, reporting and monitoring, and so on. This is illustrated by step A (data) in Figure 1-4 . Next, with the data in place, someone with knowledge of ML algorithms and tools will use the data to start ML development. This is illustrated by step B (machine learning development) in Figure 1-4 . This involves feature engineering, model train‐ ing, and evaluation. If the results aren’t great, there is a lot of iteration in step B, and this person might enhance their feature engineering or model training, or even go back to step A and request that more data be ingested. Once there are somewhat satisfactory results, they’ll move on to step C (machine learning deployment), which connects the ML models to customers. Depending on the type of ML project, it could be deployed to a website, app, internal dashboard, and so on. Of course, they’d like to make sure the ML is working properly, so any good team will have a way to monitor the results. In ML there are two main types of potential issues. The first is that something in the software layer doesn’t work, such as bugs in the code. The second is a data or ML model issue—for example, in the model-development phase, the model outputs normal results, but after deployment/ release, there is data imbalance, so then the model results become undesirable. From step C onward, there can be more iteration back to step B to improve the models and run more experiments in step C again. Figure 1-4. Machine learning lifecycle (the graph is simplified for understanding). In the machine learning lifecycle I just walked through, a lot of skills are required. Data pipelines, model training, maintaining continuous integration and continuous deployment (CI/CD): as a job candidate, what should you be learning to prepare for the interview? Thankfully, as I mentioned in “A Brief History of Machine Learning and Data Science Job Titles” on page 3 companies nowadays might hire people who have a subset of these skills. For example, they need some people specialized in step A (data engineering), some specialized in step B (ML development), some in step C (ML deployment), and so forth. I emphasize the might since it still differs depending on the company or team; I will walk through some scenarios. Startup roles will usually wear more hats, meaning they will need to do the jobs in multiple steps in the machine learning lifecycle as illustrated in Figure 1-4 . Here’s an example: Usually, startup companies have the goal of shipping 13 an end-to-end product, but because they have fewer customers they might care less about the scale and stability (at an early stage). Hence, it’s more likely that the person developing and training ML models is the same person doing data analysis and presenting to stakeholders, or even the same person building the platform infrastructure. An ML team in a startup might simply have fewer people. For example, the startup might have 30 software engineers and data people in total, whereas larger corporations could have a team of data ana‐ lysts alone numbering 30 people to disperse the workload. If the company and/or team has grown enough, it is more likely the ML roles have become more specialized. Generally, the larger the team, the more specialized the role. If the “machine learning engineer” at a larger company trains models, then it’s likely they don’t wear two or three hats at once, as they might at a startup. Instead, the big company hires more people to fill those roles. That isn’t to say the work is simpler at a larger company. In fact, there’s often more data, more scale, and more downsides if the ML functionality goes down, so each MLE’s time could be com‐ pletely tied up wearing only one hat. Larger company size often corresponds to larger ML teams, but it depends. For example, a large company in a traditionally nontech industry, might have its first ML team hires operate in more of a startup-like environment while they figure out how ML best works for the company. Let’s go one level deeper and add more details of ML or data responsibilities. Figure 1-5 expands on the machine learning lifecycle from Figure 1-4 to reflect teams or companies with more fine-grained roles. (It’s worth repeating that even if this list is a useful and common enough heuristic, it’s still a bit simplified for illustration pur‐ poses since there will always be exceptions and outliers.) Figure 1-5. Machine learning lifecycle with more fine-grained roles (extended version of Figure 1-4 ). Here’s an example of what your role might be responsible for within these more fine Here’s an example of what your role might be responsible for within these more finegrained roles, as illustrated in Figure 1-5 : • You build the data pipelines for analytics and ML (step A). • You train ML models (step B). • You build the infrastructure for ML models to be deployed (step C.1). • You design and conduct hypothesis testing, often A/B tests, for new ML product features (step C.2). • You do data analysis, build reports and dashboards, and present to stakeholders (step D). Figure 1-5 is often referred to in later chapters, so save or book‐ mark it!',\n",
       "  'id': '61153e0cc4'},\n",
       " {'chapter': 'CHAPTER 1',\n",
       "  'title': 'Machine Learning Roles and the Interview Process',\n",
       "  'section': 'The Three Pillars of Machine Learning Roles',\n",
       "  'text': 'To set the stage for the rest of the book, I’ll go over what I call the three pillars of ML and data science roles: • Machine learning algorithms and data intuition • Programming and software engineering skills • Execution and communication skills These are the broad categories of skills that you will be evaluated on during ML job interviews. This book focuses a lot on helping you understand these skills and bridge any gaps between your current experiences and skills and those under these three pillars (see Figure 1-6 ). All these skills will be expanded on in the following chapters. Figure 1-6. Three pillars of machine learning jobs. You’re able to understand the underlying workings of ML algorithms and statistics theory and their respective trade-offs—which is essential when you’re faced with an open-ended question in a real-world ML project at work. You’re not just following steps as you would for a school assignment. Having data intuition means that when you’re faced with a new problem, you know how to use data to solve it; and when you encounter new data or data sources, you know how to dive in to evaluate them. You ask yourself, is this data suitable for ML? What types of ML models might it be suitable for? Are there any issues with the data before you can use it for ML? You know what to ask and how to find the answers. In the ML job-interview process, various types of interviews and interview questions are aimed at assessing a candidate’s knowledge and readiness in this pillar, which I’ll cover in Chapters 3 and 4 . While working on a project, you have the programming skills required to deliver, such as manipulating data with Python or using an internal deploy process so that another team can use the results from the ML model. Even if you know the theory well, without the programming or software engineer‐ ing 14 sense, you can’t make ML materialize out of thin air. You need to use code to connect the data with ML algorithms, which are also implemented with code—that is, you must convert theory to practice. Other programming skills in high demand for ML roles are the (software) engineer’s ability to transition from prototype to production—that is, the ML is integrated and released. Some roles are responsible for end-to-end ML: from researching and train‐ ing models to deployment and production. Some ML roles, such as MLOps engi‐ neers, are responsible for building software infrastructure that can handle the demands of processing large amounts of data to send ML responses to users in sec‐ onds or even milliseconds. In the ML job-interview process, various types of interviews and interview questions assess a candidate’s skills in this pillar, which I’ll walk through in Chapters 5 and 6 . You’re able to work with people who aren’t in the same role as you. In ML, we work with software engineers, data engineers, product managers, and many other collea‐ gues. The ability to get things done in a team encompasses a few soft skills such as communication and some project management skills. For example, being unable to communicate with team members is a real blocker 15 for projects and could cause your ML projects to languish or even be deprioritized. Even in cases where you work with only one person (say, your boss), you still need to be able to report on your projects, which requires communication skills. Consequently, in the ML field a highly in-demand skill is being able to communicate technical con‐ cepts with nontechnical stakeholders. You’ll also need some project management skills to keep your tasks on track. We all learn to how manage our to-do lists and calendars during the process of education or self-learning, but it’s more chaotic since now your project calendar depends on oth‐ ers’ calendars and priorities. Even if you have a project and/or product manager to keep the team on track, you still need to manage yourself to some extent. Without soft skills, things don’t get done, full stop. Don’t be that candidate who focu‐ ses only on technical skills but neglects building and demonstrating their soft skills in interviews. I’ll delve into the details of how ML interviews evaluate candidates on this pillar in Chapter 7 . Growing your skills in all three ML pillars is a tall order, and for entry-level roles you’re usually only expected to have a minimum (such as a 3/10) for each pillar, as illustrated in Figure 1-7 . For example, a job candidate who has some exposure to pro‐ gramming, even if they aren’t skilled or experienced, can be taught to improve. Ideally, you’d be stronger on at least one pillar (such as 5/10 for programming) that is most related to the particular ML role in order to stand out from other job candidates. Figure 1-7. Minimum required skill levels for ML jobs (example). For senior roles, the bare minimum requirements are higher, but a similar rule of thumb applies: clear the minimum skill requirements. From then on, you’ll be com‐ pared with other candidates on the skills that you are great in, depending on the role. Data scientists who only train ML models but don’t deploy them might not need to develop their programming skills as much as their ML theory and communication skills. For entry level roles, I’d argue that the communication pillar has a lower requirement (but not 0/10, please!) because it takes the hard-earned experience of working with a larger group of people, including nontechnical teammates, to raise it higher. This also gives some candidates an edge in this pillar: for those with a nontraditional back‐ ground, such as candidates who are self-taught or switching from software engineer roles or another field, the ability to adeptly tell a story and showcase a portfolio can set them apart from other candidates. Now that you’ve had an overview of the three pillars, you can use this mental model to stand out.',\n",
       "  'id': '535fe561d2'}]"
      ]
     },
     "execution_count": 8,
     "metadata": {},
     "output_type": "execute_result"
    }
   ],
   "source": [
    "documents[0:5]"
   ]
  },
  {
   "cell_type": "code",
   "execution_count": 9,
   "metadata": {},
   "outputs": [],
   "source": [
    "with open('../data/documents_with_ids.json', 'wt') as f_out:\n",
    "    json.dump(documents, f_out, indent=2, ensure_ascii=False)"
   ]
  },
  {
   "cell_type": "markdown",
   "metadata": {},
   "source": [
    "# Ollama"
   ]
  },
  {
   "cell_type": "code",
   "execution_count": 10,
   "metadata": {},
   "outputs": [],
   "source": [
    "client = ollama.Client()"
   ]
  },
  {
   "cell_type": "markdown",
   "metadata": {},
   "source": [
    "Prompt parameters used:\n",
    "- << SYS>>...<</ SYS>>: Defines the behavioural rules of the model.\n",
    "\n",
    "- [INST]...[/INST]: Defines the instruction or the task that the model has to follow."
   ]
  },
  {
   "cell_type": "code",
   "execution_count": 11,
   "metadata": {},
   "outputs": [],
   "source": [
    "prompt = \"\"\"\n",
    "<<SYS>>\n",
    "You are an interviewer preparing for technical interviews for a data scientist position.\n",
    "Make sure that the questions are relevant to the data scientist role, avoid any question related to any website, figure, image, table, or reference to other chapters in the book. \n",
    "Do not include any form of enumeration or numbering.\n",
    "Do not include any form of introduction to the questions. Return ONLY the questions.\n",
    "Ensure each question is no longer than 15 words each.\n",
    "Don't ask for examples of things. \n",
    "<</SYS>>\n",
    "\n",
    "The record:\n",
    "\n",
    "chapter: {chapter}\n",
    "title: {title}\n",
    "text: {text}\n",
    "\n",
    "[INST] Generate only FIVE brief questions in a free-form style without any introduction before: [/INST]\n",
    "\"\"\"\n"
   ]
  },
  {
   "cell_type": "markdown",
   "metadata": {},
   "source": [
    "Observations:\n",
    "\n",
    "There can be a lot of room for improvement in the prompt configuration but I left it like this since the scope of this project is to focus on the good performance of the chatbot and the model produces a decent set of questions."
   ]
  },
  {
   "cell_type": "code",
   "execution_count": 12,
   "metadata": {},
   "outputs": [],
   "source": [
    "def generate_questions(doc):\n",
    "    message_content = prompt.format(chapter=doc['chapter'], title=doc['title'], text=doc['text'])\n",
    "    \n",
    "    response = client.chat(model=\"llama2\", messages=[{\"role\": \"user\", \"content\": message_content}])\n",
    "    \n",
    "    if 'message' in response and 'content' in response['message']:\n",
    "        content = response['message']['content']\n",
    "        \n",
    "        return content.strip()  \n",
    "    return \"\""
   ]
  },
  {
   "cell_type": "code",
   "execution_count": 13,
   "metadata": {},
   "outputs": [
    {
     "data": {
      "application/vnd.jupyter.widget-view+json": {
       "model_id": "83dabd09bf5b4273a033163adb84eccf",
       "version_major": 2,
       "version_minor": 0
      },
      "text/plain": [
       "  0%|          | 0/48 [00:00<?, ?it/s]"
      ]
     },
     "metadata": {},
     "output_type": "display_data"
    }
   ],
   "source": [
    "results = {}\n",
    "\n",
    "for doc in tqdm(documents): \n",
    "    doc_id = doc['id']\n",
    "    questions = generate_questions(doc) \n",
    "    results[doc_id] = questions \n"
   ]
  },
  {
   "cell_type": "code",
   "execution_count": 14,
   "metadata": {},
   "outputs": [
    {
     "name": "stdout",
     "output_type": "stream",
     "text": [
      "results = {'86fd49a66d': '1. How do you evaluate the performance of a machine learning model?\\n2. What is your approach to handling missing data in a dataset?\\n3. Can you explain the difference between supervised and unsupervised learning?\\n4. How do you ensure interpretability of a complex machine learning model?\\n5. Can you describe your experience with distributed computing technologies like Hadoop or Spark?', '9a2356679c': '1. How have advances in distributed and parallel computing impacted the availability and accessibility of large datasets for machine learning research?\\n2. What are some common job titles in the field of machine learning, and how have they evolved over time?\\n3. How has the increasing recognition of machine learning and related topics from the broader population affected the job market for these roles?\\n4. Can you describe a specific example of how a generative AI model, such as ChatGPT, was able to perform a task that was previously thought to be the exclusive domain of humans?\\n5. How have advances in Kubernetes and other ML infrastructure tools affected the creation of new job titles and roles within the field of machine learning?', '6d22154063': '1. How do you handle data preprocessing and feature engineering for machine learning models?\\n2. Can you explain the difference between supervised, unsupervised, and reinforcement learning?\\n3. How do you approach model selection and evaluation for a given problem?\\n4. Can you walk me through your experience with data visualization tools and techniques?\\n5. How do you stay up-to-date with the latest developments in machine learning and related fields?', '61153e0cc4': '1. What are some common challenges you face when building data pipelines for analytics and ML? How do you overcome them?\\n2. Can you walk me through your approach to feature engineering in ML development? What are some key considerations?\\n3. How do you ensure the quality of the data used for ML model training? What metrics or techniques do you use?\\n4. In what scenarios might you need to iterate back to step B in the machine learning lifecycle? How do you handle these iterations?\\n5. Can you describe a time when you had to monitor and maintain ML models after deployment? What tools or techniques did you use?', '535fe561d2': '1. How do you determine suitable data sources for machine learning models? What factors do you consider?\\n\\n2. Can you describe a time when you encountered a difficult ML problem, and how did you approach it?\\n\\n3. In what ways do you ensure that your ML models are interpretable and explainable to non-technical stakeholders?\\n\\n4. How do you balance the trade-offs between model accuracy and deployment time in real-world ML projects?\\n\\n5. Can you walk me through a project where you had to collaborate with cross-functional teams, and how did you handle any communication or project management challenges that arose?', 'f0d1a5d7be': '1. How do you identify the most important skills for a machine learning role, and how do you prioritize them?\\n2. Can you explain the difference between ML development, ML hypothesis testing/monitoring, and reports/dashboards in the context of job titles?\\n3. How do you map a job title to the different stages of the ML lifecycle, and what factors do you consider when making this mapping?\\n4. What are some common challenges you face when applying for machine learning roles, and how do you overcome them?\\n5. Can you walk me through your process for learning new skills and technologies in a short period of time, and how do you determine which ones to focus on?', '6e80eb677b': '1. How do you handle missing data in a machine learning model?\\n2. Can you explain the difference between supervised and unsupervised learning?\\n3. How would you approach a project involving natural language processing?\\n4. What is your understanding of cross-validation in machine learning?\\n5. How do you ensure that a model is interpretable and explainable to stakeholders?', '2337809957': '1. Can you tell me about a time when you had to troubleshoot an issue with a machine learning model? How did you approach the problem and what was the outcome?\\n2. How do you handle missing or erroneous data in a dataset? Can you walk me through your process for dealing with these issues?\\n3. How do you stay current with developments in the field of machine learning? Can you give an example of a recent paper or article that you found particularly interesting and why?\\n4. Can you describe a project where you had to work closely with cross-functional teams (e.g., data scientists, engineers, product managers)? How did you ensure effective communication and collaboration throughout the project?\\n5. Have you ever had to make a presentation or pitch to a non-technical audience about a machine learning project? Can you walk me through your approach for distilling complex technical concepts into easily digestible information for a layperson?', 'e3868ef048': '1. How do you optimize your resume and application materials for machine learning job applications?\\n2. What are some effective strategies for searching and finding machine learning job listings beyond traditional job boards?\\n3. How do you demonstrate your understanding of the field and its current trends in a machine learning job interview?\\n4. Can you walk me through your approach to evaluating and selecting the most relevant machine learning algorithms for a particular problem or project?\\n5. How do you stay up-to-date with the latest developments and advancements in the field of machine learning, and how do you apply them in your work?', '114486e1a1': \"Of course! Here are five brief questions to help you get started with your networking efforts:\\n\\n1. What events or conferences are happening in your industry that you could attend?\\n2. Can you think of anyone you know who works at a company you're interested in? Why not reach out and grab coffee or lunch with them?\\n3. How can you leverage social media to connect with people in your industry? What platforms do you use most frequently?\\n4. Are there any alumni groups or networks from your university that you could tap into for networking opportunities?\\n5. What are some ways you could give back to the community or volunteer your time to help build connections and visibility within your industry?\", '195ee8d52d': 'Sure! Here are five brief questions for you to consider:\\n\\n1. What experience do you have working with cross-functional teams, and how have you successfully collaborated with different stakeholders in the past?\\n2. Can you describe a time when you had to quickly learn a new technical skill or tool to solve a problem or meet a deadline? How did you approach the learning process?\\n3. How do you stay current with the latest developments and advancements in machine learning, and how have you applied them in your work?\\n4. Can you give an example of a time when you had to communicate complex technical concepts to a non-technical audience, such as a product manager or business leader? How did you approach the communication?\\n5. How do you approach problem-solving in a machine learning context, and what strategies have you found most effective for success?', '59be39571f': '1. How do you tailor your resume and cover letter for a data scientist position when applying to job boards?\\n2. What are some common job titles in the field of machine learning, and how do you determine which roles best fit your skills and experience?\\n3. How do you approach interviewing for a data scientist position, and what questions do you expect to be asked?\\n4. Can you provide an example of how you would map your skills to a matrix like the one in Figure 1-8?\\n5. How do you determine which job postings to apply for given your experience and skills, and what factors do you consider when deciding whether or not to apply?', 'c80e9a7eaf': '1. How important is it to include keywords from the job description on a resume?\\n2. What are some common mistakes people make when formatting their resumes?\\n3. Can including a profile picture on a resume in North America be beneficial?\\n4. How long should a resume be for industry jobs in North America and other parts of the world?\\n5. Are there any specific sections or formats that are more important than others on a resume when applying to industry jobs?', '072c02694c': \"1. What are some common challenges you face when working with imbalanced datasets, and how do you address them?\\n2. Can you walk me through a time when you had to optimize a complex and slow query in Python or another programming language? How did you approach the problem, and what was the outcome?\\n3. How do you stay up-to-date with the latest developments and trends in machine learning theory and algorithms? Can you give an example of a recent paper or article that caught your attention?\\n4. Have you ever worked on a project where you had to integrate machine learning models with other software tools or systems? If so, can you describe the experience and how you overcame any challenges that arose?\\n5. How do you approach data visualization and communication in your work as a data scientist? Can you give an example of a particularly effective visualization you've created and what insights it conveyed to stakeholders?\", '331444d407': '1. How do you define and differentiate between supervised and unsupervised learning? Can you provide examples of each?\\n2. What are some common techniques used in natural language processing (NLP)? How do you apply these techniques in real-world applications?\\n3. Explain reinforcement learning and how it differs from other machine learning paradigms. Can you give an example of a problem that could benefit from this approach?\\n4. Describe your experience with computer vision tasks, such as image classification or object detection. How do you approach these problems, and what algorithms have you found to be most effective?\\n5. Can you walk me through your thought process when approaching a new machine learning problem? What are some key considerations you make when deciding on the appropriate algorithm or technique to use?', 'd0f8681a67': '1. How do L1 and L2 regularization differ in terms of their impact on the coefficients of a ML model?\\n\\n2. What are some techniques that can be used to handle imbalanced datasets in ML, and how do they work?\\n\\n3. Can you explain the concept of bias-variance tradeoff in ML, and how does regularization fit into this tradeoff?\\n\\n4. How does oversampling work in practice, and what are some potential issues that can arise when using this technique?\\n\\n5. Can you discuss the advantages and disadvantages of using ensemble methods such as bagging and boosting in ML?', '0ce98a8968': '1. What are some common problems that can affect supervised learning? How do they impact the accuracy of the model?\\n2. Can you give an example of when unsupervised learning is more suitable than supervised learning? What are some real-world applications of each type of learning?\\n3. How does data augmentation help improve the robustness of a machine learning model? Can you provide an example of how it can be applied in image recognition tasks?\\n4. How do you handle a situation where there is not enough labeled data for a specific classification task? What are some strategies that you have used to overcome this challenge?\\n5. Can you explain the difference between a receiver operating characteristic (ROC) curve and an area under the ROC (AUC) metric? How do these metrics evaluate the performance of a binary classification model?', 'a89864b52f': \"1. How do you determine which preprocessing techniques to use for a specific NLP task, and how do you decide when to keep or remove punctuation?\\n2. Can you explain the difference between stemming and lemmatization in NLP, and provide an example of how each technique works?\\n3. What are some potential challenges with using pretrained language models for NLP tasks, and how can these challenges be addressed through fine-tuning or additional data?\\n4. How do you handle domain-specific language or sarcasm in NLP tasks, and what techniques can be used to improve the model's understanding of these concepts?\\n5. Can you discuss the importance of adaptability in NLP applications, and how it relates to preprocessing and fine-tuning models for specific tasks.\", 'a6426309ff': '1. How do you address data quality issues in recommender systems?\\n2. What are some possible solutions to handle cold start problems in recommender systems?\\n3. Can you explain the difference between explicit and implicit feedback in recommender systems?\\n4. How do you combine oversampling techniques with other methods to handle class imbalance in recommender systems?\\n5. Can you provide examples of when it makes sense to use reinforcement learning or NLP techniques in combination with recommender systems?', '4ef8a420bc': '1. How does the epsilon-greedy policy help balance exploration and exploitation in reinforcement learning?\\n2. What is the purpose of experience replay in deep Q-networks, and how does it improve training stability?\\n3. Can you explain a scenario where model-based RL might be more feasible than model-free RL?\\n4. How do you investigate a reward function to ensure that an RL agent is not exploiting perverse behavior?\\n5. What are some advantages of using model-free RL in real-world applications, and how can it help overcome challenges related to modeling complex environments?', '914e36400a': 'Of course! Here are five brief questions about machine learning and computer vision:\\n\\n1. How do you handle class imbalance in image recognition tasks, and what methods have been most effective for you?\\n2. Can you explain the difference between early stopping and regularization in preventing overfitting in neural networks?\\n3. How do you ensure that the thumbnails used for movies on Netflix accurately represent the content of the movie?\\n4. What are some common techniques used in data augmentation for computer vision tasks, and how do they help improve model performance?\\n5. Can you discuss the importance of normalization in image recognition tasks, and how it can impact the accuracy of a model?', '005a577345': '1. How do you determine when an ML algorithm is good enough for practical use?\\n2. Can you think of any scenarios where using heuristics instead of ML might be more appropriate?\\n3. How do you handle overfitting in model training and evaluation?\\n4. What are some common trade-offs between different ML algorithms in different scenarios, and how do you select the best one for a given problem?\\n5. In what situations might using a baseline model or heuristic be more appropriate than using an ML algorithm, and how do you decide?', '99eacbbf97': \"1. How do you handle missing data during feature engineering?\\n2. What techniques do you use to reduce the dimensionality of high-dimensional datasets during preprocessing?\\n3. Can you explain the concept of label encoding and how it's used in ML algorithms?\\n4. How do you ensure that your features are not leaking into the validation or test sets during training?\\n5. What are some common techniques used for feature selection in ML, and why is it important to perform feature selection before training a model?\", '0720f39c5b': \"1. What are some common loss functions used in machine learning? Can you explain their purpose and how they work?\\n2. How do optimizers work to adjust the model's parameters to minimize the loss function? Can you name a few popular optimizers and their characteristics?\\n3. What is experiment tracking, and why is it important to keep track of hyperparameter-tuning experiments? Can you mention some common tools used for experiment tracking in machine learning?\\n4. How do RL algorithms differ from tree-based methods in terms of their use cases? Can you give an example of a problem where one type of algorithm would be more suitable than the other?\\n5. What are some common regularization techniques used to prevent overfitting in machine learning? Can you explain how they work and what types of models they are typically applied to?\", '0720f39c5b-1': \"1. What techniques do you use to evaluate the performance of an ML model, and how do you determine which one is best for a particular task?\\n2. How do you handle missing or invalid data during the preprocessing stage, and what strategies do you employ to mitigate its impact on the model's performance?\\n3. Can you explain the concept of model drift and how it can affect the accuracy of an ML model over time? How do you address this issue in your projects?\\n4. In what scenarios would you use a baseline model in an ML project, and how do you determine when to switch from a baseline model to a more complex ML model?\\n5. Can you walk me through the process of feature engineering and selection for an ML task, and how do you prioritize which features to include in the model?\", 'e5aff76113': '1. Write a Python function to find the top 3 most frequent items in a list of integers, and return them as a list. How would you optimize this function for large datasets?\\n2. Given a list of integers, create a Python class that implements a simple bank account with deposit, withdraw, and balance methods. How would you handle errors and edge cases in this implementation?\\n3. Write a Python brainteaser to reverse a list of numbers without using any built-in reversal functions. Can you solve it in under 10 lines of code?\\n4. Given a SQL table with multiple columns, write a Python function to group the data by one column and calculate the average value of another column within each group. How would you handle missing or null values in this calculation?\\n5. Write a Python function to take a list of strings as input and return the longest common prefix between any two strings in the list. Can you optimize this function for efficiency in large datasets?', '6d7e81991e': '1. How do you handle it when you are close to solving a problem during an interview, but the interviewer is in a hurry?\\n2. What advice would you give to candidates regarding how to manage their time during technical interviews?\\n3. Can you share any experiences or tips on how to ask for help during an interview without appearing unprepared?\\n4. How do you ensure that you are in a quiet environment during video calls, and what virtual background options are available on popular video conferencing platforms?\\n5. What is the most important factor to consider when taking an on-site interview, and how can candidates prepare for it?', 'b00775576b': \"1. Can you explain the difference between a bias and a variance in machine learning? Give an example for each.\\n2. How would you approach a recommendation system for a new user who has no prior activity or connections on a social media platform? What factors would you consider when designing the model?\\n3. Imagine a scenario where a company wants to predict which customers are most likely to churn within the next 30 days. What types of data and features would you consider critical for building an accurate prediction model? Why?\\n4. How do you handle missing values in a dataset, especially when working with machine learning models? Can you walk me through your thought process?\\n5. If you were tasked with building a predictive model to forecast the number of clicks on a website based on various factors such as time of day, day of the week, and recent weather patterns, what types of data sources would you consider leveraging beyond just the website's historical click data? Explain your reasoning.\", '16c46692ba': '1. What is the most efficient way to find two numbers in an array that add up to a given target value? How would you optimize your solution?\\n2. Can you come up with a solution using only one pointer to find two numbers in an array that multiply to a given target value? How would you implement this solution?\\n3. What is the most efficient way to find the sum of all pairs of numbers in an array such that the total value of each pair adds up to a given target value? How would you optimize your solution?\\n4. Can you come up with a solution using only one pointer to find the maximum number of pairs of numbers in an array such that the total value of each pair is less than or equal to a given target value? How would you implement this solution?\\n5. What is the most efficient way to find two numbers in an array that are as far apart as possible while still adding up to a given target value? How would you optimize your solution?', 'ae2aa1ca31': '1. Design a database schema to store information about movies, including titles, directors, genres, and release dates. How would you normalize the data?\\n2. Write a query to find the average rating of all movies released in a particular year. What types of subqueries do you think you might need to use to write this query?\\n3. Explain the concept of join operations in SQL, using examples from real-world scenarios. How would you optimize a complex join operation for performance?\\n4. Imagine you are working with a dataset containing information about customer purchases at an online retailer. Write a query to find the top 5 products purchased by customers in a specific geographic region. How would you handle missing data or invalid addresses in the dataset?\\n5. Given two tables, one containing movie titles and the other containing director names, write a query to find all movies directed by a particular director. How would you handle ambiguous or missing information in either table?', 'dbd8460895': '1. Given a list of numbers, find the first pair of elements that add up to a given target value. How would you optimize your solution?\\n2. Write a function to check if a given string is a palindrome. How would you optimize your solution?\\n3. Given an array of integers, find the maximum subarray that sums to a given target value. How would you optimize your solution?\\n4. Write a function to reverse a linked list. How would you optimize your solution?\\n5. Given a matrix of integers, find the largest square submatrix that contains all the numbers in the original matrix. How would you optimize your solution?', 'f45e93a39b': '1. How do you optimize ML model inputs to ensure fast runtime execution for production use cases? Can you provide examples of such optimizations?\\n\\n2. What are some common bottlenecks that ML engineers face during deployment, and how do you troubleshoot them? Can you share any success stories or lessons learned from your past experiences?\\n\\n3. How do you approach debugging ML models in production environments, especially when the issue is intermittent or hard to reproduce? What tools or techniques do you find most useful for this purpose?\\n\\n4. In a large organization with an established CI/CD pipeline, how would you ensure that your ML model updates are properly integrated and deployed without disrupting the existing workflows? Can you walk us through your process for achieving this?\\n\\n5. How do you stay up-to-date with the latest developments in ML deployment technologies and practices, especially those related to on-device or edge deployments? Can you share any resources or communities that you find particularly helpful in staying informed?', '2e54c275a1': '1. How do you monitor accuracy-related metrics for machine learning models in production?\\n2. What are some common tools used for data quality checks and monitoring in ML?\\n3. How do you set up automated data checks or unit tests to ensure model performance and accuracy?\\n4. Can you give an example of how you would investigate a sudden drop in model accuracy without complete feedback loops?\\n5. How do you handle situations where the output of the ML model leads to incorrect results despite high accuracy, and what steps do you take to address it?', '95d66e0b67': \"1. How do you manage and organize your code and data when working on multiple projects or datasets simultaneously?\\n2. What are some of the key differences between GCP's Cloud Storage and AWS' S3, and how do you choose which one to use in a given scenario?\\n3. Can you describe a time when you had to deploy a machine learning model to a production environment, and what challenges did you encounter during the deployment process? How did you resolve them?\\n4. How do you stay up-to-date with the latest developments and advancements in the field of machine learning, particularly in the context of cloud computing and GCP/AWS?\\n5. Can you walk me through your experience with Cloud SQL, BigQuery, or other Google Cloud databases, and how have you used them in a data science/ML workflow?\", 'acad0ef561': \"1. How do you approach learning new software development skills, and how do you apply them to your work?\\n2. Can you walk me through a time when you had to debug a complex issue in your codebase? How did you go about solving it?\\n3. How do you handle code reviews and feedback from team members? Can you give an example of a constructive comment you've received and how you incorporated it into your work?\\n4. Have you ever used version control for a personal project or school assignment? If so, can you describe the process you went through and any challenges you faced?\\n5. How do you ensure that your code is portable and easy to integrate with other team members' work in a collaborative software development workflow? Can you give an example of a tool or practice you've used to achieve this?\", '9ebc3f2b8d': \"1. Can you describe a time when you had to scale an ML model rapidly due to increased traffic? How did you handle it?\\n2. How do you monitor the performance of a production ML application, and what tools do you use?\\n3. In your experience, how have you handled data drift in an ML model over time? What methods have you found most effective?\\n4. Can you walk me through a time when you had to integrate an ML model into a larger software system? What challenges did you encounter during the integration process?\\n5. How do you ensure that your ML models are compliant with relevant data privacy regulations, such as GDPR or CCPA? Can you give me an example of a specific strategy you've used in the past to address this issue?\", 'f6f741906a': '1. How do you explain technical and nontechnical concepts to an audience with varying levels of familiarity?\\n2. What strategies have you used to connect with interviewers who work in different domains or companies?\\n3. How do you provide context for acronyms, technologies, or terms that the interviewer may not be familiar with?\\n4. In what situations might you adjust the level of detail when explaining technical concepts during an interview?\\n5. Can you give an example of how you provided context for a ML model or technology during an interview?', 'f6620b37bc': '1. How do you handle working with someone who has a different communication style than you?\\n2. Can you describe a time when you had to adapt to a new technology or tool for a project? How did you approach the learning process?\\n3. Have you ever had to balance competing priorities in a project? How did you manage your time and resources to meet deadlines?\\n4. Tell me about a time when you had to explain a complex technical concept to a non-technical person. How did you approach the explanation?\\n5. Can you walk me through how you handle feedback from a colleague or manager? What steps do you take to incorporate their suggestions into your work?', '052c470148': '1. Can you describe a time when you had to troubleshoot an issue in your ML project without clear instructions? How did you approach it?\\n2. Give an example of a transferable skill you have from a non-ML field that has helped you in your ML work? How did you apply it?\\n3. Tell me about a situation where you had to lead a team in completing an ML project. What was your role, and how did you ensure everyone stayed on track?\\n4. Have you ever encountered a difficult technical or behavioral challenge during an interview for an ML position? How did you handle it?\\n5. Can you walk me through the process of building a self-directed ML project from start to finish? What were some of the challenges you faced along the way, and how did you overcome them?', '322f155e7d': '1. Can you give an instance of when you had to raise the bar for your team or project? How did you go about it?\\n2. Tell me about a time when you made a decision due to curiosity. What was the outcome?\\n3. Give an example of a time when you went above and beyond your normal responsibilities. What motivated you?\\n4. Can you give an instance of a conflict you resolved, and how did you handle it?\\n5. Describe a moment when you had to think creatively to solve a problem. How did you come up with the solution?', 'e123c4c971': \"1. What parts of the ML lifecycle are you most interested in working on at work?\\n2. How do you assess your skills in relation to the requirements for the role you're targeting?\\n3. Can you identify the types of interviews that might be most relevant for the role you're aiming to fill?\\n4. What steps are you taking to tidy up your resume and make it more relevant to the data scientist position?\\n5. How long do you plan to prepare for interviews before starting to apply, and what milestones have you set for yourself during that time frame?\", '995cfd588e': '1. How do you plan to structure your study schedule for data scientist interviews?\\n2. What strategies will you use to stay motivated and focused during the interview preparation process?\\n3. How will you prioritize your studying topics based on their importance and relevance to the interview?\\n4. Can you describe a time when you had to adjust your plans due to unforeseen circumstances, and how did you handle it?\\n5. How do you balance your study schedule with other life commitments, such as work or family obligations?', '561ddf5f64': '1. What methods have you found most helpful for staying accountable and motivated during interview preparation?\\n2. How do you handle moments of stuckness or burnout during your preparation, and what strategies do you find most effective?\\n3. In what ways do you think sharing progress with a friend or mentor can be beneficial for interview preparation, and have you tried this approach before?\\n4. How do you incorporate breaks into your Pomodoro Technique sessions to avoid burnout and maintain focus throughout your preparation?\\n5. Have you found that being your own accountability buddy is more or less effective than sharing progress with others, and why do you think that is?', '6dadcd84bd': \"1. How do you assess your knowledge gaps and areas for improvement when preparing for an interview?\\n2. Can you tell me about a time when you had to learn a new skill or technology quickly for a project? How did you approach the task?\\n3. How do you handle impostor syndrome in your career, especially during interviews?\\n4. How do you ensure that you're providing value to the team and contributing to the project's success during an interview?\\n5. Can you describe a situation where you had to communicate complex technical concepts to a non-technical audience? How did you approach the communication?\", '22eb7b9b30': \"1. How do you handle it when you encounter a new scenario during an interview that you haven't practiced before?\\n2. Can you share a time when you had to follow up with an interviewer after an interview, and how did you approach the follow-up email?\\n3. What is your strategy for optimizing your job search by taking notes after each interview?\\n4. How do you handle it when you don't hear back from the interviewer after a reasonable amount of time has passed?\\n5. Can you share an example of a thank-you note you sent after an interview, and how did you tailor it to the specific role and company?\", '1026686599': '1. How do you handle rejection during the job search process?\\n2. What is your approach to networking and building relationships with potential employers and industry professionals?\\n3. Can you share an instance where you tailored your resume to a specific ML role, and how did that impact the number of interviews you received?\\n4. How do you stay motivated and positive during the job search process, especially when facing multiple rejections?\\n5. How do you prioritize your applications and interview preparation when there are multiple opportunities available?', 'dee0126444': '1. What is the vesting period for stocks or options in the offer, and how do you exercise options?\\n2. Are there any blackout periods for selling restricted stock units (RSUs) in the offer, and how long do they last?\\n3. Can you clarify the value of other forms of compensation included in the offer, such as year-end bonuses or profit sharing?\\n4. How much is the employer matching contribution to a retirement fund, and how often does it occur?\\n5. Are there any additional benefits included in the offer, such as health and dental insurance, maternity and parental leave, or other forms of support?', '2ca59d8bf2': '1. What are some common mistakes new data scientists make during the onboarding process, and how can they be avoided?\\n2. How important is it for data scientists to stay up-to-date with the latest technologies and trends in the field, and how can they go about doing so?\\n3. Can you share an experience where you had to navigate a complex product or project as a new hire in an ML role, and how did you approach it?\\n4. How do you ensure that your contributions to a project or team are valued and recognized, especially during the early stages of your ML career?\\n5. What advice would you give to someone just starting out in their ML career, and what are some key areas they should focus on to be successful in the long term?'}\n"
     ]
    }
   ],
   "source": [
    "print(f'results = {results}')"
   ]
  },
  {
   "cell_type": "markdown",
   "metadata": {},
   "source": [
    "# Parse questions"
   ]
  },
  {
   "cell_type": "markdown",
   "metadata": {},
   "source": [
    "In this version of the project, the Llama2 model from Ollama is being used and the output is parsed into the desired JSON format but the results are not optimal.\n",
    "\n",
    "The problems I faced are:\n",
    "- The model enumerates the questions anyways.\n",
    "- For some iterations the model produces an intro that is parsed as an independent question later. \n",
    "\n",
    "\n",
    "In future versions of the project, results could be optimized by adjusting certain model parameters such as temperature, the maximum number of tokens generated (max_tokens), frequency penalty, and presence penalty. Also further optimization of the prompt may lead to improved performance and more accurate outputs.\n"
   ]
  },
  {
   "cell_type": "code",
   "execution_count": 15,
   "metadata": {},
   "outputs": [],
   "source": [
    "data = []\n",
    "\n",
    "for text_id, questions in results.items():\n",
    "    # Split by new lines or bullet points\n",
    "    questions_list = questions.replace('•', '\\n').split('\\n')\n",
    "    \n",
    "    cleaned_questions = []\n",
    "    for question in questions_list:\n",
    "        # Clean up numbers, dots, and any extra spaces\n",
    "        cleaned_question = question.lstrip('0123456789. ').strip()\n",
    "        if cleaned_question:  \n",
    "            cleaned_questions.append(cleaned_question)\n",
    "    \n",
    "    # Add the cleaned questions to your data list\n",
    "    for question in cleaned_questions:\n",
    "        data.append({\n",
    "            'question': question,\n",
    "            'text_id': text_id\n",
    "        })\n",
    "\n",
    "\n",
    "df = pd.DataFrame(data, columns=['question', 'text_id'])\n"
   ]
  },
  {
   "cell_type": "code",
   "execution_count": 16,
   "metadata": {},
   "outputs": [],
   "source": [
    "# Save cleaned questions\n",
    "with open('../data/ground_truth_data.bin', 'wb') as f_out:\n",
    "    pickle.dump(data, f_out)"
   ]
  },
  {
   "cell_type": "code",
   "execution_count": 17,
   "metadata": {},
   "outputs": [],
   "source": [
    "for record in documents:\n",
    "    df.loc[df['text_id'] == record['id'], 'chapter'] = record['chapter']\n",
    "    df.loc[df['text_id'] == record['id'], 'title'] = record['title']\n",
    "    df.loc[df['text_id'] == record['id'], 'section'] = record['section']\n"
   ]
  },
  {
   "cell_type": "code",
   "execution_count": 18,
   "metadata": {},
   "outputs": [
    {
     "data": {
      "text/html": [
       "<div>\n",
       "<style scoped>\n",
       "    .dataframe tbody tr th:only-of-type {\n",
       "        vertical-align: middle;\n",
       "    }\n",
       "\n",
       "    .dataframe tbody tr th {\n",
       "        vertical-align: top;\n",
       "    }\n",
       "\n",
       "    .dataframe thead th {\n",
       "        text-align: right;\n",
       "    }\n",
       "</style>\n",
       "<table border=\"1\" class=\"dataframe\">\n",
       "  <thead>\n",
       "    <tr style=\"text-align: right;\">\n",
       "      <th></th>\n",
       "      <th>question</th>\n",
       "      <th>text_id</th>\n",
       "      <th>chapter</th>\n",
       "      <th>title</th>\n",
       "      <th>section</th>\n",
       "    </tr>\n",
       "  </thead>\n",
       "  <tbody>\n",
       "    <tr>\n",
       "      <th>0</th>\n",
       "      <td>How do you evaluate the performance of a machi...</td>\n",
       "      <td>86fd49a66d</td>\n",
       "      <td>CHAPTER 1</td>\n",
       "      <td>Machine Learning Roles and the Interview Process</td>\n",
       "      <td>Overview of This Book</td>\n",
       "    </tr>\n",
       "    <tr>\n",
       "      <th>1</th>\n",
       "      <td>What is your approach to handling missing data...</td>\n",
       "      <td>86fd49a66d</td>\n",
       "      <td>CHAPTER 1</td>\n",
       "      <td>Machine Learning Roles and the Interview Process</td>\n",
       "      <td>Overview of This Book</td>\n",
       "    </tr>\n",
       "    <tr>\n",
       "      <th>2</th>\n",
       "      <td>Can you explain the difference between supervi...</td>\n",
       "      <td>86fd49a66d</td>\n",
       "      <td>CHAPTER 1</td>\n",
       "      <td>Machine Learning Roles and the Interview Process</td>\n",
       "      <td>Overview of This Book</td>\n",
       "    </tr>\n",
       "    <tr>\n",
       "      <th>3</th>\n",
       "      <td>How do you ensure interpretability of a comple...</td>\n",
       "      <td>86fd49a66d</td>\n",
       "      <td>CHAPTER 1</td>\n",
       "      <td>Machine Learning Roles and the Interview Process</td>\n",
       "      <td>Overview of This Book</td>\n",
       "    </tr>\n",
       "    <tr>\n",
       "      <th>4</th>\n",
       "      <td>Can you describe your experience with distribu...</td>\n",
       "      <td>86fd49a66d</td>\n",
       "      <td>CHAPTER 1</td>\n",
       "      <td>Machine Learning Roles and the Interview Process</td>\n",
       "      <td>Overview of This Book</td>\n",
       "    </tr>\n",
       "    <tr>\n",
       "      <th>5</th>\n",
       "      <td>How have advances in distributed and parallel ...</td>\n",
       "      <td>9a2356679c</td>\n",
       "      <td>CHAPTER 1</td>\n",
       "      <td>Machine Learning Roles and the Interview Process</td>\n",
       "      <td>A Brief History of Machine Learning and Data S...</td>\n",
       "    </tr>\n",
       "    <tr>\n",
       "      <th>6</th>\n",
       "      <td>What are some common job titles in the field o...</td>\n",
       "      <td>9a2356679c</td>\n",
       "      <td>CHAPTER 1</td>\n",
       "      <td>Machine Learning Roles and the Interview Process</td>\n",
       "      <td>A Brief History of Machine Learning and Data S...</td>\n",
       "    </tr>\n",
       "    <tr>\n",
       "      <th>7</th>\n",
       "      <td>How has the increasing recognition of machine ...</td>\n",
       "      <td>9a2356679c</td>\n",
       "      <td>CHAPTER 1</td>\n",
       "      <td>Machine Learning Roles and the Interview Process</td>\n",
       "      <td>A Brief History of Machine Learning and Data S...</td>\n",
       "    </tr>\n",
       "    <tr>\n",
       "      <th>8</th>\n",
       "      <td>Can you describe a specific example of how a g...</td>\n",
       "      <td>9a2356679c</td>\n",
       "      <td>CHAPTER 1</td>\n",
       "      <td>Machine Learning Roles and the Interview Process</td>\n",
       "      <td>A Brief History of Machine Learning and Data S...</td>\n",
       "    </tr>\n",
       "    <tr>\n",
       "      <th>9</th>\n",
       "      <td>How have advances in Kubernetes and other ML i...</td>\n",
       "      <td>9a2356679c</td>\n",
       "      <td>CHAPTER 1</td>\n",
       "      <td>Machine Learning Roles and the Interview Process</td>\n",
       "      <td>A Brief History of Machine Learning and Data S...</td>\n",
       "    </tr>\n",
       "  </tbody>\n",
       "</table>\n",
       "</div>"
      ],
      "text/plain": [
       "                                            question     text_id    chapter  \\\n",
       "0  How do you evaluate the performance of a machi...  86fd49a66d  CHAPTER 1   \n",
       "1  What is your approach to handling missing data...  86fd49a66d  CHAPTER 1   \n",
       "2  Can you explain the difference between supervi...  86fd49a66d  CHAPTER 1   \n",
       "3  How do you ensure interpretability of a comple...  86fd49a66d  CHAPTER 1   \n",
       "4  Can you describe your experience with distribu...  86fd49a66d  CHAPTER 1   \n",
       "5  How have advances in distributed and parallel ...  9a2356679c  CHAPTER 1   \n",
       "6  What are some common job titles in the field o...  9a2356679c  CHAPTER 1   \n",
       "7  How has the increasing recognition of machine ...  9a2356679c  CHAPTER 1   \n",
       "8  Can you describe a specific example of how a g...  9a2356679c  CHAPTER 1   \n",
       "9  How have advances in Kubernetes and other ML i...  9a2356679c  CHAPTER 1   \n",
       "\n",
       "                                              title  \\\n",
       "0  Machine Learning Roles and the Interview Process   \n",
       "1  Machine Learning Roles and the Interview Process   \n",
       "2  Machine Learning Roles and the Interview Process   \n",
       "3  Machine Learning Roles and the Interview Process   \n",
       "4  Machine Learning Roles and the Interview Process   \n",
       "5  Machine Learning Roles and the Interview Process   \n",
       "6  Machine Learning Roles and the Interview Process   \n",
       "7  Machine Learning Roles and the Interview Process   \n",
       "8  Machine Learning Roles and the Interview Process   \n",
       "9  Machine Learning Roles and the Interview Process   \n",
       "\n",
       "                                             section  \n",
       "0                              Overview of This Book  \n",
       "1                              Overview of This Book  \n",
       "2                              Overview of This Book  \n",
       "3                              Overview of This Book  \n",
       "4                              Overview of This Book  \n",
       "5  A Brief History of Machine Learning and Data S...  \n",
       "6  A Brief History of Machine Learning and Data S...  \n",
       "7  A Brief History of Machine Learning and Data S...  \n",
       "8  A Brief History of Machine Learning and Data S...  \n",
       "9  A Brief History of Machine Learning and Data S...  "
      ]
     },
     "execution_count": 18,
     "metadata": {},
     "output_type": "execute_result"
    }
   ],
   "source": [
    "df.head(10)"
   ]
  },
  {
   "cell_type": "code",
   "execution_count": 19,
   "metadata": {},
   "outputs": [
    {
     "data": {
      "text/plain": [
       "text_id\n",
       "195ee8d52d      6\n",
       "114486e1a1      6\n",
       "914e36400a      6\n",
       "86fd49a66d      5\n",
       "535fe561d2      5\n",
       "f0d1a5d7be      5\n",
       "6d22154063      5\n",
       "9a2356679c      5\n",
       "2337809957      5\n",
       "6e80eb677b      5\n",
       "e3868ef048      5\n",
       "59be39571f      5\n",
       "c80e9a7eaf      5\n",
       "072c02694c      5\n",
       "331444d407      5\n",
       "61153e0cc4      5\n",
       "d0f8681a67      5\n",
       "0ce98a8968      5\n",
       "a6426309ff      5\n",
       "a89864b52f      5\n",
       "4ef8a420bc      5\n",
       "005a577345      5\n",
       "99eacbbf97      5\n",
       "0720f39c5b      5\n",
       "0720f39c5b-1    5\n",
       "e5aff76113      5\n",
       "6d7e81991e      5\n",
       "b00775576b      5\n",
       "16c46692ba      5\n",
       "ae2aa1ca31      5\n",
       "dbd8460895      5\n",
       "f45e93a39b      5\n",
       "2e54c275a1      5\n",
       "95d66e0b67      5\n",
       "acad0ef561      5\n",
       "9ebc3f2b8d      5\n",
       "f6f741906a      5\n",
       "f6620b37bc      5\n",
       "052c470148      5\n",
       "322f155e7d      5\n",
       "e123c4c971      5\n",
       "995cfd588e      5\n",
       "561ddf5f64      5\n",
       "6dadcd84bd      5\n",
       "22eb7b9b30      5\n",
       "1026686599      5\n",
       "dee0126444      5\n",
       "2ca59d8bf2      5\n",
       "Name: count, dtype: int64"
      ]
     },
     "execution_count": 19,
     "metadata": {},
     "output_type": "execute_result"
    }
   ],
   "source": [
    "id_counts = df['text_id'].value_counts()\n",
    "id_counts "
   ]
  },
  {
   "cell_type": "code",
   "execution_count": 20,
   "metadata": {},
   "outputs": [],
   "source": [
    "df_cleaned = df.copy()"
   ]
  },
  {
   "cell_type": "code",
   "execution_count": 21,
   "metadata": {},
   "outputs": [
    {
     "data": {
      "text/html": [
       "<div>\n",
       "<style scoped>\n",
       "    .dataframe tbody tr th:only-of-type {\n",
       "        vertical-align: middle;\n",
       "    }\n",
       "\n",
       "    .dataframe tbody tr th {\n",
       "        vertical-align: top;\n",
       "    }\n",
       "\n",
       "    .dataframe thead th {\n",
       "        text-align: right;\n",
       "    }\n",
       "</style>\n",
       "<table border=\"1\" class=\"dataframe\">\n",
       "  <thead>\n",
       "    <tr style=\"text-align: right;\">\n",
       "      <th></th>\n",
       "      <th>question</th>\n",
       "      <th>text_id</th>\n",
       "      <th>chapter</th>\n",
       "      <th>title</th>\n",
       "      <th>section</th>\n",
       "    </tr>\n",
       "  </thead>\n",
       "  <tbody>\n",
       "    <tr>\n",
       "      <th>183</th>\n",
       "      <td>How do you explain technical and nontechnical ...</td>\n",
       "      <td>f6f741906a</td>\n",
       "      <td>CHAPTER 7</td>\n",
       "      <td>Behavioral Interviews</td>\n",
       "      <td>Behavioral Interview Questions and Responses</td>\n",
       "    </tr>\n",
       "    <tr>\n",
       "      <th>184</th>\n",
       "      <td>What strategies have you used to connect with ...</td>\n",
       "      <td>f6f741906a</td>\n",
       "      <td>CHAPTER 7</td>\n",
       "      <td>Behavioral Interviews</td>\n",
       "      <td>Behavioral Interview Questions and Responses</td>\n",
       "    </tr>\n",
       "    <tr>\n",
       "      <th>185</th>\n",
       "      <td>How do you provide context for acronyms, techn...</td>\n",
       "      <td>f6f741906a</td>\n",
       "      <td>CHAPTER 7</td>\n",
       "      <td>Behavioral Interviews</td>\n",
       "      <td>Behavioral Interview Questions and Responses</td>\n",
       "    </tr>\n",
       "    <tr>\n",
       "      <th>186</th>\n",
       "      <td>In what situations might you adjust the level ...</td>\n",
       "      <td>f6f741906a</td>\n",
       "      <td>CHAPTER 7</td>\n",
       "      <td>Behavioral Interviews</td>\n",
       "      <td>Behavioral Interview Questions and Responses</td>\n",
       "    </tr>\n",
       "    <tr>\n",
       "      <th>187</th>\n",
       "      <td>Can you give an example of how you provided co...</td>\n",
       "      <td>f6f741906a</td>\n",
       "      <td>CHAPTER 7</td>\n",
       "      <td>Behavioral Interviews</td>\n",
       "      <td>Behavioral Interview Questions and Responses</td>\n",
       "    </tr>\n",
       "  </tbody>\n",
       "</table>\n",
       "</div>"
      ],
      "text/plain": [
       "                                              question     text_id    chapter  \\\n",
       "183  How do you explain technical and nontechnical ...  f6f741906a  CHAPTER 7   \n",
       "184  What strategies have you used to connect with ...  f6f741906a  CHAPTER 7   \n",
       "185  How do you provide context for acronyms, techn...  f6f741906a  CHAPTER 7   \n",
       "186  In what situations might you adjust the level ...  f6f741906a  CHAPTER 7   \n",
       "187  Can you give an example of how you provided co...  f6f741906a  CHAPTER 7   \n",
       "\n",
       "                     title                                       section  \n",
       "183  Behavioral Interviews  Behavioral Interview Questions and Responses  \n",
       "184  Behavioral Interviews  Behavioral Interview Questions and Responses  \n",
       "185  Behavioral Interviews  Behavioral Interview Questions and Responses  \n",
       "186  Behavioral Interviews  Behavioral Interview Questions and Responses  \n",
       "187  Behavioral Interviews  Behavioral Interview Questions and Responses  "
      ]
     },
     "execution_count": 21,
     "metadata": {},
     "output_type": "execute_result"
    }
   ],
   "source": [
    "repeated_ids = df_cleaned[df_cleaned['text_id'] == 'f6f741906a']\n",
    "repeated_ids"
   ]
  },
  {
   "cell_type": "markdown",
   "metadata": {},
   "source": [
    "The first question is just the introduction to the answer given by the model even though I explicitly clarified that I do not want that intro.\n",
    "\n",
    "Luckily this only happens in few iterations. "
   ]
  },
  {
   "cell_type": "code",
   "execution_count": 22,
   "metadata": {},
   "outputs": [],
   "source": [
    "ids_with_6_rows = id_counts[id_counts == 6].index\n",
    "\n",
    "rows_to_keep = []\n",
    "\n",
    "for id_ in ids_with_6_rows:\n",
    "    rows_for_id = df_cleaned[df_cleaned['text_id'] == id_]\n",
    "    rows_to_keep.append(rows_for_id.iloc[1:])\n",
    "\n",
    "remaining_rows = pd.concat(rows_to_keep)\n",
    "\n",
    "df_remaining = df_cleaned[~df_cleaned['text_id'].isin(ids_with_6_rows)]\n",
    "\n",
    "df_final = pd.concat([df_remaining, remaining_rows], ignore_index=True)"
   ]
  },
  {
   "cell_type": "code",
   "execution_count": 23,
   "metadata": {},
   "outputs": [
    {
     "data": {
      "text/html": [
       "<div>\n",
       "<style scoped>\n",
       "    .dataframe tbody tr th:only-of-type {\n",
       "        vertical-align: middle;\n",
       "    }\n",
       "\n",
       "    .dataframe tbody tr th {\n",
       "        vertical-align: top;\n",
       "    }\n",
       "\n",
       "    .dataframe thead th {\n",
       "        text-align: right;\n",
       "    }\n",
       "</style>\n",
       "<table border=\"1\" class=\"dataframe\">\n",
       "  <thead>\n",
       "    <tr style=\"text-align: right;\">\n",
       "      <th></th>\n",
       "      <th>question</th>\n",
       "      <th>text_id</th>\n",
       "      <th>chapter</th>\n",
       "      <th>title</th>\n",
       "      <th>section</th>\n",
       "    </tr>\n",
       "  </thead>\n",
       "  <tbody>\n",
       "    <tr>\n",
       "      <th>0</th>\n",
       "      <td>How do you evaluate the performance of a machi...</td>\n",
       "      <td>86fd49a66d</td>\n",
       "      <td>CHAPTER 1</td>\n",
       "      <td>Machine Learning Roles and the Interview Process</td>\n",
       "      <td>Overview of This Book</td>\n",
       "    </tr>\n",
       "    <tr>\n",
       "      <th>1</th>\n",
       "      <td>What is your approach to handling missing data...</td>\n",
       "      <td>86fd49a66d</td>\n",
       "      <td>CHAPTER 1</td>\n",
       "      <td>Machine Learning Roles and the Interview Process</td>\n",
       "      <td>Overview of This Book</td>\n",
       "    </tr>\n",
       "    <tr>\n",
       "      <th>2</th>\n",
       "      <td>Can you explain the difference between supervi...</td>\n",
       "      <td>86fd49a66d</td>\n",
       "      <td>CHAPTER 1</td>\n",
       "      <td>Machine Learning Roles and the Interview Process</td>\n",
       "      <td>Overview of This Book</td>\n",
       "    </tr>\n",
       "    <tr>\n",
       "      <th>3</th>\n",
       "      <td>How do you ensure interpretability of a comple...</td>\n",
       "      <td>86fd49a66d</td>\n",
       "      <td>CHAPTER 1</td>\n",
       "      <td>Machine Learning Roles and the Interview Process</td>\n",
       "      <td>Overview of This Book</td>\n",
       "    </tr>\n",
       "    <tr>\n",
       "      <th>4</th>\n",
       "      <td>Can you describe your experience with distribu...</td>\n",
       "      <td>86fd49a66d</td>\n",
       "      <td>CHAPTER 1</td>\n",
       "      <td>Machine Learning Roles and the Interview Process</td>\n",
       "      <td>Overview of This Book</td>\n",
       "    </tr>\n",
       "    <tr>\n",
       "      <th>...</th>\n",
       "      <td>...</td>\n",
       "      <td>...</td>\n",
       "      <td>...</td>\n",
       "      <td>...</td>\n",
       "      <td>...</td>\n",
       "    </tr>\n",
       "    <tr>\n",
       "      <th>235</th>\n",
       "      <td>How do you handle class imbalance in image rec...</td>\n",
       "      <td>914e36400a</td>\n",
       "      <td>CHAPTER 3</td>\n",
       "      <td>Technical Interview: Machine Learning Algorithms</td>\n",
       "      <td>Computer Vision Algorithms</td>\n",
       "    </tr>\n",
       "    <tr>\n",
       "      <th>236</th>\n",
       "      <td>Can you explain the difference between early s...</td>\n",
       "      <td>914e36400a</td>\n",
       "      <td>CHAPTER 3</td>\n",
       "      <td>Technical Interview: Machine Learning Algorithms</td>\n",
       "      <td>Computer Vision Algorithms</td>\n",
       "    </tr>\n",
       "    <tr>\n",
       "      <th>237</th>\n",
       "      <td>How do you ensure that the thumbnails used for...</td>\n",
       "      <td>914e36400a</td>\n",
       "      <td>CHAPTER 3</td>\n",
       "      <td>Technical Interview: Machine Learning Algorithms</td>\n",
       "      <td>Computer Vision Algorithms</td>\n",
       "    </tr>\n",
       "    <tr>\n",
       "      <th>238</th>\n",
       "      <td>What are some common techniques used in data a...</td>\n",
       "      <td>914e36400a</td>\n",
       "      <td>CHAPTER 3</td>\n",
       "      <td>Technical Interview: Machine Learning Algorithms</td>\n",
       "      <td>Computer Vision Algorithms</td>\n",
       "    </tr>\n",
       "    <tr>\n",
       "      <th>239</th>\n",
       "      <td>Can you discuss the importance of normalizatio...</td>\n",
       "      <td>914e36400a</td>\n",
       "      <td>CHAPTER 3</td>\n",
       "      <td>Technical Interview: Machine Learning Algorithms</td>\n",
       "      <td>Computer Vision Algorithms</td>\n",
       "    </tr>\n",
       "  </tbody>\n",
       "</table>\n",
       "<p>240 rows × 5 columns</p>\n",
       "</div>"
      ],
      "text/plain": [
       "                                              question     text_id    chapter  \\\n",
       "0    How do you evaluate the performance of a machi...  86fd49a66d  CHAPTER 1   \n",
       "1    What is your approach to handling missing data...  86fd49a66d  CHAPTER 1   \n",
       "2    Can you explain the difference between supervi...  86fd49a66d  CHAPTER 1   \n",
       "3    How do you ensure interpretability of a comple...  86fd49a66d  CHAPTER 1   \n",
       "4    Can you describe your experience with distribu...  86fd49a66d  CHAPTER 1   \n",
       "..                                                 ...         ...        ...   \n",
       "235  How do you handle class imbalance in image rec...  914e36400a  CHAPTER 3   \n",
       "236  Can you explain the difference between early s...  914e36400a  CHAPTER 3   \n",
       "237  How do you ensure that the thumbnails used for...  914e36400a  CHAPTER 3   \n",
       "238  What are some common techniques used in data a...  914e36400a  CHAPTER 3   \n",
       "239  Can you discuss the importance of normalizatio...  914e36400a  CHAPTER 3   \n",
       "\n",
       "                                                title  \\\n",
       "0    Machine Learning Roles and the Interview Process   \n",
       "1    Machine Learning Roles and the Interview Process   \n",
       "2    Machine Learning Roles and the Interview Process   \n",
       "3    Machine Learning Roles and the Interview Process   \n",
       "4    Machine Learning Roles and the Interview Process   \n",
       "..                                                ...   \n",
       "235  Technical Interview: Machine Learning Algorithms   \n",
       "236  Technical Interview: Machine Learning Algorithms   \n",
       "237  Technical Interview: Machine Learning Algorithms   \n",
       "238  Technical Interview: Machine Learning Algorithms   \n",
       "239  Technical Interview: Machine Learning Algorithms   \n",
       "\n",
       "                        section  \n",
       "0         Overview of This Book  \n",
       "1         Overview of This Book  \n",
       "2         Overview of This Book  \n",
       "3         Overview of This Book  \n",
       "4         Overview of This Book  \n",
       "..                          ...  \n",
       "235  Computer Vision Algorithms  \n",
       "236  Computer Vision Algorithms  \n",
       "237  Computer Vision Algorithms  \n",
       "238  Computer Vision Algorithms  \n",
       "239  Computer Vision Algorithms  \n",
       "\n",
       "[240 rows x 5 columns]"
      ]
     },
     "execution_count": 23,
     "metadata": {},
     "output_type": "execute_result"
    }
   ],
   "source": [
    "df_final"
   ]
  },
  {
   "cell_type": "markdown",
   "metadata": {},
   "source": [
    "Sort the chapters again"
   ]
  },
  {
   "cell_type": "code",
   "execution_count": 24,
   "metadata": {},
   "outputs": [
    {
     "data": {
      "text/html": [
       "<div>\n",
       "<style scoped>\n",
       "    .dataframe tbody tr th:only-of-type {\n",
       "        vertical-align: middle;\n",
       "    }\n",
       "\n",
       "    .dataframe tbody tr th {\n",
       "        vertical-align: top;\n",
       "    }\n",
       "\n",
       "    .dataframe thead th {\n",
       "        text-align: right;\n",
       "    }\n",
       "</style>\n",
       "<table border=\"1\" class=\"dataframe\">\n",
       "  <thead>\n",
       "    <tr style=\"text-align: right;\">\n",
       "      <th></th>\n",
       "      <th>question</th>\n",
       "      <th>text_id</th>\n",
       "      <th>chapter</th>\n",
       "      <th>title</th>\n",
       "      <th>section</th>\n",
       "    </tr>\n",
       "  </thead>\n",
       "  <tbody>\n",
       "    <tr>\n",
       "      <th>0</th>\n",
       "      <td>How do you evaluate the performance of a machi...</td>\n",
       "      <td>86fd49a66d</td>\n",
       "      <td>CHAPTER 1</td>\n",
       "      <td>Machine Learning Roles and the Interview Process</td>\n",
       "      <td>Overview of This Book</td>\n",
       "    </tr>\n",
       "    <tr>\n",
       "      <th>1</th>\n",
       "      <td>What is your approach to handling missing data...</td>\n",
       "      <td>86fd49a66d</td>\n",
       "      <td>CHAPTER 1</td>\n",
       "      <td>Machine Learning Roles and the Interview Process</td>\n",
       "      <td>Overview of This Book</td>\n",
       "    </tr>\n",
       "    <tr>\n",
       "      <th>2</th>\n",
       "      <td>Can you explain the difference between supervi...</td>\n",
       "      <td>86fd49a66d</td>\n",
       "      <td>CHAPTER 1</td>\n",
       "      <td>Machine Learning Roles and the Interview Process</td>\n",
       "      <td>Overview of This Book</td>\n",
       "    </tr>\n",
       "    <tr>\n",
       "      <th>3</th>\n",
       "      <td>How do you ensure interpretability of a comple...</td>\n",
       "      <td>86fd49a66d</td>\n",
       "      <td>CHAPTER 1</td>\n",
       "      <td>Machine Learning Roles and the Interview Process</td>\n",
       "      <td>Overview of This Book</td>\n",
       "    </tr>\n",
       "    <tr>\n",
       "      <th>4</th>\n",
       "      <td>Can you describe your experience with distribu...</td>\n",
       "      <td>86fd49a66d</td>\n",
       "      <td>CHAPTER 1</td>\n",
       "      <td>Machine Learning Roles and the Interview Process</td>\n",
       "      <td>Overview of This Book</td>\n",
       "    </tr>\n",
       "    <tr>\n",
       "      <th>...</th>\n",
       "      <td>...</td>\n",
       "      <td>...</td>\n",
       "      <td>...</td>\n",
       "      <td>...</td>\n",
       "      <td>...</td>\n",
       "    </tr>\n",
       "    <tr>\n",
       "      <th>235</th>\n",
       "      <td>Can you share an instance where you tailored y...</td>\n",
       "      <td>1026686599</td>\n",
       "      <td>CHAPTER 9</td>\n",
       "      <td>Post-Interview and Follow-up</td>\n",
       "      <td>What to Do Between Interviews</td>\n",
       "    </tr>\n",
       "    <tr>\n",
       "      <th>236</th>\n",
       "      <td>What is your approach to networking and buildi...</td>\n",
       "      <td>1026686599</td>\n",
       "      <td>CHAPTER 9</td>\n",
       "      <td>Post-Interview and Follow-up</td>\n",
       "      <td>What to Do Between Interviews</td>\n",
       "    </tr>\n",
       "    <tr>\n",
       "      <th>237</th>\n",
       "      <td>How do you handle rejection during the job sea...</td>\n",
       "      <td>1026686599</td>\n",
       "      <td>CHAPTER 9</td>\n",
       "      <td>Post-Interview and Follow-up</td>\n",
       "      <td>What to Do Between Interviews</td>\n",
       "    </tr>\n",
       "    <tr>\n",
       "      <th>238</th>\n",
       "      <td>Can you share an example of a thank-you note y...</td>\n",
       "      <td>22eb7b9b30</td>\n",
       "      <td>CHAPTER 9</td>\n",
       "      <td>Post-Interview and Follow-up</td>\n",
       "      <td>Post-Interview Steps</td>\n",
       "    </tr>\n",
       "    <tr>\n",
       "      <th>239</th>\n",
       "      <td>What advice would you give to someone just sta...</td>\n",
       "      <td>2ca59d8bf2</td>\n",
       "      <td>CHAPTER 9</td>\n",
       "      <td>Post-Interview and Follow-up</td>\n",
       "      <td>First 30/60/90 Days of Your New ML Job</td>\n",
       "    </tr>\n",
       "  </tbody>\n",
       "</table>\n",
       "<p>240 rows × 5 columns</p>\n",
       "</div>"
      ],
      "text/plain": [
       "                                              question     text_id    chapter  \\\n",
       "0    How do you evaluate the performance of a machi...  86fd49a66d  CHAPTER 1   \n",
       "1    What is your approach to handling missing data...  86fd49a66d  CHAPTER 1   \n",
       "2    Can you explain the difference between supervi...  86fd49a66d  CHAPTER 1   \n",
       "3    How do you ensure interpretability of a comple...  86fd49a66d  CHAPTER 1   \n",
       "4    Can you describe your experience with distribu...  86fd49a66d  CHAPTER 1   \n",
       "..                                                 ...         ...        ...   \n",
       "235  Can you share an instance where you tailored y...  1026686599  CHAPTER 9   \n",
       "236  What is your approach to networking and buildi...  1026686599  CHAPTER 9   \n",
       "237  How do you handle rejection during the job sea...  1026686599  CHAPTER 9   \n",
       "238  Can you share an example of a thank-you note y...  22eb7b9b30  CHAPTER 9   \n",
       "239  What advice would you give to someone just sta...  2ca59d8bf2  CHAPTER 9   \n",
       "\n",
       "                                                title  \\\n",
       "0    Machine Learning Roles and the Interview Process   \n",
       "1    Machine Learning Roles and the Interview Process   \n",
       "2    Machine Learning Roles and the Interview Process   \n",
       "3    Machine Learning Roles and the Interview Process   \n",
       "4    Machine Learning Roles and the Interview Process   \n",
       "..                                                ...   \n",
       "235                      Post-Interview and Follow-up   \n",
       "236                      Post-Interview and Follow-up   \n",
       "237                      Post-Interview and Follow-up   \n",
       "238                      Post-Interview and Follow-up   \n",
       "239                      Post-Interview and Follow-up   \n",
       "\n",
       "                                    section  \n",
       "0                     Overview of This Book  \n",
       "1                     Overview of This Book  \n",
       "2                     Overview of This Book  \n",
       "3                     Overview of This Book  \n",
       "4                     Overview of This Book  \n",
       "..                                      ...  \n",
       "235           What to Do Between Interviews  \n",
       "236           What to Do Between Interviews  \n",
       "237           What to Do Between Interviews  \n",
       "238                    Post-Interview Steps  \n",
       "239  First 30/60/90 Days of Your New ML Job  \n",
       "\n",
       "[240 rows x 5 columns]"
      ]
     },
     "execution_count": 24,
     "metadata": {},
     "output_type": "execute_result"
    }
   ],
   "source": [
    "df_final['chapter_number'] = df_final['chapter'].str.extract(r'CHAPTER (\\d+)').astype(int)\n",
    "\n",
    "df_final_sorted = df_final.sort_values(by='chapter_number').drop(columns=['chapter_number']).reset_index(drop=True)\n",
    "\n",
    "df_final_sorted"
   ]
  },
  {
   "cell_type": "code",
   "execution_count": 25,
   "metadata": {},
   "outputs": [
    {
     "data": {
      "text/plain": [
       "text_id\n",
       "86fd49a66d      5\n",
       "9a2356679c      5\n",
       "6d22154063      5\n",
       "61153e0cc4      5\n",
       "535fe561d2      5\n",
       "f0d1a5d7be      5\n",
       "6e80eb677b      5\n",
       "2337809957      5\n",
       "e3868ef048      5\n",
       "59be39571f      5\n",
       "c80e9a7eaf      5\n",
       "072c02694c      5\n",
       "195ee8d52d      5\n",
       "114486e1a1      5\n",
       "d0f8681a67      5\n",
       "331444d407      5\n",
       "a89864b52f      5\n",
       "a6426309ff      5\n",
       "4ef8a420bc      5\n",
       "0ce98a8968      5\n",
       "914e36400a      5\n",
       "99eacbbf97      5\n",
       "0720f39c5b-1    5\n",
       "005a577345      5\n",
       "0720f39c5b      5\n",
       "e5aff76113      5\n",
       "16c46692ba      5\n",
       "b00775576b      5\n",
       "6d7e81991e      5\n",
       "dbd8460895      5\n",
       "ae2aa1ca31      5\n",
       "f45e93a39b      5\n",
       "9ebc3f2b8d      5\n",
       "2e54c275a1      5\n",
       "95d66e0b67      5\n",
       "acad0ef561      5\n",
       "052c470148      5\n",
       "f6f741906a      5\n",
       "f6620b37bc      5\n",
       "322f155e7d      5\n",
       "995cfd588e      5\n",
       "e123c4c971      5\n",
       "6dadcd84bd      5\n",
       "561ddf5f64      5\n",
       "22eb7b9b30      5\n",
       "2ca59d8bf2      5\n",
       "dee0126444      5\n",
       "1026686599      5\n",
       "Name: count, dtype: int64"
      ]
     },
     "execution_count": 25,
     "metadata": {},
     "output_type": "execute_result"
    }
   ],
   "source": [
    "df_final_sorted['text_id'].value_counts()"
   ]
  },
  {
   "cell_type": "code",
   "execution_count": 26,
   "metadata": {},
   "outputs": [
    {
     "name": "stdout",
     "output_type": "stream",
     "text": [
      "0                                  How do you evaluate the performance of a machine learning model?\n",
      "1                                      What is your approach to handling missing data in a dataset?\n",
      "2                      Can you explain the difference between supervised and unsupervised learning?\n",
      "3                           How do you ensure interpretability of a complex machine learning model?\n",
      "4    Can you describe your experience with distributed computing technologies like Hadoop or Spark?\n",
      "Name: question, dtype: object\n"
     ]
    }
   ],
   "source": [
    "pd.set_option('display.max_colwidth', None)\n",
    "\n",
    "print(df_final_sorted['question'].head())"
   ]
  },
  {
   "cell_type": "code",
   "execution_count": 27,
   "metadata": {},
   "outputs": [],
   "source": [
    "df_final_sorted.to_csv('../data/ground_truth_data.csv', index=False)"
   ]
  },
  {
   "cell_type": "code",
   "execution_count": null,
   "metadata": {},
   "outputs": [],
   "source": []
  }
 ],
 "metadata": {
  "kernelspec": {
   "display_name": "interview_preparation_bot-ZQDkHgpI",
   "language": "python",
   "name": "python3"
  },
  "language_info": {
   "codemirror_mode": {
    "name": "ipython",
    "version": 3
   },
   "file_extension": ".py",
   "mimetype": "text/x-python",
   "name": "python",
   "nbconvert_exporter": "python",
   "pygments_lexer": "ipython3",
   "version": "3.10.12"
  }
 },
 "nbformat": 4,
 "nbformat_minor": 2
}
