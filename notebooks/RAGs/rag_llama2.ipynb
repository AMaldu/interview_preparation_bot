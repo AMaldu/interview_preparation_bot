{
 "cells": [
  {
   "cell_type": "code",
   "execution_count": 1,
   "metadata": {},
   "outputs": [],
   "source": [
    "import pandas as pd\n",
    "\n",
    "import warnings\n",
    "\n",
    "warnings.filterwarnings(\"ignore\")"
   ]
  },
  {
   "cell_type": "code",
   "execution_count": 2,
   "metadata": {},
   "outputs": [],
   "source": [
    "df = pd.read_csv('../../data/data.csv')\n",
    "documents = df.to_dict(orient='records')"
   ]
  },
  {
   "cell_type": "code",
   "execution_count": 3,
   "metadata": {},
   "outputs": [
    {
     "data": {
      "text/plain": [
       "{'id': 0,\n",
       " 'section': 'Overview of This Book',\n",
       " 'text': 'In the first part of this chapter, I’ll walk through the structure of this book. Then, I’ll discuss the various job titles and roles that use ML skills in industry. 1 I’ll also clarify the responsibilities of various job titles, such as data scientist, machine learning engineer, and so on, as this is a common point of confusion for job seekers. These will be illustrated with an ML skills matrix and ML lifecycle that will be referenced throughout the book. The second part of this chapter walks through the interview process, from beginning to end. I’ve mentored candidates who appreciated this overview since online resources often focus on specific pieces of the interview but not how they all connect together and result in an offer. Especially for new graduates 2 and readers coming from different industries, this chapter helps get everyone on the same page as well as clarifies the process. The interconnecting pieces of interviews are complex, with many types of combina‐ tions depending on the ML role you’re aiming for. This overview will help set the stage, so you’ll know what to focus your time on. For example, some online resources focus on knowledge specific to “product data scientists,” but will title the course or article “data scientist interview tips” without differentiating. For a newcomer, it’s hard to tell if that is relevant to your own career interests. After this chapter, you’ll be able to tell what skills are required for each job title, and in Chapter 2 , you’ll be able to parse out that information yourself from job postings and make your resume as relevant to the job title and job posting as possible. This chapter focuses on helping you differentiate among various ML roles, and walks through the entire interview process, as illustrated in Figure 1-1 : • Job applications and resume ( Chapter 2 ) • Technical interviews — Machine learning (Chapters 3 , 4 , and 6 ) — Coding/programming ( Chapter 5 ) • Behavioral interviews ( Chapter 7 ) • Your interview roadmap ( Chapter 8 ) • Post-interview and follow-up ( Chapter 9 ) Figure 1-1. Overview of the chapters and how they tie into the ML interview process. Depending on where you are in your ML interview journey, I encourage you to focus on the chapters and sections that seem relevant to you. I’ve also planned the book to be referenced as you go along; for example, you might iterate on your resume multi‐ ple times and then flip back to Chapter 2 when needed. The same applies to the other chapters. With that overview, let’s continue. The companion site to this book, https://susanshu.substack.com , features bonus content, helper resources, and more.',\n",
       " 'text_id': '86fd49a66d'}"
      ]
     },
     "execution_count": 3,
     "metadata": {},
     "output_type": "execute_result"
    }
   ],
   "source": [
    "documents[0]"
   ]
  },
  {
   "cell_type": "markdown",
   "metadata": {},
   "source": [
    "## Split into chunks/sentence"
   ]
  },
  {
   "cell_type": "code",
   "execution_count": 4,
   "metadata": {},
   "outputs": [],
   "source": [
    "import spacy\n",
    "\n",
    "nlp = spacy.load(\"es_core_news_sm\") "
   ]
  },
  {
   "cell_type": "code",
   "execution_count": 5,
   "metadata": {},
   "outputs": [],
   "source": [
    "def split_into_sentence_chunks(text, base_id):\n",
    "    doc = nlp(text)  \n",
    "    sentences = [sent.text for sent in doc.sents] \n",
    "\n",
    "    chunked_texts = []\n",
    "    current_chunk = []\n",
    "\n",
    "    for sentence in sentences:\n",
    "        current_chunk.append(sentence)\n",
    "\n",
    "        if len(current_chunk) >= 3:  \n",
    "            chunked_texts.append(' '.join(current_chunk))\n",
    "            current_chunk = []  \n",
    "\n",
    "    if current_chunk:\n",
    "        chunked_texts.append(' '.join(current_chunk))\n",
    "\n",
    "    chunk_ids = [f\"{base_id}_{i + 1}\" for i in range(len(chunked_texts))]\n",
    "\n",
    "    return [{'chunk_id': chunk_id, 'chunk_text': chunk_text, 'text_id': base_id} \n",
    "            for chunk_id, chunk_text in zip(chunk_ids, chunked_texts)]\n",
    "\n",
    "chunked_docs = []\n",
    "for doc in documents:\n",
    "    if 'text' in doc and 'text_id' in doc:  \n",
    "        chunks = split_into_sentence_chunks(doc['text'], doc['text_id'])\n",
    "        chunked_docs.extend(chunks)  \n",
    "\n"
   ]
  },
  {
   "cell_type": "code",
   "execution_count": 6,
   "metadata": {},
   "outputs": [
    {
     "data": {
      "text/plain": [
       "[{'chunk_id': '86fd49a66d_1',\n",
       "  'chunk_text': 'In the first part of this chapter, I’ll walk through the structure of this book. Then, I’ll discuss the various job titles and roles that use ML skills in industry. 1 I’ll also clarify the responsibilities of various job titles, such as data scientist, machine learning engineer, and so on, as this is a common point of confusion for job seekers.',\n",
       "  'text_id': '86fd49a66d'},\n",
       " {'chunk_id': '86fd49a66d_2',\n",
       "  'chunk_text': 'These will be illustrated with an ML skills matrix and ML lifecycle that will be referenced throughout the book. The second part of this chapter walks through the interview process, from beginning to end. I’ve mentored candidates who appreciated this overview since online resources often focus on specific pieces of the interview but not how they all connect together and result in an offer.',\n",
       "  'text_id': '86fd49a66d'}]"
      ]
     },
     "execution_count": 6,
     "metadata": {},
     "output_type": "execute_result"
    }
   ],
   "source": [
    "chunked_docs[0:2]"
   ]
  },
  {
   "cell_type": "markdown",
   "metadata": {},
   "source": [
    "## minsearch"
   ]
  },
  {
   "cell_type": "code",
   "execution_count": 7,
   "metadata": {},
   "outputs": [],
   "source": [
    "from minsearch import Index\n"
   ]
  },
  {
   "cell_type": "code",
   "execution_count": 8,
   "metadata": {},
   "outputs": [
    {
     "data": {
      "text/plain": [
       "<minsearch.minsearch.Index at 0x7b4432b9a3b0>"
      ]
     },
     "execution_count": 8,
     "metadata": {},
     "output_type": "execute_result"
    }
   ],
   "source": [
    "index = Index(\n",
    "    text_fields=[ \"chunk_text\"],\n",
    "    keyword_fields=[\"text_id\", \"chunk_id\"]\n",
    ")\n",
    "\n",
    "\n",
    "index.fit(chunked_docs)"
   ]
  },
  {
   "cell_type": "code",
   "execution_count": 9,
   "metadata": {},
   "outputs": [],
   "source": [
    "query = 'what is the scope of a data scientist?'\n",
    "\n",
    "def search(query, boost= None):\n",
    "    if boost is None:\n",
    "        boost = {}\n",
    "    # boost = {'text': 3.0, 'section': 0.5}\n",
    "    \n",
    "    results = index.search(\n",
    "        query=query,\n",
    "        filter_dict = {},\n",
    "        boost_dict=boost,\n",
    "        num_results=5\n",
    "    )\n",
    "\n",
    "    return results\n",
    "\n",
    "# search_results = search(query)\n",
    "# search_results"
   ]
  },
  {
   "cell_type": "markdown",
   "metadata": {},
   "source": [
    "## rag"
   ]
  },
  {
   "cell_type": "code",
   "execution_count": 10,
   "metadata": {},
   "outputs": [],
   "source": [
    "import ollama\n",
    "from tqdm.auto import tqdm\n",
    "\n",
    "# to initiate ollama on console for the first time\n",
    "# ollama serve\n",
    "# ollama pull llama2"
   ]
  },
  {
   "cell_type": "code",
   "execution_count": 11,
   "metadata": {},
   "outputs": [],
   "source": [
    "client = ollama.Client()\n",
    "\n"
   ]
  },
  {
   "cell_type": "markdown",
   "metadata": {},
   "source": [
    "## Prompt\n"
   ]
  },
  {
   "cell_type": "code",
   "execution_count": 12,
   "metadata": {},
   "outputs": [],
   "source": [
    "prompt_template = \"\"\"\n",
    "You are an assistant preparing a candidate for a data science job interview. \n",
    "Based on the provided context, please provide a concise and accurate answer to the following question in plain text format without any additional formatting.\n",
    "\n",
    "QUESTION: {question}\n",
    "\n",
    "CONTEXT:\n",
    "{context}\n",
    "\n",
    "The answer has to be plain text\n",
    "\"\"\".strip()\n"
   ]
  },
  {
   "cell_type": "code",
   "execution_count": 13,
   "metadata": {},
   "outputs": [
    {
     "data": {
      "text/plain": [
       "'what is the scope of a data scientist?'"
      ]
     },
     "execution_count": 13,
     "metadata": {},
     "output_type": "execute_result"
    }
   ],
   "source": [
    "query"
   ]
  },
  {
   "cell_type": "code",
   "execution_count": 14,
   "metadata": {},
   "outputs": [],
   "source": [
    "def build_prompt(query, search_results):\n",
    "    context = \"\"\n",
    "    \n",
    "    for doc in search_results:\n",
    "        text = doc['chunk_text']\n",
    "            \n",
    "        context += f\"Text: {text}\\n\\n\"\n",
    "\n",
    "    prompt = prompt_template.format(question=query, context=context).strip()\n",
    "    return prompt\n",
    "\n",
    "# prompt = build_prompt(query, search_results)\n",
    "# print(prompt)"
   ]
  },
  {
   "cell_type": "code",
   "execution_count": 15,
   "metadata": {},
   "outputs": [],
   "source": [
    "def generate_answer(query, search_results):\n",
    "    # Generar el contenido del mensaje utilizando la función build_prompt\n",
    "    message_content = build_prompt(query, search_results)\n",
    "    \n",
    "    # Hacer la llamada al modelo Llama2\n",
    "    response = client.chat(model=\"llama2\", messages=[{\"role\": \"user\", \"content\": message_content}])\n",
    "    \n",
    "    # Verificar la respuesta y extraer el contenido\n",
    "    if 'message' in response and 'content' in response['message']:\n",
    "        content = response['message']['content']\n",
    "        \n",
    "        return content.strip()  \n",
    "    return \"\"  \n"
   ]
  },
  {
   "cell_type": "code",
   "execution_count": 16,
   "metadata": {},
   "outputs": [],
   "source": [
    "# response = generate_answer(query, search_results)\n",
    "# print(response)"
   ]
  },
  {
   "cell_type": "code",
   "execution_count": 17,
   "metadata": {},
   "outputs": [],
   "source": [
    "def rag(query):\n",
    "    search_results = search(query)\n",
    "    response = generate_answer(query, search_results)\n",
    "    return response\n",
    "\n",
    "    "
   ]
  },
  {
   "cell_type": "code",
   "execution_count": 18,
   "metadata": {},
   "outputs": [
    {
     "name": "stdout",
     "output_type": "stream",
     "text": [
      "Based on the provided context, the important skills for a data scientist are:\n",
      "\n",
      "1. Machine learning algorithms and data intuition\n",
      "2. Programming and software engineering skills\n",
      "3. Execution and communication skills\n",
      "4. Domain knowledge\n",
      "5. Real and relevant experience that can be applied to the job, including transferable skills\n",
      "6. Soft skills, such as working well with people in the team and communicating with broader groups of people\n",
      "7. Technical skills, such as making individual technical contributions.\n"
     ]
    }
   ],
   "source": [
    "query = 'Which skills are important for a data scietist?'\n",
    "print(rag(query))"
   ]
  },
  {
   "cell_type": "markdown",
   "metadata": {},
   "source": [
    "## Retrieval evaluation"
   ]
  },
  {
   "cell_type": "code",
   "execution_count": 19,
   "metadata": {},
   "outputs": [
    {
     "data": {
      "text/html": [
       "<div>\n",
       "<style scoped>\n",
       "    .dataframe tbody tr th:only-of-type {\n",
       "        vertical-align: middle;\n",
       "    }\n",
       "\n",
       "    .dataframe tbody tr th {\n",
       "        vertical-align: top;\n",
       "    }\n",
       "\n",
       "    .dataframe thead th {\n",
       "        text-align: right;\n",
       "    }\n",
       "</style>\n",
       "<table border=\"1\" class=\"dataframe\">\n",
       "  <thead>\n",
       "    <tr style=\"text-align: right;\">\n",
       "      <th></th>\n",
       "      <th>id</th>\n",
       "      <th>question</th>\n",
       "      <th>text_id</th>\n",
       "      <th>chapter</th>\n",
       "      <th>title</th>\n",
       "      <th>section</th>\n",
       "    </tr>\n",
       "  </thead>\n",
       "  <tbody>\n",
       "    <tr>\n",
       "      <th>0</th>\n",
       "      <td>0</td>\n",
       "      <td>How do you evaluate the performance of a machi...</td>\n",
       "      <td>86fd49a66d</td>\n",
       "      <td>CHAPTER 1</td>\n",
       "      <td>Machine Learning Roles and the Interview Process</td>\n",
       "      <td>Overview of This Book</td>\n",
       "    </tr>\n",
       "    <tr>\n",
       "      <th>1</th>\n",
       "      <td>1</td>\n",
       "      <td>Can you explain the difference between supervi...</td>\n",
       "      <td>86fd49a66d</td>\n",
       "      <td>CHAPTER 1</td>\n",
       "      <td>Machine Learning Roles and the Interview Process</td>\n",
       "      <td>Overview of This Book</td>\n",
       "    </tr>\n",
       "    <tr>\n",
       "      <th>2</th>\n",
       "      <td>2</td>\n",
       "      <td>How do you handle missing data in a machine le...</td>\n",
       "      <td>86fd49a66d</td>\n",
       "      <td>CHAPTER 1</td>\n",
       "      <td>Machine Learning Roles and the Interview Process</td>\n",
       "      <td>Overview of This Book</td>\n",
       "    </tr>\n",
       "    <tr>\n",
       "      <th>3</th>\n",
       "      <td>3</td>\n",
       "      <td>What is your approach to debugging a machine l...</td>\n",
       "      <td>86fd49a66d</td>\n",
       "      <td>CHAPTER 1</td>\n",
       "      <td>Machine Learning Roles and the Interview Process</td>\n",
       "      <td>Overview of This Book</td>\n",
       "    </tr>\n",
       "    <tr>\n",
       "      <th>4</th>\n",
       "      <td>4</td>\n",
       "      <td>Can you describe a time when you had to commun...</td>\n",
       "      <td>86fd49a66d</td>\n",
       "      <td>CHAPTER 1</td>\n",
       "      <td>Machine Learning Roles and the Interview Process</td>\n",
       "      <td>Overview of This Book</td>\n",
       "    </tr>\n",
       "    <tr>\n",
       "      <th>...</th>\n",
       "      <td>...</td>\n",
       "      <td>...</td>\n",
       "      <td>...</td>\n",
       "      <td>...</td>\n",
       "      <td>...</td>\n",
       "      <td>...</td>\n",
       "    </tr>\n",
       "    <tr>\n",
       "      <th>235</th>\n",
       "      <td>235</td>\n",
       "      <td>How do benefits like health and dental impact ...</td>\n",
       "      <td>dee0126444</td>\n",
       "      <td>CHAPTER 9</td>\n",
       "      <td>Post-Interview and Follow-up</td>\n",
       "      <td>Steps of the Offer Stage</td>\n",
       "    </tr>\n",
       "    <tr>\n",
       "      <th>236</th>\n",
       "      <td>236</td>\n",
       "      <td>Can you provide examples of non-base pay optio...</td>\n",
       "      <td>dee0126444</td>\n",
       "      <td>CHAPTER 9</td>\n",
       "      <td>Post-Interview and Follow-up</td>\n",
       "      <td>Steps of the Offer Stage</td>\n",
       "    </tr>\n",
       "    <tr>\n",
       "      <th>237</th>\n",
       "      <td>237</td>\n",
       "      <td>How can data scientists ensure they are contri...</td>\n",
       "      <td>2ca59d8bf2</td>\n",
       "      <td>CHAPTER 9</td>\n",
       "      <td>Post-Interview and Follow-up</td>\n",
       "      <td>First 30/60/90 Days of Your New ML Job</td>\n",
       "    </tr>\n",
       "    <tr>\n",
       "      <th>238</th>\n",
       "      <td>238</td>\n",
       "      <td>Can you share an experience where reaching out...</td>\n",
       "      <td>2ca59d8bf2</td>\n",
       "      <td>CHAPTER 9</td>\n",
       "      <td>Post-Interview and Follow-up</td>\n",
       "      <td>First 30/60/90 Days of Your New ML Job</td>\n",
       "    </tr>\n",
       "    <tr>\n",
       "      <th>239</th>\n",
       "      <td>239</td>\n",
       "      <td>What are some practical ways to stay up-to-dat...</td>\n",
       "      <td>2ca59d8bf2</td>\n",
       "      <td>CHAPTER 9</td>\n",
       "      <td>Post-Interview and Follow-up</td>\n",
       "      <td>First 30/60/90 Days of Your New ML Job</td>\n",
       "    </tr>\n",
       "  </tbody>\n",
       "</table>\n",
       "<p>240 rows × 6 columns</p>\n",
       "</div>"
      ],
      "text/plain": [
       "      id                                           question     text_id  \\\n",
       "0      0  How do you evaluate the performance of a machi...  86fd49a66d   \n",
       "1      1  Can you explain the difference between supervi...  86fd49a66d   \n",
       "2      2  How do you handle missing data in a machine le...  86fd49a66d   \n",
       "3      3  What is your approach to debugging a machine l...  86fd49a66d   \n",
       "4      4  Can you describe a time when you had to commun...  86fd49a66d   \n",
       "..   ...                                                ...         ...   \n",
       "235  235  How do benefits like health and dental impact ...  dee0126444   \n",
       "236  236  Can you provide examples of non-base pay optio...  dee0126444   \n",
       "237  237  How can data scientists ensure they are contri...  2ca59d8bf2   \n",
       "238  238  Can you share an experience where reaching out...  2ca59d8bf2   \n",
       "239  239  What are some practical ways to stay up-to-dat...  2ca59d8bf2   \n",
       "\n",
       "       chapter                                             title  \\\n",
       "0    CHAPTER 1  Machine Learning Roles and the Interview Process   \n",
       "1    CHAPTER 1  Machine Learning Roles and the Interview Process   \n",
       "2    CHAPTER 1  Machine Learning Roles and the Interview Process   \n",
       "3    CHAPTER 1  Machine Learning Roles and the Interview Process   \n",
       "4    CHAPTER 1  Machine Learning Roles and the Interview Process   \n",
       "..         ...                                               ...   \n",
       "235  CHAPTER 9                      Post-Interview and Follow-up   \n",
       "236  CHAPTER 9                      Post-Interview and Follow-up   \n",
       "237  CHAPTER 9                      Post-Interview and Follow-up   \n",
       "238  CHAPTER 9                      Post-Interview and Follow-up   \n",
       "239  CHAPTER 9                      Post-Interview and Follow-up   \n",
       "\n",
       "                                    section  \n",
       "0                     Overview of This Book  \n",
       "1                     Overview of This Book  \n",
       "2                     Overview of This Book  \n",
       "3                     Overview of This Book  \n",
       "4                     Overview of This Book  \n",
       "..                                      ...  \n",
       "235                Steps of the Offer Stage  \n",
       "236                Steps of the Offer Stage  \n",
       "237  First 30/60/90 Days of Your New ML Job  \n",
       "238  First 30/60/90 Days of Your New ML Job  \n",
       "239  First 30/60/90 Days of Your New ML Job  \n",
       "\n",
       "[240 rows x 6 columns]"
      ]
     },
     "execution_count": 19,
     "metadata": {},
     "output_type": "execute_result"
    }
   ],
   "source": [
    "import pandas as pd\n",
    "\n",
    "df = pd.read_csv('../../data/ground_truth_data.csv')\n",
    "df"
   ]
  },
  {
   "cell_type": "code",
   "execution_count": 20,
   "metadata": {},
   "outputs": [],
   "source": [
    "df_questions = df[['question', 'text_id']]"
   ]
  },
  {
   "cell_type": "code",
   "execution_count": 21,
   "metadata": {},
   "outputs": [
    {
     "data": {
      "text/plain": [
       "{'question': 'How do you evaluate the performance of a machine learning model?',\n",
       " 'text_id': '86fd49a66d'}"
      ]
     },
     "execution_count": 21,
     "metadata": {},
     "output_type": "execute_result"
    }
   ],
   "source": [
    "ground_truth = df_questions.to_dict(orient = 'records')\n",
    "ground_truth[0]"
   ]
  },
  {
   "cell_type": "code",
   "execution_count": 22,
   "metadata": {},
   "outputs": [],
   "source": [
    "def hit_rate(relevance_total):\n",
    "    cnt = 0\n",
    "\n",
    "    for line in relevance_total:\n",
    "        if isinstance(line, (list, tuple)) and True in line:\n",
    "            cnt += 1\n",
    "\n",
    "    return cnt / len(relevance_total)\n"
   ]
  },
  {
   "cell_type": "code",
   "execution_count": 23,
   "metadata": {},
   "outputs": [],
   "source": [
    "def mrr(relevance_total):\n",
    "    total_score = 0.0\n",
    "    num_queries = len(relevance_total)\n",
    "\n",
    "    for line in relevance_total:\n",
    "        query_score = 0.0\n",
    "        for rank in range(len(line)):\n",
    "            if line[rank] == True:\n",
    "                query_score = 1 / (rank + 1)\n",
    "                break  \n",
    "\n",
    "        total_score += query_score\n",
    "\n",
    "    return total_score / num_queries if num_queries > 0 else 0.0\n"
   ]
  },
  {
   "cell_type": "code",
   "execution_count": 24,
   "metadata": {},
   "outputs": [],
   "source": [
    "def minsearch_search(query):\n",
    "    boost = {}\n",
    "    # boost = {'text': 3.0, 'section': 0.5}\n",
    "    \n",
    "    results = index.search(\n",
    "        query=query,\n",
    "        filter_dict = {},\n",
    "        boost_dict=boost,\n",
    "        num_results=5)\n",
    "\n",
    "    return results\n",
    "\n"
   ]
  },
  {
   "cell_type": "code",
   "execution_count": 25,
   "metadata": {},
   "outputs": [],
   "source": [
    "from tqdm.auto import tqdm\n",
    "\n",
    "\n",
    "def evaluate(ground_truth, search_function):\n",
    "    relevance_total = []\n",
    "\n",
    "    for q in tqdm(ground_truth):\n",
    "        doc_id = q['text_id']\n",
    "        results = search_function(q)\n",
    "        relevance = [d['text_id'] == doc_id for d in results]\n",
    "        relevance_total.append(relevance)\n",
    "\n",
    "    return {\n",
    "        'hit_rate': hit_rate(relevance_total),\n",
    "        'mrr': mrr(relevance_total),\n",
    "    }"
   ]
  },
  {
   "cell_type": "code",
   "execution_count": 26,
   "metadata": {},
   "outputs": [],
   "source": [
    "from tqdm.auto import tqdm"
   ]
  },
  {
   "cell_type": "code",
   "execution_count": 27,
   "metadata": {},
   "outputs": [
    {
     "data": {
      "application/vnd.jupyter.widget-view+json": {
       "model_id": "dc6066838602438a92aa1e21b373c797",
       "version_major": 2,
       "version_minor": 0
      },
      "text/plain": [
       "  0%|          | 0/240 [00:00<?, ?it/s]"
      ]
     },
     "metadata": {},
     "output_type": "display_data"
    },
    {
     "data": {
      "text/plain": [
       "{'hit_rate': 0.5666666666666667, 'mrr': 0.4615972222222222}"
      ]
     },
     "execution_count": 27,
     "metadata": {},
     "output_type": "execute_result"
    }
   ],
   "source": [
    "evaluate(ground_truth, lambda q: minsearch_search(q['question']))"
   ]
  },
  {
   "cell_type": "markdown",
   "metadata": {},
   "source": [
    "## Hyperparams Optimization\n"
   ]
  },
  {
   "cell_type": "code",
   "execution_count": 28,
   "metadata": {},
   "outputs": [],
   "source": [
    "def minsearch_search(query, boost_value):\n",
    "    boost = {'text': boost_value}\n",
    "    \n",
    "    results = index.search(\n",
    "        query=query,\n",
    "        filter_dict={},\n",
    "        boost_dict=boost,\n",
    "        num_results=5\n",
    "    )\n",
    "    return results\n"
   ]
  },
  {
   "cell_type": "code",
   "execution_count": 29,
   "metadata": {},
   "outputs": [],
   "source": [
    "from hyperopt import fmin, tpe, hp, STATUS_OK, Trials\n",
    "from hyperopt.pyll import scope"
   ]
  },
  {
   "cell_type": "code",
   "execution_count": 30,
   "metadata": {},
   "outputs": [],
   "source": [
    "df_val = df_questions[:100]\n",
    "df_test = df_questions[100:]"
   ]
  },
  {
   "cell_type": "code",
   "execution_count": 31,
   "metadata": {},
   "outputs": [],
   "source": [
    "space = {\n",
    "    'temperature': hp.uniform('temperature', 0.6, 1.2),   \n",
    "    'top_p': hp.uniform('top_p', 0.7, 1.0),               \n",
    "    'max_length': hp.quniform('max_length', 512, 1024, 1), \n",
    "    'boost': hp.uniform('boost', 0, 3),\n",
    "    \n",
    "}"
   ]
  },
  {
   "cell_type": "code",
   "execution_count": 32,
   "metadata": {},
   "outputs": [
    {
     "name": "stdout",
     "output_type": "stream",
     "text": [
      "Evaluating with params: {'boost': 1.4083920142144328, 'max_length': 898.0, 'temperature': 1.0363851605596968, 'top_p': 0.9234162834045857}\n",
      "Evaluating with params: {'boost': 2.4824357701591673, 'max_length': 753.0, 'temperature': 1.028863965623605, 'top_p': 0.9998309712816318}\n",
      "Evaluating with params: {'boost': 0.7441887026830823, 'max_length': 1004.0, 'temperature': 1.1967223109758782, 'top_p': 0.72618723387892}\n",
      "Evaluating with params: {'boost': 0.7266393322158512, 'max_length': 773.0, 'temperature': 0.822395293004408, 'top_p': 0.810337415056985}\n",
      "Evaluating with params: {'boost': 1.7332862446524215, 'max_length': 604.0, 'temperature': 1.019658894990053, 'top_p': 0.8274010070681707}\n",
      "Evaluating with params: {'boost': 2.0265367651186135, 'max_length': 827.0, 'temperature': 1.0664202759601067, 'top_p': 0.9211059882327661}\n",
      "Evaluating with params: {'boost': 1.109586415780938, 'max_length': 996.0, 'temperature': 1.0775772733800535, 'top_p': 0.7130915839663637}\n",
      "Evaluating with params: {'boost': 2.1866767922358177, 'max_length': 738.0, 'temperature': 0.966388276221495, 'top_p': 0.9747240509144126}\n",
      "Evaluating with params: {'boost': 0.975357260760869, 'max_length': 953.0, 'temperature': 0.8859018291040637, 'top_p': 0.7141954613967402}\n",
      "Evaluating with params: {'boost': 1.031986738523879, 'max_length': 900.0, 'temperature': 1.1749458964932962, 'top_p': 0.7464545602167214}\n",
      "100%|██████████| 10/10 [00:16<00:00,  1.67s/trial, best loss: -0.0]\n",
      "Best hyperparameters: {'boost': np.float64(1.4083920142144328), 'max_length': np.float64(898.0), 'temperature': np.float64(1.0363851605596968), 'top_p': np.float64(0.9234162834045857)}\n"
     ]
    }
   ],
   "source": [
    "\n",
    "def objective(params):\n",
    "    print(f\"Evaluating with params: {params}\")\n",
    "    \n",
    "    # temperature = params['temperature']\n",
    "    # top_p = params['top_p']\n",
    "    # max_length = int(params['max_length'])\n",
    "    # boost_value = params['boost']\n",
    "    \n",
    "    response = rag(query)\n",
    "\n",
    "    hit_rate_value = hit_rate(response)  \n",
    "    mrr_value = mrr(response)\n",
    "    \n",
    "    loss = - (hit_rate_value + mrr_value)\n",
    "    \n",
    "    return {'loss': loss, 'status': STATUS_OK}\n",
    "\n",
    "trials = Trials()\n",
    "\n",
    "best = fmin(\n",
    "    fn=objective,\n",
    "    space=space,\n",
    "    algo=tpe.suggest,\n",
    "    max_evals=10,  \n",
    "    trials=trials\n",
    ")\n",
    "\n",
    "print(f\"Best hyperparameters: {best}\")\n"
   ]
  },
  {
   "cell_type": "code",
   "execution_count": 33,
   "metadata": {},
   "outputs": [],
   "source": [
    "best_temperature = best['temperature']\n",
    "best_top_p = best['top_p']\n",
    "best_max_length = int(best['max_length'])\n",
    "boost = best['boost']\n",
    "# response = rag(query)\n",
    "# print(response)\n"
   ]
  },
  {
   "cell_type": "code",
   "execution_count": 34,
   "metadata": {},
   "outputs": [],
   "source": [
    "import json\n",
    "\n",
    "with open('../../data/best_hyperparams.json', 'w') as f:\n",
    "    json.dump(best, f)\n"
   ]
  },
  {
   "cell_type": "code",
   "execution_count": 35,
   "metadata": {},
   "outputs": [],
   "source": [
    "gt_val = df_val.to_dict(orient='records')"
   ]
  },
  {
   "cell_type": "code",
   "execution_count": 36,
   "metadata": {},
   "outputs": [],
   "source": [
    "def minsearch_search_optimized(query, boost):\n",
    "    # boost = {'text': 3.0, 'section': 0.5}\n",
    "    \n",
    "    results = index.search(\n",
    "        query=query,\n",
    "        filter_dict = {},\n",
    "        boost_dict=boost,\n",
    "        num_results=5)\n",
    "\n",
    "    return results\n"
   ]
  },
  {
   "cell_type": "code",
   "execution_count": 37,
   "metadata": {},
   "outputs": [
    {
     "data": {
      "application/vnd.jupyter.widget-view+json": {
       "model_id": "2824b62ee1244ebb936faaeee3108c6c",
       "version_major": 2,
       "version_minor": 0
      },
      "text/plain": [
       "  0%|          | 0/100 [00:00<?, ?it/s]"
      ]
     },
     "metadata": {},
     "output_type": "display_data"
    },
    {
     "data": {
      "text/plain": [
       "{'hit_rate': 0.53, 'mrr': 0.4268333333333334}"
      ]
     },
     "execution_count": 37,
     "metadata": {},
     "output_type": "execute_result"
    }
   ],
   "source": [
    "boost = {'text': best['boost']}\n",
    "         \n",
    "evaluate(gt_val, lambda q: minsearch_search_optimized(q['question'], boost))\n",
    "# para mirar cuanto da con los mejores hyperparam "
   ]
  },
  {
   "cell_type": "markdown",
   "metadata": {},
   "source": [
    "A little bit better :)"
   ]
  },
  {
   "cell_type": "markdown",
   "metadata": {},
   "source": [
    "## RAG Evaluation"
   ]
  },
  {
   "cell_type": "code",
   "execution_count": 38,
   "metadata": {},
   "outputs": [],
   "source": [
    "prompt1_template = \"\"\"\n",
    "You are an expert evaluator for a RAG system.\n",
    "Your task is to analyze the relevance of the generated answer compared to the original answer provided.\n",
    "Based on the relevance and similarity of the generated answer to the original answer, you will classify\n",
    "it as \"NON_RELEVANT\", \"PARTLY_RELEVANT\", or \"RELEVANT\".\n",
    "\n",
    "Here is the data for evaluation:\n",
    "\n",
    "Original Answer: {answer_orig}\n",
    "Generated Question: {question}\n",
    "Generated Answer: {answer_llm}\n",
    "\n",
    "Please analyze the content and context of the generated answer in relation to the original\n",
    "answer and provide your evaluation in parsable JSON without using code blocks:\n",
    "\n",
    "{{\n",
    "  \"Relevance\": \"NON_RELEVANT\" | \"PARTLY_RELEVANT\" | \"RELEVANT\",\n",
    "  \"Explanation\": \"[Provide a brief explanation for your evaluation]\"\n",
    "}}\n",
    "\"\"\".strip()\n",
    "\n",
    "prompt2_template = \"\"\"\n",
    "You are an expert evaluator for a Retrieval-Augmented Generation (RAG) system.\n",
    "Your task is to analyze the relevance of the generated answer to the given question.\n",
    "Based on the relevance of the generated answer, you will classify it\n",
    "as \"NON_RELEVANT\", \"PARTLY_RELEVANT\", or \"RELEVANT\".\n",
    "\n",
    "Here is the data for evaluation:\n",
    "\n",
    "Question: {question}\n",
    "Generated Answer: {answer_llm}\n",
    "\n",
    "Please analyze the content and context of the generated answer in relation to the question\n",
    "and provide your evaluation in parsable JSON without using code blocks:\n",
    "\n",
    "{{\n",
    "  \"Relevance\": \"NON_RELEVANT\" | \"PARTLY_RELEVANT\" | \"RELEVANT\",\n",
    "  \"Explanation\": \"[Provide a brief explanation for your evaluation]\"\n",
    "}}\n",
    "\"\"\".strip()\n"
   ]
  },
  {
   "cell_type": "code",
   "execution_count": 39,
   "metadata": {},
   "outputs": [
    {
     "data": {
      "text/plain": [
       "240"
      ]
     },
     "execution_count": 39,
     "metadata": {},
     "output_type": "execute_result"
    }
   ],
   "source": [
    "len(ground_truth) "
   ]
  },
  {
   "cell_type": "code",
   "execution_count": 40,
   "metadata": {},
   "outputs": [
    {
     "data": {
      "text/plain": [
       "{'question': 'How do you evaluate the performance of a machine learning model?',\n",
       " 'text_id': '86fd49a66d'}"
      ]
     },
     "execution_count": 40,
     "metadata": {},
     "output_type": "execute_result"
    }
   ],
   "source": [
    "ground_truth[0]"
   ]
  },
  {
   "cell_type": "code",
   "execution_count": 41,
   "metadata": {},
   "outputs": [],
   "source": [
    "record = ground_truth[0]\n",
    "question = record['question']\n",
    "answer_llm = rag(question)"
   ]
  },
  {
   "cell_type": "code",
   "execution_count": 42,
   "metadata": {},
   "outputs": [
    {
     "name": "stdout",
     "output_type": "stream",
     "text": [
      "To evaluate the performance of a machine learning model, there are several metrics that can be used depending on the type of problem being solved and the data available. Some common metrics include:\n",
      "\n",
      "1. Accuracy: This is the proportion of correctly classified instances in the test dataset. It provides a general overview of the model's performance.\n",
      "2. Precision: This is the proportion of true positives (correctly predicted instances) among all positive predictions made by the model. It measures the accuracy of the model's predictions for positive instances.\n",
      "3. Recall: This is the proportion of true positives that were correctly predicted by the model among all actual positive instances. It measures the model's ability to detect all positive instances.\n",
      "4. F1 Score: This is the harmonic mean of precision and recall, and provides a balanced measure of both.\n",
      "5. Mean Squared Error (MSE): This is the average squared difference between the predicted values and the actual values in the test dataset. It measures the model's ability to predict continuous values accurately.\n",
      "6. Root Mean Squared Error (RMSE): This is the square root of the MSE, and provides a similar measure of the model's accuracy in predicting continuous values.\n",
      "7. Area Under the Receiver Operating Characteristic Curve (AUC-ROC): This measures the model's ability to distinguish between positive and negative instances, and is particularly useful for binary classification problems.\n",
      "8. Mean Absolute Error (MAE): This is the average absolute difference between the predicted values and the actual values in the test dataset. It measures the model's ability to predict continuous values accurately without considering the direction of the error.\n",
      "\n",
      "It is important to choose the appropriate metrics based on the problem being solved and the data available, and to use a combination of metrics to evaluate the model's performance from different angles. Additionally, it is important to use a holdout set or validation set to monitor the model's performance during training and adjust its hyperparameters accordingly.\n"
     ]
    }
   ],
   "source": [
    "print(answer_llm)"
   ]
  },
  {
   "cell_type": "code",
   "execution_count": 43,
   "metadata": {},
   "outputs": [
    {
     "name": "stdout",
     "output_type": "stream",
     "text": [
      "You are an expert evaluator for a Retrieval-Augmented Generation (RAG) system.\n",
      "Your task is to analyze the relevance of the generated answer to the given question.\n",
      "Based on the relevance of the generated answer, you will classify it\n",
      "as \"NON_RELEVANT\", \"PARTLY_RELEVANT\", or \"RELEVANT\".\n",
      "\n",
      "Here is the data for evaluation:\n",
      "\n",
      "Question: How do you evaluate the performance of a machine learning model?\n",
      "Generated Answer: To evaluate the performance of a machine learning model, there are several metrics that can be used depending on the type of problem being solved and the data available. Some common metrics include:\n",
      "\n",
      "1. Accuracy: This is the proportion of correctly classified instances in the test dataset. It provides a general overview of the model's performance.\n",
      "2. Precision: This is the proportion of true positives (correctly predicted instances) among all positive predictions made by the model. It measures the accuracy of the model's predictions for positive instances.\n",
      "3. Recall: This is the proportion of true positives that were correctly predicted by the model among all actual positive instances. It measures the model's ability to detect all positive instances.\n",
      "4. F1 Score: This is the harmonic mean of precision and recall, and provides a balanced measure of both.\n",
      "5. Mean Squared Error (MSE): This is the average squared difference between the predicted values and the actual values in the test dataset. It measures the model's ability to predict continuous values accurately.\n",
      "6. Root Mean Squared Error (RMSE): This is the square root of the MSE, and provides a similar measure of the model's accuracy in predicting continuous values.\n",
      "7. Area Under the Receiver Operating Characteristic Curve (AUC-ROC): This measures the model's ability to distinguish between positive and negative instances, and is particularly useful for binary classification problems.\n",
      "8. Mean Absolute Error (MAE): This is the average absolute difference between the predicted values and the actual values in the test dataset. It measures the model's ability to predict continuous values accurately without considering the direction of the error.\n",
      "\n",
      "It is important to choose the appropriate metrics based on the problem being solved and the data available, and to use a combination of metrics to evaluate the model's performance from different angles. Additionally, it is important to use a holdout set or validation set to monitor the model's performance during training and adjust its hyperparameters accordingly.\n",
      "\n",
      "Please analyze the content and context of the generated answer in relation to the question\n",
      "and provide your evaluation in parsable JSON without using code blocks:\n",
      "\n",
      "{\n",
      "  \"Relevance\": \"NON_RELEVANT\" | \"PARTLY_RELEVANT\" | \"RELEVANT\",\n",
      "  \"Explanation\": \"[Provide a brief explanation for your evaluation]\"\n",
      "}\n"
     ]
    }
   ],
   "source": [
    "prompt = prompt2_template.format(question = question , answer_llm = answer_llm)\n",
    "print(prompt)"
   ]
  },
  {
   "cell_type": "code",
   "execution_count": 44,
   "metadata": {},
   "outputs": [
    {
     "name": "stdout",
     "output_type": "stream",
     "text": [
      "{\n",
      "\"Relevance\": \"RELEVANT\",\n",
      "\"Explanation\": \"The generated answer provides a comprehensive overview of the different metrics that can be used to evaluate the performance of a machine learning model, including accuracy, precision, recall, F1 score, MSE, RMSE, AUC-ROC, and MAE. The answer also highlights the importance of choosing appropriate metrics based on the problem being solved and the data available, as well as using a holdout set or validation set to monitor the model's performance during training. Additionally, the answer mentions the three pillars of ML and data science roles: machine learning algorithms and data intuition, programming and software engineering skills, and execution and communication skills. Overall, the generated answer is relevant to the question and provides useful information for evaluating the performance of a machine learning model.\"\n",
      "}\n"
     ]
    }
   ],
   "source": [
    "search_results = minsearch_search_optimized(query, boost)\n",
    "relevance = generate_answer(prompt, search_results)\n",
    "\n",
    "print(relevance)"
   ]
  },
  {
   "cell_type": "code",
   "execution_count": 45,
   "metadata": {},
   "outputs": [
    {
     "data": {
      "application/vnd.jupyter.widget-view+json": {
       "model_id": "e32f73b18109405da6e93a1e90776fdf",
       "version_major": 2,
       "version_minor": 0
      },
      "text/plain": [
       "  0%|          | 0/240 [00:00<?, ?it/s]"
      ]
     },
     "metadata": {},
     "output_type": "display_data"
    },
    {
     "name": "stdout",
     "output_type": "stream",
     "text": [
      "{'question': 'How do you evaluate the performance of a machine learning model?', 'text_id': '86fd49a66d'}\n",
      "{'question': 'Can you explain the difference between supervised and unsupervised learning?', 'text_id': '86fd49a66d'}\n",
      "{'question': 'How do you handle missing data in a machine learning project?', 'text_id': '86fd49a66d'}\n",
      "{'question': 'What is your approach to debugging a machine learning issue?', 'text_id': '86fd49a66d'}\n",
      "{'question': 'Can you describe a time when you had to communicate complex machine learning concepts to a non-technical audience?', 'text_id': '86fd49a66d'}\n",
      "{'question': 'What are some common challenges that data scientists face when working with large datasets?', 'text_id': '9a2356679c'}\n",
      "{'question': 'How have advances in distributed and parallel computing impacted the machine learning field?', 'text_id': '9a2356679c'}\n",
      "{'question': 'Can you explain the difference between a machine learning engineer and a product data scientist?', 'text_id': '9a2356679c'}\n",
      "{'question': 'How has the rise of generative AI applications like ChatGPT affected the job market for data scientists?', 'text_id': '9a2356679c'}\n",
      "{'question': 'What are some emerging trends in the field of machine learning that could potentially lead to new job titles or roles?', 'text_id': '9a2356679c'}\n",
      "{'question': 'How do you ensure that your machine learning models are interpretable and explainable?', 'text_id': '6d22154063'}\n",
      "{'question': 'Can you describe a time when you had to work with a limited amount of data to train a machine learning model, and how did you handle it?', 'text_id': '6d22154063'}\n",
      "{'question': 'How do you approach data preprocessing for a machine learning task, and what are some common techniques you use?', 'text_id': '6d22154063'}\n",
      "{'question': 'Can you walk me through your experience with transfer learning, and how have you applied it in real-world projects?', 'text_id': '6d22154063'}\n",
      "{'question': 'How do you stay up to date with the latest advancements in the field of machine learning, and how do you apply them in your work?', 'text_id': '6d22154063'}\n",
      "{'question': 'How do you handle data preprocessing for machine learning development?', 'text_id': '61153e0cc4'}\n",
      "{'question': 'Can you describe a time when you had to iterate on your ML models due to suboptimal results? How did you improve them?', 'text_id': '61153e0cc4'}\n",
      "{'question': 'How do you ensure that your ML deployments are reliable and performant, especially in a production environment?', 'text_id': '61153e0cc4'}\n",
      "{'question': 'What strategies do you use for feature engineering when working with limited or noisy data?', 'text_id': '61153e0cc4'}\n",
      "{'question': 'Can you walk me through a recent project where you applied reinforcement learning techniques to solve a real-world problem? How did you design the RL system and what were some challenges you faced during implementation?', 'text_id': '61153e0cc4'}\n",
      "{'question': 'How do you approach data intuition when working with new datasets or problems? Can you share an example of how you have used data intuition to inform your ML work?', 'text_id': '535fe561d2'}\n",
      "{'question': \"What are some common pitfalls or challenges you've encountered while working on ML projects, and how did you overcome them?\", 'text_id': '535fe561d2'}\n",
      "{'question': 'How do you stay up-to-date with the latest developments and advancements in the field of ML? Can you share any resources or strategies that have been helpful for you?', 'text_id': '535fe561d2'}\n",
      "{'question': 'Can you describe a time when you had to communicate complex technical concepts to non-technical stakeholders? How did you approach this task, and what was the outcome?', 'text_id': '535fe561d2'}\n",
      "{'question': 'How do you balance the need for rigorous testing and evaluation of ML models with the need to deploy them in a timely manner? Can you provide an example of a project where you had to navigate this trade-off?', 'text_id': '535fe561d2'}\n",
      "{'question': 'How do you map your interests and skills to specific machine learning job titles?', 'text_id': 'f0d1a5d7be'}\n",
      "{'question': 'What are the three pillars of machine learning skills, and how do they relate to each other?', 'text_id': 'f0d1a5d7be'}\n",
      "{'question': \"Can you explain how Table 1-3 can be used to assess a candidate's suitability for various ML jobs?\", 'text_id': 'f0d1a5d7be'}\n",
      "{'question': 'How do you identify which part of the ML lifecycle you are most interested in, and why is it important?', 'text_id': 'f0d1a5d7be'}\n",
      "{'question': 'What are some common job titles related to machine learning and data science that you see advertised on job boards?', 'text_id': 'f0d1a5d7be'}\n",
      "{'question': 'How do you evaluate the performance of a machine learning model?', 'text_id': '6e80eb677b'}\n",
      "{'question': 'Can you explain the concept of overfitting in machine learning?', 'text_id': '6e80eb677b'}\n",
      "{'question': 'How do you handle missing values in a dataset?', 'text_id': '6e80eb677b'}\n",
      "{'question': 'What is your approach to data preprocessing before training a model?', 'text_id': '6e80eb677b'}\n",
      "{'question': 'How do you select the appropriate evaluation metric for a machine learning task?', 'text_id': '6e80eb677b'}\n",
      "{'question': 'Can you tell me about a time when you had to work with a difficult team member? How did you handle the situation?', 'text_id': '2337809957'}\n",
      "{'question': \"What are some common challenges you've faced in your previous roles, and how did you overcome them?\", 'text_id': '2337809957'}\n",
      "{'question': 'Give an example of a project you led and the results you achieved. How did you measure success?', 'text_id': '2337809957'}\n",
      "{'question': 'How do you stay current with developments in machine learning? Can you tell me about a recent paper or article that caught your attention?', 'text_id': '2337809957'}\n",
      "{'question': 'Can you describe a time when you had to make a difficult technical decision, and how did you arrive at that decision?', 'text_id': '2337809957'}\n",
      "{'question': 'How do you optimize your machine learning job application to increase the number of callbacks?', 'text_id': 'e3868ef048'}\n",
      "{'question': 'What are some additional job sites for machine learning professionals beyond online job boards?', 'text_id': 'e3868ef048'}\n",
      "{'question': 'How do you research and identify relevant job listings in the field of machine learning?', 'text_id': 'e3868ef048'}\n",
      "{'question': 'Can you walk me through your process for preparing a strong resume for a machine learning position?', 'text_id': 'e3868ef048'}\n",
      "{'question': 'How do you handle common interview questions related to machine learning, such as model selection and evaluation?', 'text_id': 'e3868ef048'}\n",
      "{'question': 'How do you maintain and grow your professional network?', 'text_id': '114486e1a1'}\n",
      "{'question': 'What are some effective strategies for reaching out to new contacts after meeting them at an event?', 'text_id': '114486e1a1'}\n",
      "{'question': 'How can you leverage your existing relationships to find job opportunities that might not be advertised publicly?', 'text_id': '114486e1a1'}\n",
      "{'question': \"What are some ways to demonstrate value to someone you're trying to network with, beyond just asking for favors?\", 'text_id': '114486e1a1'}\n",
      "{'question': 'How do you balance networking with other aspects of your career and personal life, without letting it consume too much time or energy?', 'text_id': '114486e1a1'}\n",
      "{'question': 'What are the most relevant skills and experiences from your past roles that you can transfer to an ML engineering role?', 'text_id': '195ee8d52d'}\n",
      "{'question': 'How do you prioritize which points to highlight in your resume when applying for different types of ML roles?', 'text_id': '195ee8d52d'}\n",
      "{'question': 'Can you describe a time when you had to work with cross-functional teams, and how did you handle any communication challenges that arose?', 'text_id': '195ee8d52d'}\n",
      "{'question': 'How do you stay current with the latest advancements in machine learning technology and methodologies, and how have you applied them in your previous roles?', 'text_id': '195ee8d52d'}\n",
      "{'question': 'Can you walk me through a recent project where you had to integrate ML models into an existing platform or application, and what were some of the challenges you faced during implementation?', 'text_id': '195ee8d52d'}\n",
      "{'question': 'What are the common ML job titles and how do they differ in responsibilities and skill sets?', 'text_id': '59be39571f'}\n",
      "{'question': 'How do you map your skills to the skills matrix and which roles suit you best?', 'text_id': '59be39571f'}\n",
      "{'question': 'How do you analyze a real job posting and identify the relevant skills required for the role?', 'text_id': '59be39571f'}\n",
      "{'question': 'How do you determine whether a job title is a good match for your skills and experience?', 'text_id': '59be39571f'}\n",
      "{'question': 'What is the importance of networking in the ML industry and how can you track your applications and interviews effectively?', 'text_id': '59be39571f'}\n",
      "{'question': 'What specific ML roles interest you the most? Why do they appeal to you?', 'text_id': '072c02694c'}\n",
      "{'question': 'How do you stay current with emerging trends and techniques in ML? Can you give an example?', 'text_id': '072c02694c'}\n",
      "{'question': 'How do you tailor your resume for each ML job application, considering the specific requirements and skills needed for that role?', 'text_id': '072c02694c'}\n",
      "{'question': 'What are some common mistakes you see in ML resumes, and how can candidates improve theirs?', 'text_id': '072c02694c'}\n",
      "{'question': 'Can you describe a time when you had to troubleshoot an issue with an ML model? How did you approach the problem, and what was the outcome?', 'text_id': '072c02694c'}\n",
      "{'question': 'What are some common mistakes people make when creating their resumes, and how can you avoid them?', 'text_id': 'c80e9a7eaf'}\n",
      "{'question': 'How can you make sure your resume stands out from others without using unconventional formatting?', 'text_id': 'c80e9a7eaf'}\n",
      "{'question': 'In what situations might it be beneficial to include a professional summary or objective statement on your resume?', 'text_id': 'c80e9a7eaf'}\n",
      "{'question': 'Should you use a one-page or two-page resume, and why?', 'text_id': 'c80e9a7eaf'}\n",
      "{'question': \"What is the most important information you should include on your resume to grab the recruiter's attention?\", 'text_id': 'c80e9a7eaf'}\n",
      "{'question': 'What is reinforcement learning, and how does it differ from supervised or unsupervised learning? Give an example of a real-world problem that could benefit from using reinforcement learning.', 'text_id': '331444d407'}\n",
      "{'question': 'How do you approach evaluating the performance of an unsupervised learning algorithm? Can you give me an example of such an algorithm and how you would evaluate its performance?', 'text_id': '331444d407'}\n",
      "{'question': 'How does oversampling work to balance an imbalanced dataset, and what are some potential drawbacks of this technique?', 'text_id': 'd0f8681a67'}\n",
      "{'question': 'What is the main advantage of using ensemble methods in machine learning, and how do they typically improve performance?', 'text_id': 'd0f8681a67'}\n",
      "{'question': 'Can you describe a situation where undersampling might be a better choice than oversampling for balancing an imbalanced dataset?', 'text_id': 'd0f8681a67'}\n",
      "{'question': 'How do you incorporate domain knowledge into your machine learning models? Can you provide an instance of when this was crucial?', 'text_id': '331444d407'}\n",
      "{'question': 'What is natural language processing (NLP)? Can you describe any applications where NLP might be used?', 'text_id': '331444d407'}\n",
      "{'question': \"What is computer vision's role in machine learning? Provide some instances of real-world problems that benefit from this technology.\", 'text_id': '331444d407'}\n",
      "{'question': 'What are some common techniques used to prevent overfitting in machine learning, and how do they work?', 'text_id': 'd0f8681a67'}\n",
      "{'question': 'Can you explain the difference between L1 and L2 regularization, and when might each be appropriate?', 'text_id': 'd0f8681a67'}\n",
      "{'question': 'How do you fine-tune an NLP model for a specific task, and what types of data would you need to provide?', 'text_id': 'a89864b52f'}\n",
      "{'question': 'What are some potential challenges with NLP models, even with robust pretraining, and how can they be improved upon?', 'text_id': 'a89864b52f'}\n",
      "{'question': 'Can you explain the difference between BERT-uncased and BERT-cased, and when might each be preferred in an NLP application?', 'text_id': 'a89864b52f'}\n",
      "{'question': 'How do you adapt preprocessing techniques for different NLP tasks, and what factors do you consider when deciding whether to keep or remove punctuation, for example?', 'text_id': 'a89864b52f'}\n",
      "{'question': 'How important is it to understand the ethical and social risks of language models, particularly in interviews covering data acquisition and NLP applications?', 'text_id': 'a89864b52f'}\n",
      "{'question': 'What are some common challenges that recommender systems face, and how can they be addressed?', 'text_id': 'a6426309ff'}\n",
      "{'question': 'How do you handle data quality issues in a recommender system, and what are some possible solutions?', 'text_id': 'a6426309ff'}\n",
      "{'question': 'Can you explain the difference between explicit and implicit feedback in the context of recommender systems, and why is it important to consider both?', 'text_id': 'a6426309ff'}\n",
      "{'question': 'What techniques can be used to handle class imbalance problems in recommender systems, and when might they be necessary?', 'text_id': 'a6426309ff'}\n",
      "{'question': 'How can combining different ML techniques, such as oversampling, feature engineering, and ensemble methods, help solve challenges in recommender systems?', 'text_id': 'a6426309ff'}\n",
      "{'question': 'How does experience replay help stabilize the training process for Q-networks?', 'text_id': '4ef8a420bc'}\n",
      "{'question': 'How do you decide when supervised learning is more suitable than unsupervised learning? Can you give me an example?', 'text_id': '0ce98a8968'}\n",
      "{'question': 'How can data augmentation help improve the robustness of a machine learning model, and what are some common techniques used in image recognition?', 'text_id': '0ce98a8968'}\n",
      "{'question': 'What are some challenges that can arise when working with imbalanced datasets, and how do you address them?', 'text_id': '0ce98a8968'}\n",
      "{'question': 'Can you discuss a scenario where unsupervised learning is more suitable than supervised learning? How might the results differ between these two approaches?', 'text_id': '0ce98a8968'}\n",
      "{'question': 'How does the choice of algorithm or model depend on the specific problem being solved in machine learning? What are some factors to consider when selecting a model for a particular task?', 'text_id': '0ce98a8968'}\n",
      "{'question': \"How can we adjust the CNN's loss function to handle class imbalance during training?\", 'text_id': '914e36400a'}\n",
      "{'question': 'Can you explain how dropout layers help prevent overfitting in deep neural networks?', 'text_id': '914e36400a'}\n",
      "{'question': 'What are some strategies for reducing layer complexity to avoid overfitting in deep learning models?', 'text_id': '914e36400a'}\n",
      "{'question': 'How do early stopping and data augmentation help mitigate overfitting in image recognition tasks?', 'text_id': '914e36400a'}\n",
      "{'question': 'What is the purpose of using an epsilon-greedy policy in balancing exploration and exploitation?', 'text_id': '4ef8a420bc'}\n",
      "{'question': 'How does the reward function impact the behavior of a model-based RL agent?', 'text_id': '4ef8a420bc'}\n",
      "{'question': 'Can you describe a scenario where model-free RL is preferred over model-based RL?', 'text_id': '4ef8a420bc'}\n",
      "{'question': 'What are some common techniques for handling class imbalance in image recognition tasks?', 'text_id': '914e36400a'}\n",
      "{'question': 'Can you explain the difference between model-based and model-free reinforcement learning algorithms?', 'text_id': '4ef8a420bc'}\n",
      "{'question': 'Can you walk me through your thought process when selecting features for an ML model, and how do you prioritize them?', 'text_id': '005a577345'}\n",
      "{'question': 'What techniques do you use to reduce the dimensionality of high-dimensional data?', 'text_id': '99eacbbf97'}\n",
      "{'question': 'How do you handle missing values during feature engineering?', 'text_id': '99eacbbf97'}\n",
      "{'question': 'How do you determine when an ML algorithm is good enough for practical use?', 'text_id': '005a577345'}\n",
      "{'question': 'In what situations would you prefer to use heuristics over machine learning?', 'text_id': '005a577345'}\n",
      "{'question': 'Can you discuss a time when you had to evaluate the performance of an ML model, and how did you go about it?', 'text_id': '005a577345'}\n",
      "{'question': 'How do you handle overfitting in ML models during training and evaluation?', 'text_id': '005a577345'}\n",
      "{'question': 'Can you explain the difference between tree-based and RL algorithms in machine learning?', 'text_id': '0720f39c5b'}\n",
      "{'question': 'How can regularization techniques prevent overfitting in machine learning models?', 'text_id': '0720f39c5b'}\n",
      "{'question': 'What are some common hyperparameters that are often tuned during model training, and why is it important to tune them?', 'text_id': '0720f39c5b'}\n",
      "{'question': 'How do you evaluate the performance of a binary classification model using the ROC curve? What are the key takeaways from this evaluation method?', 'text_id': '0720f39c5b-1'}\n",
      "{'question': 'Can you explain the difference between precision and recall in a classification problem, and how would you decide which one is more important in a particular context?', 'text_id': '0720f39c5b-1'}\n",
      "{'question': 'How do you handle imbalanced datasets in your ML workflow? What techniques have you found to be most effective in addressing these issues?', 'text_id': '0720f39c5b-1'}\n",
      "{'question': 'In what situations would you prefer to use the NDCG score over other evaluation metrics for ranking models? Can you provide an example from your experience?', 'text_id': '0720f39c5b-1'}\n",
      "{'question': 'How do you approach model versioning and tracking during the ML training process? What tools or techniques do you find most useful in managing these aspects of the workflow?', 'text_id': '0720f39c5b-1'}\n",
      "{'question': 'Can you explain the concept of label encoding and how it differs from numerical encoding?', 'text_id': '99eacbbf97'}\n",
      "{'question': 'How do you approach feature selection when dealing with collinear features?', 'text_id': '99eacbbf97'}\n",
      "{'question': 'What are common optimizers used in machine learning, and how do they differ from one another?', 'text_id': '0720f39c5b'}\n",
      "{'question': 'How do you ensure that your features are not leaking information from the validation or test sets during training?', 'text_id': '99eacbbf97'}\n",
      "{'question': 'How does experiment tracking help improve the reproducibility of model training results?', 'text_id': '0720f39c5b'}\n",
      "{'question': 'Write a Python function to calculate the sum of an array of numbers, but instead of directly returning the result, it should first check if the sum is greater than 5 and if so, print \"Too big!\". How would you approach this question?', 'text_id': 'e5aff76113'}\n",
      "{'question': 'Write a Python function to count the number of occurrences of a particular character in a string. The function should take the string and the character as input and return the number of occurrences as an integer. How would you approach this question?', 'text_id': 'e5aff76113'}\n",
      "{'question': 'Given a list of strings, create a new list that contains all the odd-numbered elements in ascending order. How would you solve this problem using Python?', 'text_id': 'e5aff76113'}\n",
      "{'question': 'Can you share any experiences where a candidate asked for help or clarification during an interview, and how did the interviewer respond?', 'text_id': '6d7e81991e'}\n",
      "{'question': 'How important is it for candidates to keep an eye on the flow of the interview and take control when necessary?', 'text_id': '6d7e81991e'}\n",
      "{'question': 'What are some tips you can offer to candidates on how to navigate technical interviews?', 'text_id': '6d7e81991e'}\n",
      "{'question': 'Write a Python function to find the longest common subsequence between two strings. The function should take the two strings as input and return the length of the longest common subsequence as an integer. How would you solve this problem using Python?', 'text_id': 'e5aff76113'}\n",
      "{'question': 'Given a list of numbers, find the average value of the list. However, the catch is that you can only use addition, subtraction, multiplication, and division to solve the problem. How would you approach this question?', 'text_id': 'e5aff76113'}\n",
      "{'question': 'In noisy environments, what are some strategies candidates can use to ensure they are heard clearly during interviews?', 'text_id': '6d7e81991e'}\n",
      "{'question': 'How would you approach scaling a dataset for a machine learning model with large features, and what potential issues do you anticipate?', 'text_id': 'b00775576b'}\n",
      "{'question': 'How can candidates best prepare themselves for the mental and physical demands of technical interviews, and what are some common mistakes to avoid?', 'text_id': '6d7e81991e'}\n",
      "{'question': 'Given an array of integers, how would you find the pair of numbers that add up to a target value? How would you optimize your solution for larger arrays?', 'text_id': '16c46692ba'}\n",
      "{'question': 'Can you implement a two-pointer pattern to find the middle index in an array of integers? How would you optimize your solution for smaller or larger arrays?', 'text_id': '16c46692ba'}\n",
      "{'question': 'Given an array of integers, how would you find the maximum and minimum values in the array using only a single loop? What is the time complexity of your solution?', 'text_id': '16c46692ba'}\n",
      "{'question': 'What are some strategies for handling missing values in a dataset, and how do you determine which strategy is most appropriate?', 'text_id': 'b00775576b'}\n",
      "{'question': 'Can you explain the difference between bias and variance in machine learning, and how do you balance these two competing factors during model selection?', 'text_id': 'b00775576b'}\n",
      "{'question': 'How would you evaluate the performance of a decision tree model compared to a random forest model for classification tasks, and what are some potential drawbacks of each approach?', 'text_id': 'b00775576b'}\n",
      "{'question': 'In what scenarios might you choose to use a Naive Bayes classifier over other machine learning algorithms, and how do you handle class imbalance in the dataset?', 'text_id': 'b00775576b'}\n",
      "{'question': 'How would you find the sum of two numbers in an array if you could only use each number once? What is the minimum number of steps required to find the sum?', 'text_id': '16c46692ba'}\n",
      "{'question': 'Develop a query to generate a list of products that have been discontinued but still have an active inventory count.', 'text_id': 'ae2aa1ca31'}\n",
      "{'question': 'Design a data structure to store and retrieve a sequence of integers, with an average time complexity of O(log n) for insertion, deletion, and querying the middle element. How would you optimize it for large datasets?', 'text_id': 'dbd8460895'}\n",
      "{'question': 'Given a list of words, find the most common prefix among them. How would you solve this problem in O(n log n) time?', 'text_id': 'dbd8460895'}\n",
      "{'question': 'Implement a recursive algorithm to find the maximum subarray sum within a given array. What is the time complexity of your solution?', 'text_id': 'dbd8460895'}\n",
      "{'question': 'Write a Python function to generate all possible permutations of a given string, and return them in lexicographic order. How would you optimize this function for large strings?', 'text_id': 'dbd8460895'}\n",
      "{'question': 'Given an integer array A, find the longest common prefix with another array B, where the length of the common prefix is at most k. How would you solve this problem in O(n) time?', 'text_id': 'dbd8460895'}\n",
      "{'question': 'Calculate the average price of all products sold in the last quarter.', 'text_id': 'ae2aa1ca31'}\n",
      "{'question': 'Identify the category with the most significant growth in sales over the past year.', 'text_id': 'ae2aa1ca31'}\n",
      "{'question': 'Write a query to find the top 3 selling products across all categories.', 'text_id': 'ae2aa1ca31'}\n",
      "{'question': 'How many customers purchased more than 5 items in a single order?', 'text_id': 'ae2aa1ca31'}\n",
      "{'question': 'Can you write a function to count the number of pairs of integers in an array that sum up to a target value? How would you optimize your solution for larger arrays?', 'text_id': '16c46692ba'}\n",
      "{'question': 'Can you walk me through your experience with automating the ML model deployment process using CI/CD tools and technologies?', 'text_id': 'f45e93a39b'}\n",
      "{'question': 'How do you ensure that your ML models are compatible with different hardware and software environments during deployment?', 'text_id': 'f45e93a39b'}\n",
      "{'question': \"What are some common challenges you've encountered while deploying ML models in a production environment, and how did you address them?\", 'text_id': 'f45e93a39b'}\n",
      "{'question': 'How do you manage and optimize the ML model deployment process for efficiency and performance in production environments?', 'text_id': 'f45e93a39b'}\n",
      "{'question': 'Can you describe a time when you had to troubleshoot an issue with ML model deployment, and how did you resolve it?', 'text_id': 'f45e93a39b'}\n",
      "{'question': 'How do you ensure your model is deployed correctly and efficiently across different cloud providers, such as GCP, AWS, or Azure?', 'text_id': '95d66e0b67'}\n",
      "{'question': 'Can you explain the difference between IAM roles and service accounts in GCP, and how they are used in ML workflows?', 'text_id': '95d66e0b67'}\n",
      "{'question': 'What is your experience with Google Cloud Run, and how do you use it for ML deployments?', 'text_id': '95d66e0b67'}\n",
      "{'question': 'How do you handle data storage and management when working with large datasets in a cloud environment, such as Google Cloud Storage or AWS S3?', 'text_id': '95d66e0b67'}\n",
      "{'question': \"Can you discuss the advantages and disadvantages of using Vertex AI for end-to-end ML solutions compared to other cloud providers' offerings?\", 'text_id': '95d66e0b67'}\n",
      "{'question': 'How do you manage conflicts when working on codebase with multiple people?', 'text_id': 'acad0ef561'}\n",
      "{'question': 'What is your experience with dependency management tools like Poetry or Pipenv for Python projects?', 'text_id': 'acad0ef561'}\n",
      "{'question': 'Can you walk me through a time when you had to integrate changes into an existing project, and how did you handle any issues that arose during the process?', 'text_id': 'acad0ef561'}\n",
      "{'question': 'How do you approach testing code during development, and what strategies do you use to ensure thorough coverage?', 'text_id': 'acad0ef561'}\n",
      "{'question': 'Can you give an example of a time when you had to adapt to a new software development workflow or toolset, and how did you handle the learning curve?', 'text_id': 'acad0ef561'}\n",
      "{'question': 'How do you approach scaling a machine learning model in production, and what tools or techniques have you found most useful?', 'text_id': '9ebc3f2b8d'}\n",
      "{'question': 'Can you describe a situation where you had to troubleshoot an issue with a machine learning model in a cloud environment? How did you identify the root cause of the problem?', 'text_id': '9ebc3f2b8d'}\n",
      "{'question': 'How do you monitor the performance and accuracy of a machine learning model over time, especially as new data becomes available?', 'text_id': '9ebc3f2b8d'}\n",
      "{'question': 'Have you worked on a project where you had to integrate machine learning models with other systems or applications? If so, can you walk me through your approach?', 'text_id': '9ebc3f2b8d'}\n",
      "{'question': \"How do you stay up-to-date with the latest developments and best practices in the field of machine learning engineering? Can you give an example of a conference or workshop you've attended or a book or resource that has been particularly helpful to you?\", 'text_id': '9ebc3f2b8d'}\n",
      "{'question': 'In what situations would you use automated data checks or unit tests to save time and ensure accuracy in ML model development?', 'text_id': '2e54c275a1'}\n",
      "{'question': 'What are some common tools used for data quality checks and automated monitoring in ML?', 'text_id': '2e54c275a1'}\n",
      "{'question': 'Can you walk me through a real-life scenario where you had to troubleshoot a problem with an ML model in production, and how did you approach it?', 'text_id': '2e54c275a1'}\n",
      "{'question': 'How do you ensure that the dashboards and graphs you create are simple and easy to understand for non-technical stakeholders?', 'text_id': '2e54c275a1'}\n",
      "{'question': 'How do you handle monitoring and accuracy-related metrics for ML models in production?', 'text_id': '2e54c275a1'}\n",
      "{'question': 'How do you determine the appropriate level of detail to provide when explaining technical concepts to a non-technical audience during an interview?', 'text_id': 'f6f741906a'}\n",
      "{'question': 'Can you share an example of how you used context to explain a technical concept during an interview, and what was the outcome?', 'text_id': 'f6f741906a'}\n",
      "{'question': 'How do you ensure that you are using terminology familiar to the interviewer when discussing technical work during an interview?', 'text_id': 'f6f741906a'}\n",
      "{'question': 'Can you walk me through how you would approach debugging a difficult issue in a codebase? What steps would you take and why?', 'text_id': 'f6620b37bc'}\n",
      "{'question': 'Describe a project or initiative you led where you had to make a difficult trade-off between two competing goals. How did you decide which one to prioritize and why?', 'text_id': 'f6620b37bc'}\n",
      "{'question': 'Can you describe a time when you had to train a machine learning model independently? How did you approach the task, and what challenges did you encounter along the way?', 'text_id': '052c470148'}\n",
      "{'question': \"How do you stay organized and manage your time effectively during a long technical interview? Can you give an example of a strategy you've used in the past?\", 'text_id': '052c470148'}\n",
      "{'question': 'What is the most effective way to adjust the level of detail depending on the audience during an interview for an ML job?', 'text_id': 'f6f741906a'}\n",
      "{'question': 'Tell me about the most challenging technical problem you had to solve recently, and how did you approach it?', 'text_id': 'f6620b37bc'}\n",
      "{'question': 'Can you describe a time when you had to collaborate with someone who had a different work style than you? How did you adapt?', 'text_id': 'f6620b37bc'}\n",
      "{'question': 'How do you stay current with the latest developments in your field or industry? Can you give me an example of something you learned recently?', 'text_id': 'f6620b37bc'}\n",
      "{'question': \"What are some common pitfalls you see in job candidates' explanations of their technical work during interviews, and how can they avoid them?\", 'text_id': 'f6f741906a'}\n",
      "{'question': 'Tell me about a time when you made a decision thanks to your curiosity. What was the outcome, and what did you learn from it?', 'text_id': '322f155e7d'}\n",
      "{'question': 'Can you give an instance of when you had to raise the bar for your team? How did you go about it?', 'text_id': '322f155e7d'}\n",
      "{'question': 'How do you balance the need for innovation in your work with the need to follow established protocols and standards? Can you give an example of a situation where you had to strike this balance?', 'text_id': '052c470148'}\n",
      "{'question': 'Can you walk me through a time when you had to debug a difficult issue with your code? What steps did you take to identify the problem and resolve it?', 'text_id': '052c470148'}\n",
      "{'question': 'Tell me about a project where you had to communicate complex technical concepts to a non-technical audience. How did you approach the communication, and what was the outcome?', 'text_id': '052c470148'}\n",
      "{'question': 'Describe a situation where you exceeded your normal duties. What motivated you, and how did you handle it?', 'text_id': '322f155e7d'}\n",
      "{'question': 'Can you tell me about a time when you had to think creatively to solve a problem? What was the challenge, and how did you come up with a solution?', 'text_id': '322f155e7d'}\n",
      "{'question': 'How do you handle conflict in the workplace? Give me an example of when you had to resolve a difficult situation with a colleague or supervisor.', 'text_id': '322f155e7d'}\n",
      "{'question': 'How do you approach creating a personalized study plan for interview preparation?', 'text_id': '995cfd588e'}\n",
      "{'question': 'Can you walk me through your process of adjusting the study plan based on progress and energy levels?', 'text_id': '995cfd588e'}\n",
      "{'question': \"What are some common pitfalls you've encountered while creating an interview roadmap, and how do you address them?\", 'text_id': '995cfd588e'}\n",
      "{'question': 'How do you approach the ML lifecycle when working on a project?', 'text_id': 'e123c4c971'}\n",
      "{'question': 'What skills are essential for success in a data scientist role, and how have you developed those skills?', 'text_id': 'e123c4c971'}\n",
      "{'question': 'Can you walk me through your experience with interview preparation and what worked best for you?', 'text_id': 'e123c4c971'}\n",
      "{'question': 'How do you stay up-to-date with new techniques and technologies in the field of machine learning?', 'text_id': 'e123c4c971'}\n",
      "{'question': 'Can you describe a time when you had to communicate complex technical concepts to a non-technical audience, and how did you approach that situation?', 'text_id': 'e123c4c971'}\n",
      "{'question': 'How do you handle moments of stuckness or frustration during interview preparation, and what techniques have you found to be most helpful in overcoming these challenges?', 'text_id': '561ddf5f64'}\n",
      "{'question': 'How do you balance sustained practice with rest and self-care to avoid burnout during interview preparation?', 'text_id': '561ddf5f64'}\n",
      "{'question': 'How do you evaluate the complexity of a machine learning problem?', 'text_id': '6dadcd84bd'}\n",
      "{'question': 'What strategies do you use to manage your time effectively during an interview?', 'text_id': '6dadcd84bd'}\n",
      "{'question': 'Can you explain the concept of overfitting in machine learning, and how do you avoid it?', 'text_id': '6dadcd84bd'}\n",
      "{'question': \"How do you approach debugging a machine learning model that's not performing as expected?\", 'text_id': '6dadcd84bd'}\n",
      "{'question': 'Can you describe a situation where you had to communicate complex technical concepts to a non-technical audience, and how did you handle it?', 'text_id': '6dadcd84bd'}\n",
      "{'question': 'Have you tried using a Pomodoro timer or other accountability tools, and if so, how did they help you?', 'text_id': '561ddf5f64'}\n",
      "{'question': 'Can you share a recent example of when you had to adjust your interview roadmap midway through the preparation process, and how did you handle it?', 'text_id': '995cfd588e'}\n",
      "{'question': 'How do you stay accountable when preparing for interviews on your own?', 'text_id': '561ddf5f64'}\n",
      "{'question': 'What strategies have you found to be most effective for managing your time and focus during interview preparation?', 'text_id': '561ddf5f64'}\n",
      "{'question': 'How do you ensure that your study plan is realistic and achievable within the given time frame?', 'text_id': '995cfd588e'}\n",
      "{'question': 'Can you share a time when you had to improvise an answer to an unexpected interview question?', 'text_id': '22eb7b9b30'}\n",
      "{'question': 'How do you stay organized and focused during long interviews?', 'text_id': '22eb7b9b30'}\n",
      "{'question': 'Have you ever had a negative experience with an interviewer, and if so, how did you handle it?', 'text_id': '22eb7b9b30'}\n",
      "{'question': \"How do you handle it when you're asked the same question multiple times during an interview?\", 'text_id': '22eb7b9b30'}\n",
      "{'question': 'How important is it to network and seek referrals when applying for jobs?', 'text_id': '1026686599'}\n",
      "{'question': 'Do you tailor your resume for each job application, and why?', 'text_id': '1026686599'}\n",
      "{'question': 'What are some ways to stay professional and positive when responding to rejection emails?', 'text_id': '1026686599'}\n",
      "{'question': 'How do you handle rejection in the job application process?', 'text_id': '1026686599'}\n",
      "{'question': 'In your opinion, what is the most important quality for a data scientist to possess during an interview?', 'text_id': '22eb7b9b30'}\n",
      "{'question': 'Can you share any personal experiences of how improving your resume led to increased interview invitations?', 'text_id': '1026686599'}\n",
      "{'question': 'How do you exercise options, and what information should you understand about this process?', 'text_id': 'dee0126444'}\n",
      "{'question': 'What are the vesting periods for stocks and options?', 'text_id': 'dee0126444'}\n",
      "{'question': \"How important is it to understand the company's goals and objectives when starting a new ML job, and why?\", 'text_id': '2ca59d8bf2'}\n",
      "{'question': 'What are some common mistakes new data scientists make during the onboarding process, and how can they be avoided?', 'text_id': '2ca59d8bf2'}\n",
      "{'question': 'What steps can you take to clarify any unanswered questions or concerns about the offer before signing the contract?', 'text_id': 'dee0126444'}\n",
      "{'question': 'How do benefits like health and dental impact your life stage and personal situation?', 'text_id': 'dee0126444'}\n",
      "{'question': 'Can you provide examples of non-base pay options beyond RSUs and stock options?', 'text_id': 'dee0126444'}\n",
      "{'question': 'How can data scientists ensure they are contributing to the growth and success of their team and organization, beyond just completing tasks and meeting deadlines?', 'text_id': '2ca59d8bf2'}\n",
      "{'question': 'Can you share an experience where reaching out to non-technical colleagues helped you solve a problem or improve your work?', 'text_id': '2ca59d8bf2'}\n",
      "{'question': 'What are some practical ways to stay up-to-date with the latest developments in the field of machine learning, especially during the early stages of a new job?', 'text_id': '2ca59d8bf2'}\n"
     ]
    }
   ],
   "source": [
    "for record in tqdm(ground_truth):\n",
    "    print(record)"
   ]
  },
  {
   "cell_type": "code",
   "execution_count": 46,
   "metadata": {},
   "outputs": [
    {
     "data": {
      "application/vnd.jupyter.widget-view+json": {
       "model_id": "a3849f9e04a648e7b244a51b1f4ad6af",
       "version_major": 2,
       "version_minor": 0
      },
      "text/plain": [
       "  0%|          | 0/240 [00:00<?, ?it/s]"
      ]
     },
     "metadata": {},
     "output_type": "display_data"
    }
   ],
   "source": [
    "evaluations = []\n",
    "\n",
    "for record in tqdm(ground_truth):\n",
    "    question = record['question']\n",
    "    answer_llm = rag(question)\n",
    "    \n",
    "    prompt = prompt2_template.format(question = question , answer_llm = answer_llm)\n",
    "    search_results = minsearch_search_optimized(query, boost)\n",
    "    relevance = generate_answer(prompt, search_results)\n",
    "    evaluations.append((record['question'], answer_llm, relevance))"
   ]
  },
  {
   "cell_type": "code",
   "execution_count": 47,
   "metadata": {},
   "outputs": [
    {
     "data": {
      "text/plain": [
       "('How do you evaluate the performance of a machine learning model?',\n",
       " \"To evaluate the performance of a machine learning model, there are several metrics that can be used depending on the type of problem and data available. Some common metrics include:\\n\\n1. Accuracy: The proportion of correctly classified instances in the test dataset.\\n2. Precision: The proportion of true positives (correctly predicted instances) among all positive predictions made by the model.\\n3. Recall: The proportion of true positives among all actual positive instances in the test dataset.\\n4. F1 score: A measure of balance between precision and recall, calculated as the harmonic mean of precision and recall.\\n5. Mean squared error (MSE): A measure of the average squared difference between predicted and actual values for continuous output variables.\\n6. Root mean squared error (RMSE): A measure of the average squared difference between predicted and actual values, calculated as the square root of the MSE.\\n7. Area under the receiver operating characteristic curve (AUC-ROC): A measure of the model's ability to distinguish between positive and negative classes, with a higher value indicating better performance.\\n8. Confusion matrix: A table that summarizes the predictions made by the model against the actual values, can be used to calculate various metrics such as accuracy, precision, recall, and F1 score.\\n9. Loss function: Depending on the type of problem, different loss functions can be used to measure the difference between predicted and actual values, such as mean squared error (MSE) for regression problems or cross-entropy for classification problems.\\n\\nIt is important to monitor these metrics during training and evaluation to assess the model's performance and identify areas for improvement. The choice of metrics will depend on the specific problem and data available, and can be tuned based on the results of the evaluation.\",\n",
       " '{\\n\"Relevance\": \"RELEVANT\",\\n\"Explanation\": \"The generated answer provides relevant information related to the question and context. It mentions several metrics that are commonly used to evaluate the performance of a machine learning model, including accuracy, precision, recall, F1 score, MSE, RMSE, AUC-ROC, and loss function. The answer also highlights the importance of monitoring these metrics during training and evaluation to assess the model\\'s performance and identify areas for improvement. Overall, the answer is relevant and provides useful information for someone preparing for a data science job interview.\"\\n}')"
      ]
     },
     "execution_count": 47,
     "metadata": {},
     "output_type": "execute_result"
    }
   ],
   "source": [
    "evaluations[0]"
   ]
  },
  {
   "cell_type": "code",
   "execution_count": 48,
   "metadata": {},
   "outputs": [],
   "source": [
    "df_eval = pd.DataFrame(evaluations, columns=['Question', 'Response', 'Evaluation'])"
   ]
  },
  {
   "cell_type": "code",
   "execution_count": 49,
   "metadata": {},
   "outputs": [
    {
     "data": {
      "text/html": [
       "<div>\n",
       "<style scoped>\n",
       "    .dataframe tbody tr th:only-of-type {\n",
       "        vertical-align: middle;\n",
       "    }\n",
       "\n",
       "    .dataframe tbody tr th {\n",
       "        vertical-align: top;\n",
       "    }\n",
       "\n",
       "    .dataframe thead th {\n",
       "        text-align: right;\n",
       "    }\n",
       "</style>\n",
       "<table border=\"1\" class=\"dataframe\">\n",
       "  <thead>\n",
       "    <tr style=\"text-align: right;\">\n",
       "      <th></th>\n",
       "      <th>Question</th>\n",
       "      <th>Response</th>\n",
       "      <th>Evaluation</th>\n",
       "    </tr>\n",
       "  </thead>\n",
       "  <tbody>\n",
       "    <tr>\n",
       "      <th>0</th>\n",
       "      <td>How do you evaluate the performance of a machi...</td>\n",
       "      <td>To evaluate the performance of a machine learn...</td>\n",
       "      <td>{\\n\"Relevance\": \"RELEVANT\",\\n\"Explanation\": \"T...</td>\n",
       "    </tr>\n",
       "    <tr>\n",
       "      <th>1</th>\n",
       "      <td>Can you explain the difference between supervi...</td>\n",
       "      <td>Sure! Here's the answer to the question \"Can y...</td>\n",
       "      <td>{\\n  \"Relevance\": \"RELEVANT\",\\n  \"Explanation\"...</td>\n",
       "    </tr>\n",
       "    <tr>\n",
       "      <th>2</th>\n",
       "      <td>How do you handle missing data in a machine le...</td>\n",
       "      <td>To handle missing data in a machine learning p...</td>\n",
       "      <td>{\\n\"Relevance\": \"RELEVANT\",\\n\"Explanation\": \"T...</td>\n",
       "    </tr>\n",
       "    <tr>\n",
       "      <th>3</th>\n",
       "      <td>What is your approach to debugging a machine l...</td>\n",
       "      <td>My approach to debugging a machine learning is...</td>\n",
       "      <td>Based on the provided context and the generate...</td>\n",
       "    </tr>\n",
       "    <tr>\n",
       "      <th>4</th>\n",
       "      <td>Can you describe a time when you had to commun...</td>\n",
       "      <td>Certainly! Here's my response:\\n\\n\"I recall a ...</td>\n",
       "      <td>{\\n\"Relevance\": \"RELEVANT\",\\n\"Explanation\": \"T...</td>\n",
       "    </tr>\n",
       "    <tr>\n",
       "      <th>...</th>\n",
       "      <td>...</td>\n",
       "      <td>...</td>\n",
       "      <td>...</td>\n",
       "    </tr>\n",
       "    <tr>\n",
       "      <th>235</th>\n",
       "      <td>How do benefits like health and dental impact ...</td>\n",
       "      <td>Benefits like health and dental can significan...</td>\n",
       "      <td>Based on the provided context and the generate...</td>\n",
       "    </tr>\n",
       "    <tr>\n",
       "      <th>236</th>\n",
       "      <td>Can you provide examples of non-base pay optio...</td>\n",
       "      <td>Sure! Here are some examples of non-base pay o...</td>\n",
       "      <td>Based on the provided context and the generate...</td>\n",
       "    </tr>\n",
       "    <tr>\n",
       "      <th>237</th>\n",
       "      <td>How can data scientists ensure they are contri...</td>\n",
       "      <td>To ensure they are contributing to the growth ...</td>\n",
       "      <td>Based on the generated answer, I would evaluat...</td>\n",
       "    </tr>\n",
       "    <tr>\n",
       "      <th>238</th>\n",
       "      <td>Can you share an experience where reaching out...</td>\n",
       "      <td>Certainly! Here's my answer to the question:\\n...</td>\n",
       "      <td>{\\n\"Relevance\": \"RELEVANT\",\\n\"Explanation\": \"T...</td>\n",
       "    </tr>\n",
       "    <tr>\n",
       "      <th>239</th>\n",
       "      <td>What are some practical ways to stay up-to-dat...</td>\n",
       "      <td>Here are some practical ways to stay up-to-dat...</td>\n",
       "      <td>Based on the provided answer, I would evaluate...</td>\n",
       "    </tr>\n",
       "  </tbody>\n",
       "</table>\n",
       "<p>240 rows × 3 columns</p>\n",
       "</div>"
      ],
      "text/plain": [
       "                                              Question  \\\n",
       "0    How do you evaluate the performance of a machi...   \n",
       "1    Can you explain the difference between supervi...   \n",
       "2    How do you handle missing data in a machine le...   \n",
       "3    What is your approach to debugging a machine l...   \n",
       "4    Can you describe a time when you had to commun...   \n",
       "..                                                 ...   \n",
       "235  How do benefits like health and dental impact ...   \n",
       "236  Can you provide examples of non-base pay optio...   \n",
       "237  How can data scientists ensure they are contri...   \n",
       "238  Can you share an experience where reaching out...   \n",
       "239  What are some practical ways to stay up-to-dat...   \n",
       "\n",
       "                                              Response  \\\n",
       "0    To evaluate the performance of a machine learn...   \n",
       "1    Sure! Here's the answer to the question \"Can y...   \n",
       "2    To handle missing data in a machine learning p...   \n",
       "3    My approach to debugging a machine learning is...   \n",
       "4    Certainly! Here's my response:\\n\\n\"I recall a ...   \n",
       "..                                                 ...   \n",
       "235  Benefits like health and dental can significan...   \n",
       "236  Sure! Here are some examples of non-base pay o...   \n",
       "237  To ensure they are contributing to the growth ...   \n",
       "238  Certainly! Here's my answer to the question:\\n...   \n",
       "239  Here are some practical ways to stay up-to-dat...   \n",
       "\n",
       "                                            Evaluation  \n",
       "0    {\\n\"Relevance\": \"RELEVANT\",\\n\"Explanation\": \"T...  \n",
       "1    {\\n  \"Relevance\": \"RELEVANT\",\\n  \"Explanation\"...  \n",
       "2    {\\n\"Relevance\": \"RELEVANT\",\\n\"Explanation\": \"T...  \n",
       "3    Based on the provided context and the generate...  \n",
       "4    {\\n\"Relevance\": \"RELEVANT\",\\n\"Explanation\": \"T...  \n",
       "..                                                 ...  \n",
       "235  Based on the provided context and the generate...  \n",
       "236  Based on the provided context and the generate...  \n",
       "237  Based on the generated answer, I would evaluat...  \n",
       "238  {\\n\"Relevance\": \"RELEVANT\",\\n\"Explanation\": \"T...  \n",
       "239  Based on the provided answer, I would evaluate...  \n",
       "\n",
       "[240 rows x 3 columns]"
      ]
     },
     "execution_count": 49,
     "metadata": {},
     "output_type": "execute_result"
    }
   ],
   "source": [
    "df_eval"
   ]
  },
  {
   "cell_type": "code",
   "execution_count": 50,
   "metadata": {},
   "outputs": [],
   "source": [
    "import re \n",
    "\n",
    "def categorize_evaluation(text):\n",
    "    if re.search(r'\"NON_RELEVANT\"', text):\n",
    "        return \"NON_RELEVANT\"\n",
    "    elif re.search(r'\"PARTLY_RELEVANT\"', text):\n",
    "        return \"PARTLY_RELEVANT\"\n",
    "    elif re.search(r'\"RELEVANT\"', text):\n",
    "        return \"RELEVANT\"\n",
    "    else:\n",
    "        return \"UNKNOWN\"\n",
    "\n",
    "df_eval['Category'] = df_eval['Evaluation'].apply(categorize_evaluation)\n",
    "\n",
    "category_counts = df_eval['Category'].value_counts()"
   ]
  },
  {
   "cell_type": "code",
   "execution_count": 51,
   "metadata": {},
   "outputs": [
    {
     "data": {
      "text/plain": [
       "Category\n",
       "RELEVANT           231\n",
       "PARTLY_RELEVANT      9\n",
       "Name: count, dtype: int64"
      ]
     },
     "execution_count": 51,
     "metadata": {},
     "output_type": "execute_result"
    }
   ],
   "source": [
    "category_counts"
   ]
  },
  {
   "cell_type": "code",
   "execution_count": 52,
   "metadata": {},
   "outputs": [
    {
     "data": {
      "text/plain": [
       "Category\n",
       "RELEVANT           0.9625\n",
       "PARTLY_RELEVANT    0.0375\n",
       "Name: proportion, dtype: float64"
      ]
     },
     "execution_count": 52,
     "metadata": {},
     "output_type": "execute_result"
    }
   ],
   "source": [
    "normalized_counts = df_eval['Category'].value_counts(normalize= True)\n",
    "normalized_counts"
   ]
  },
  {
   "cell_type": "code",
   "execution_count": null,
   "metadata": {},
   "outputs": [],
   "source": []
  }
 ],
 "metadata": {
  "kernelspec": {
   "display_name": "interview_preparation_bot-ZQDkHgpI",
   "language": "python",
   "name": "python3"
  },
  "language_info": {
   "codemirror_mode": {
    "name": "ipython",
    "version": 3
   },
   "file_extension": ".py",
   "mimetype": "text/x-python",
   "name": "python",
   "nbconvert_exporter": "python",
   "pygments_lexer": "ipython3",
   "version": "3.10.12"
  }
 },
 "nbformat": 4,
 "nbformat_minor": 2
}
