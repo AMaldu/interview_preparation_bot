{
 "cells": [
  {
   "cell_type": "code",
   "execution_count": 1,
   "metadata": {},
   "outputs": [],
   "source": [
    "import pandas as pd\n",
    "\n",
    "import warnings\n",
    "\n",
    "warnings.filterwarnings(\"ignore\")"
   ]
  },
  {
   "cell_type": "code",
   "execution_count": 2,
   "metadata": {},
   "outputs": [],
   "source": [
    "df = pd.read_csv('../data/gold/data.csv')\n",
    "documents = df.to_dict(orient='records')"
   ]
  },
  {
   "cell_type": "code",
   "execution_count": 3,
   "metadata": {},
   "outputs": [
    {
     "data": {
      "text/plain": [
       "{'id': 0,\n",
       " 'section': 'Overview of This Book',\n",
       " 'text': 'In the first part of this chapter, I’ll walk through the structure of this book. Then, I’ll discuss the various job titles and roles that use ML skills in industry. 1 I’ll also clarify the responsibilities of various job titles, such as data scientist, machine learning engineer, and so on, as this is a common point of confusion for job seekers. These will be illustrated with an ML skills matrix and ML lifecycle that will be referenced throughout the book. The second part of this chapter walks through the interview process, from beginning to end. I’ve mentored candidates who appreciated this overview since online resources often focus on specific pieces of the interview but not how they all connect together and result in an offer. Especially for new graduates 2 and readers coming from different industries, this chapter helps get everyone on the same page as well as clarifies the process. The interconnecting pieces of interviews are complex, with many types of combina‐ tions depending on the ML role you’re aiming for. This overview will help set the stage, so you’ll know what to focus your time on. For example, some online resources focus on knowledge specific to “product data scientists,” but will title the course or article “data scientist interview tips” without differentiating. For a newcomer, it’s hard to tell if that is relevant to your own career interests. After this chapter, you’ll be able to tell what skills are required for each job title, and in Chapter 2 , you’ll be able to parse out that information yourself from job postings and make your resume as relevant to the job title and job posting as possible. This chapter focuses on helping you differentiate among various ML roles, and walks through the entire interview process, as illustrated in Figure 1-1 : • Job applications and resume ( Chapter 2 ) • Technical interviews — Machine learning (Chapters 3 , 4 , and 6 ) — Coding/programming ( Chapter 5 ) • Behavioral interviews ( Chapter 7 ) • Your interview roadmap ( Chapter 8 ) • Post-interview and follow-up ( Chapter 9 ) Figure 1-1. Overview of the chapters and how they tie into the ML interview process. Depending on where you are in your ML interview journey, I encourage you to focus on the chapters and sections that seem relevant to you. I’ve also planned the book to be referenced as you go along; for example, you might iterate on your resume multi‐ ple times and then flip back to Chapter 2 when needed. The same applies to the other chapters. With that overview, let’s continue. The companion site to this book, https://susanshu.substack.com , features bonus content, helper resources, and more.',\n",
       " 'text_id': '86fd49a66d'}"
      ]
     },
     "execution_count": 3,
     "metadata": {},
     "output_type": "execute_result"
    }
   ],
   "source": [
    "documents[0]"
   ]
  },
  {
   "cell_type": "markdown",
   "metadata": {},
   "source": [
    "## Split into chunks/sentence"
   ]
  },
  {
   "cell_type": "code",
   "execution_count": 4,
   "metadata": {},
   "outputs": [],
   "source": [
    "import spacy\n",
    "\n",
    "nlp = spacy.load(\"es_core_news_sm\") "
   ]
  },
  {
   "cell_type": "code",
   "execution_count": 5,
   "metadata": {},
   "outputs": [],
   "source": [
    "def split_into_sentence_chunks(text, base_id):\n",
    "    doc = nlp(text)  \n",
    "    sentences = [sent.text for sent in doc.sents] \n",
    "\n",
    "    chunked_texts = []\n",
    "    current_chunk = []\n",
    "\n",
    "    for sentence in sentences:\n",
    "        current_chunk.append(sentence)\n",
    "\n",
    "        if len(current_chunk) >= 3:  \n",
    "            chunked_texts.append(' '.join(current_chunk))\n",
    "            current_chunk = []  \n",
    "\n",
    "    if current_chunk:\n",
    "        chunked_texts.append(' '.join(current_chunk))\n",
    "\n",
    "    chunk_ids = [f\"{base_id}_{i + 1}\" for i in range(len(chunked_texts))]\n",
    "\n",
    "    return [{'chunk_id': chunk_id, 'chunk_text': chunk_text, 'text_id': base_id} \n",
    "            for chunk_id, chunk_text in zip(chunk_ids, chunked_texts)]\n",
    "\n",
    "chunked_docs = []\n",
    "for doc in documents:\n",
    "    if 'text' in doc and 'text_id' in doc:  \n",
    "        chunks = split_into_sentence_chunks(doc['text'], doc['text_id'])\n",
    "        chunked_docs.extend(chunks)  \n",
    "\n"
   ]
  },
  {
   "cell_type": "code",
   "execution_count": 6,
   "metadata": {},
   "outputs": [
    {
     "data": {
      "text/plain": [
       "[{'chunk_id': '86fd49a66d_1',\n",
       "  'chunk_text': 'In the first part of this chapter, I’ll walk through the structure of this book. Then, I’ll discuss the various job titles and roles that use ML skills in industry. 1 I’ll also clarify the responsibilities of various job titles, such as data scientist, machine learning engineer, and so on, as this is a common point of confusion for job seekers.',\n",
       "  'text_id': '86fd49a66d'},\n",
       " {'chunk_id': '86fd49a66d_2',\n",
       "  'chunk_text': 'These will be illustrated with an ML skills matrix and ML lifecycle that will be referenced throughout the book. The second part of this chapter walks through the interview process, from beginning to end. I’ve mentored candidates who appreciated this overview since online resources often focus on specific pieces of the interview but not how they all connect together and result in an offer.',\n",
       "  'text_id': '86fd49a66d'}]"
      ]
     },
     "execution_count": 6,
     "metadata": {},
     "output_type": "execute_result"
    }
   ],
   "source": [
    "chunked_docs[0:2]"
   ]
  },
  {
   "cell_type": "markdown",
   "metadata": {},
   "source": [
    "## minsearch"
   ]
  },
  {
   "cell_type": "code",
   "execution_count": 7,
   "metadata": {},
   "outputs": [],
   "source": [
    "from minsearch import Index\n"
   ]
  },
  {
   "cell_type": "code",
   "execution_count": 8,
   "metadata": {},
   "outputs": [
    {
     "data": {
      "text/plain": [
       "<minsearch.minsearch.Index at 0x7e22b458e1a0>"
      ]
     },
     "execution_count": 8,
     "metadata": {},
     "output_type": "execute_result"
    }
   ],
   "source": [
    "index = Index(\n",
    "    text_fields=[ \"chunk_text\"],\n",
    "    keyword_fields=[\"text_id\", \"chunk_id\"]\n",
    ")\n",
    "\n",
    "\n",
    "index.fit(chunked_docs)"
   ]
  },
  {
   "cell_type": "code",
   "execution_count": 9,
   "metadata": {},
   "outputs": [],
   "source": [
    "query = 'what is the scope of a data scientist?'\n",
    "\n",
    "def search(query, boost= None):\n",
    "    if boost is None:\n",
    "        boost = {}\n",
    "    # boost = {'text': 3.0, 'section': 0.5}\n",
    "    \n",
    "    results = index.search(\n",
    "        query=query,\n",
    "        filter_dict = {},\n",
    "        boost_dict=boost,\n",
    "        num_results=5\n",
    "    )\n",
    "\n",
    "    return results\n",
    "\n",
    "# search_results = search(query)\n",
    "# search_results"
   ]
  },
  {
   "cell_type": "markdown",
   "metadata": {},
   "source": [
    "## rag"
   ]
  },
  {
   "cell_type": "code",
   "execution_count": 10,
   "metadata": {},
   "outputs": [],
   "source": [
    "import ollama\n",
    "from tqdm.auto import tqdm\n",
    "\n",
    "# to initiate ollama on console for the first time\n",
    "# ollama serve\n",
    "# ollama pull llama2"
   ]
  },
  {
   "cell_type": "code",
   "execution_count": 11,
   "metadata": {},
   "outputs": [],
   "source": [
    "client = ollama.Client()\n",
    "\n"
   ]
  },
  {
   "cell_type": "markdown",
   "metadata": {},
   "source": [
    "## Prompt\n"
   ]
  },
  {
   "cell_type": "code",
   "execution_count": 12,
   "metadata": {},
   "outputs": [],
   "source": [
    "prompt_template = \"\"\"\n",
    "You are an assistant preparing a candidate for a data science job interview. \n",
    "Based on the provided context, please provide a concise and accurate answer to the following question in plain text format without any additional formatting.\n",
    "\n",
    "QUESTION: {question}\n",
    "\n",
    "CONTEXT:\n",
    "{context}\n",
    "\n",
    "The answer has to be plain text\n",
    "\"\"\".strip()\n"
   ]
  },
  {
   "cell_type": "code",
   "execution_count": 13,
   "metadata": {},
   "outputs": [
    {
     "data": {
      "text/plain": [
       "'what is the scope of a data scientist?'"
      ]
     },
     "execution_count": 13,
     "metadata": {},
     "output_type": "execute_result"
    }
   ],
   "source": [
    "query"
   ]
  },
  {
   "cell_type": "code",
   "execution_count": 14,
   "metadata": {},
   "outputs": [],
   "source": [
    "def build_prompt(query, search_results):\n",
    "    context = \"\"\n",
    "    \n",
    "    for doc in search_results:\n",
    "        text = doc['chunk_text']\n",
    "            \n",
    "        context += f\"Text: {text}\\n\\n\"\n",
    "\n",
    "    prompt = prompt_template.format(question=query, context=context).strip()\n",
    "    return prompt\n",
    "\n",
    "# prompt = build_prompt(query, search_results)\n",
    "# print(prompt)"
   ]
  },
  {
   "cell_type": "code",
   "execution_count": 15,
   "metadata": {},
   "outputs": [],
   "source": [
    "def generate_answer(query, search_results):\n",
    "    # Generar el contenido del mensaje utilizando la función build_prompt\n",
    "    message_content = build_prompt(query, search_results)\n",
    "    \n",
    "    # Hacer la llamada al modelo Llama2\n",
    "    response = client.chat(model=\"llama2\", messages=[{\"role\": \"user\", \"content\": message_content}])\n",
    "    \n",
    "    # Verificar la respuesta y extraer el contenido\n",
    "    if 'message' in response and 'content' in response['message']:\n",
    "        content = response['message']['content']\n",
    "        \n",
    "        return content.strip()  \n",
    "    return \"\"  \n"
   ]
  },
  {
   "cell_type": "code",
   "execution_count": 16,
   "metadata": {},
   "outputs": [],
   "source": [
    "# response = generate_answer(query, search_results)\n",
    "# print(response)"
   ]
  },
  {
   "cell_type": "code",
   "execution_count": 17,
   "metadata": {},
   "outputs": [],
   "source": [
    "def rag(query):\n",
    "    search_results = search(query)\n",
    "    response = generate_answer(query, search_results)\n",
    "    return response\n",
    "\n",
    "    "
   ]
  },
  {
   "cell_type": "code",
   "execution_count": 18,
   "metadata": {},
   "outputs": [
    {
     "name": "stdout",
     "output_type": "stream",
     "text": [
      "The following skills are important for a data scientist:\n",
      "\n",
      "1. Machine learning algorithms and data intuition\n",
      "2. Programming and software engineering skills\n",
      "3. Execution and communication skills\n",
      "4. Domain knowledge\n",
      "5. Real and relevant experience that can be applied to the job, including transferable skills\n",
      "6. Soft skills, such as working well with people in a team and communicating with broader groups of people\n",
      "7. Technical skills, such as making individual technical contributions.\n"
     ]
    }
   ],
   "source": [
    "query = 'Which skills are important for a data scietist?'\n",
    "print(rag(query))"
   ]
  },
  {
   "cell_type": "markdown",
   "metadata": {},
   "source": [
    "## Retrieval evaluation"
   ]
  },
  {
   "cell_type": "code",
   "execution_count": 19,
   "metadata": {},
   "outputs": [
    {
     "data": {
      "text/html": [
       "<div>\n",
       "<style scoped>\n",
       "    .dataframe tbody tr th:only-of-type {\n",
       "        vertical-align: middle;\n",
       "    }\n",
       "\n",
       "    .dataframe tbody tr th {\n",
       "        vertical-align: top;\n",
       "    }\n",
       "\n",
       "    .dataframe thead th {\n",
       "        text-align: right;\n",
       "    }\n",
       "</style>\n",
       "<table border=\"1\" class=\"dataframe\">\n",
       "  <thead>\n",
       "    <tr style=\"text-align: right;\">\n",
       "      <th></th>\n",
       "      <th>question</th>\n",
       "      <th>section</th>\n",
       "      <th>chapter</th>\n",
       "      <th>text_id</th>\n",
       "    </tr>\n",
       "  </thead>\n",
       "  <tbody>\n",
       "    <tr>\n",
       "      <th>0</th>\n",
       "      <td>Can you describe the different job titles and ...</td>\n",
       "      <td>Machine Learning Roles and the Interview Process</td>\n",
       "      <td>CHAPTER 1</td>\n",
       "      <td>86fd49a66d</td>\n",
       "    </tr>\n",
       "    <tr>\n",
       "      <th>1</th>\n",
       "      <td>How does the author of the chapter explain the...</td>\n",
       "      <td>Machine Learning Roles and the Interview Process</td>\n",
       "      <td>CHAPTER 1</td>\n",
       "      <td>86fd49a66d</td>\n",
       "    </tr>\n",
       "    <tr>\n",
       "      <th>2</th>\n",
       "      <td>According to the text, what is the main focus ...</td>\n",
       "      <td>Machine Learning Roles and the Interview Process</td>\n",
       "      <td>CHAPTER 1</td>\n",
       "      <td>86fd49a66d</td>\n",
       "    </tr>\n",
       "    <tr>\n",
       "      <th>3</th>\n",
       "      <td>What is the purpose of the figure provided in ...</td>\n",
       "      <td>Machine Learning Roles and the Interview Process</td>\n",
       "      <td>CHAPTER 1</td>\n",
       "      <td>86fd49a66d</td>\n",
       "    </tr>\n",
       "    <tr>\n",
       "      <th>4</th>\n",
       "      <td>How does the author encourage readers to appro...</td>\n",
       "      <td>Machine Learning Roles and the Interview Process</td>\n",
       "      <td>CHAPTER 1</td>\n",
       "      <td>86fd49a66d</td>\n",
       "    </tr>\n",
       "    <tr>\n",
       "      <th>...</th>\n",
       "      <td>...</td>\n",
       "      <td>...</td>\n",
       "      <td>...</td>\n",
       "      <td>...</td>\n",
       "    </tr>\n",
       "    <tr>\n",
       "      <th>224</th>\n",
       "      <td>Can you tell us about a time when you gained d...</td>\n",
       "      <td>Post-Interview and Follow-up</td>\n",
       "      <td>CHAPTER 9</td>\n",
       "      <td>2ca59d8bf2</td>\n",
       "    </tr>\n",
       "    <tr>\n",
       "      <th>225</th>\n",
       "      <td>How do you approach meeting relevant people du...</td>\n",
       "      <td>Post-Interview and Follow-up</td>\n",
       "      <td>CHAPTER 9</td>\n",
       "      <td>2ca59d8bf2</td>\n",
       "    </tr>\n",
       "    <tr>\n",
       "      <th>226</th>\n",
       "      <td>Can you describe a situation where you had to ...</td>\n",
       "      <td>Post-Interview and Follow-up</td>\n",
       "      <td>CHAPTER 9</td>\n",
       "      <td>2ca59d8bf2</td>\n",
       "    </tr>\n",
       "    <tr>\n",
       "      <th>227</th>\n",
       "      <td>How do you keep track of your achievements dur...</td>\n",
       "      <td>Post-Interview and Follow-up</td>\n",
       "      <td>CHAPTER 9</td>\n",
       "      <td>2ca59d8bf2</td>\n",
       "    </tr>\n",
       "    <tr>\n",
       "      <th>228</th>\n",
       "      <td>Can you share an example of a time when you re...</td>\n",
       "      <td>Post-Interview and Follow-up</td>\n",
       "      <td>CHAPTER 9</td>\n",
       "      <td>2ca59d8bf2</td>\n",
       "    </tr>\n",
       "  </tbody>\n",
       "</table>\n",
       "<p>229 rows × 4 columns</p>\n",
       "</div>"
      ],
      "text/plain": [
       "                                              question  \\\n",
       "0    Can you describe the different job titles and ...   \n",
       "1    How does the author of the chapter explain the...   \n",
       "2    According to the text, what is the main focus ...   \n",
       "3    What is the purpose of the figure provided in ...   \n",
       "4    How does the author encourage readers to appro...   \n",
       "..                                                 ...   \n",
       "224  Can you tell us about a time when you gained d...   \n",
       "225  How do you approach meeting relevant people du...   \n",
       "226  Can you describe a situation where you had to ...   \n",
       "227  How do you keep track of your achievements dur...   \n",
       "228  Can you share an example of a time when you re...   \n",
       "\n",
       "                                              section    chapter     text_id  \n",
       "0    Machine Learning Roles and the Interview Process  CHAPTER 1  86fd49a66d  \n",
       "1    Machine Learning Roles and the Interview Process  CHAPTER 1  86fd49a66d  \n",
       "2    Machine Learning Roles and the Interview Process  CHAPTER 1  86fd49a66d  \n",
       "3    Machine Learning Roles and the Interview Process  CHAPTER 1  86fd49a66d  \n",
       "4    Machine Learning Roles and the Interview Process  CHAPTER 1  86fd49a66d  \n",
       "..                                                ...        ...         ...  \n",
       "224                      Post-Interview and Follow-up  CHAPTER 9  2ca59d8bf2  \n",
       "225                      Post-Interview and Follow-up  CHAPTER 9  2ca59d8bf2  \n",
       "226                      Post-Interview and Follow-up  CHAPTER 9  2ca59d8bf2  \n",
       "227                      Post-Interview and Follow-up  CHAPTER 9  2ca59d8bf2  \n",
       "228                      Post-Interview and Follow-up  CHAPTER 9  2ca59d8bf2  \n",
       "\n",
       "[229 rows x 4 columns]"
      ]
     },
     "execution_count": 19,
     "metadata": {},
     "output_type": "execute_result"
    }
   ],
   "source": [
    "import pandas as pd\n",
    "\n",
    "df = pd.read_csv('../data/ground_truth_data.csv')\n",
    "df"
   ]
  },
  {
   "cell_type": "code",
   "execution_count": 20,
   "metadata": {},
   "outputs": [],
   "source": [
    "df_questions = df[['question', 'text_id']]"
   ]
  },
  {
   "cell_type": "code",
   "execution_count": 21,
   "metadata": {},
   "outputs": [
    {
     "data": {
      "text/plain": [
       "{'question': 'Can you describe the different job titles and roles that use machine learning skills in industry?',\n",
       " 'text_id': '86fd49a66d'}"
      ]
     },
     "execution_count": 21,
     "metadata": {},
     "output_type": "execute_result"
    }
   ],
   "source": [
    "ground_truth = df_questions.to_dict(orient = 'records')\n",
    "ground_truth[0]"
   ]
  },
  {
   "cell_type": "code",
   "execution_count": 22,
   "metadata": {},
   "outputs": [
    {
     "data": {
      "text/plain": [
       "{'question': 'Can you describe the different job titles and roles that use machine learning skills in industry?',\n",
       " 'text_id': '86fd49a66d'}"
      ]
     },
     "execution_count": 22,
     "metadata": {},
     "output_type": "execute_result"
    }
   ],
   "source": [
    "ground_truth[0]"
   ]
  },
  {
   "cell_type": "code",
   "execution_count": 23,
   "metadata": {},
   "outputs": [],
   "source": [
    "def hit_rate(relevance_total):\n",
    "    cnt = 0\n",
    "\n",
    "    for line in relevance_total:\n",
    "        if isinstance(line, (list, tuple)) and True in line:\n",
    "            cnt += 1\n",
    "        # elif line is True:\n",
    "        #     cnt += 1\n",
    "\n",
    "    return cnt / len(relevance_total)\n"
   ]
  },
  {
   "cell_type": "code",
   "execution_count": 24,
   "metadata": {},
   "outputs": [],
   "source": [
    "def mrr(relevance_total):\n",
    "    total_score = 0.0\n",
    "    num_queries = len(relevance_total)\n",
    "\n",
    "    for line in relevance_total:\n",
    "        query_score = 0.0\n",
    "        for rank in range(len(line)):\n",
    "            if line[rank] == True:\n",
    "                query_score = 1 / (rank + 1)\n",
    "                break  # Solo necesitamos el primero que sea True\n",
    "\n",
    "        total_score += query_score\n",
    "\n",
    "    # Evitar división por cero si no hay consultas\n",
    "    return total_score / num_queries if num_queries > 0 else 0.0\n"
   ]
  },
  {
   "cell_type": "code",
   "execution_count": 25,
   "metadata": {},
   "outputs": [],
   "source": [
    "def minsearch_search(query):\n",
    "    boost = {}\n",
    "    # boost = {'text': 3.0, 'section': 0.5}\n",
    "    \n",
    "    results = index.search(\n",
    "        query=query,\n",
    "        filter_dict = {},\n",
    "        boost_dict=boost,\n",
    "        num_results=5)\n",
    "\n",
    "    return results\n",
    "\n"
   ]
  },
  {
   "cell_type": "code",
   "execution_count": 26,
   "metadata": {},
   "outputs": [],
   "source": [
    "from tqdm.auto import tqdm\n",
    "\n",
    "\n",
    "def evaluate(ground_truth, search_function):\n",
    "    relevance_total = []\n",
    "\n",
    "    for q in tqdm(ground_truth):\n",
    "        doc_id = q['text_id']\n",
    "        results = search_function(q)\n",
    "        relevance = [d['text_id'] == doc_id for d in results]\n",
    "        relevance_total.append(relevance)\n",
    "\n",
    "    return {\n",
    "        'hit_rate': hit_rate(relevance_total),\n",
    "        'mrr': mrr(relevance_total),\n",
    "    }"
   ]
  },
  {
   "cell_type": "code",
   "execution_count": 27,
   "metadata": {},
   "outputs": [],
   "source": [
    "from tqdm.auto import tqdm"
   ]
  },
  {
   "cell_type": "code",
   "execution_count": 28,
   "metadata": {},
   "outputs": [
    {
     "data": {
      "application/vnd.jupyter.widget-view+json": {
       "model_id": "fe8fb77ac08e4000a5c1b483f4f2d5bd",
       "version_major": 2,
       "version_minor": 0
      },
      "text/plain": [
       "  0%|          | 0/229 [00:00<?, ?it/s]"
      ]
     },
     "metadata": {},
     "output_type": "display_data"
    },
    {
     "data": {
      "text/plain": [
       "{'hit_rate': 0.777292576419214, 'mrr': 0.6283842794759823}"
      ]
     },
     "execution_count": 28,
     "metadata": {},
     "output_type": "execute_result"
    }
   ],
   "source": [
    "evaluate(ground_truth, lambda q: minsearch_search(q['question']))"
   ]
  },
  {
   "cell_type": "markdown",
   "metadata": {},
   "source": [
    "## Hyperparams Optimization\n"
   ]
  },
  {
   "cell_type": "code",
   "execution_count": 29,
   "metadata": {},
   "outputs": [],
   "source": [
    "def minsearch_search(query, boost_value):\n",
    "    boost = {'text': boost_value}\n",
    "    \n",
    "    results = index.search(\n",
    "        query=query,\n",
    "        filter_dict={},\n",
    "        boost_dict=boost,\n",
    "        num_results=5\n",
    "    )\n",
    "    return results\n"
   ]
  },
  {
   "cell_type": "code",
   "execution_count": 30,
   "metadata": {},
   "outputs": [],
   "source": [
    "from hyperopt import fmin, tpe, hp, STATUS_OK, Trials\n",
    "from hyperopt.pyll import scope"
   ]
  },
  {
   "cell_type": "code",
   "execution_count": 31,
   "metadata": {},
   "outputs": [],
   "source": [
    "df_val = df_questions[:100]\n",
    "df_test = df_questions[100:]"
   ]
  },
  {
   "cell_type": "code",
   "execution_count": 32,
   "metadata": {},
   "outputs": [],
   "source": [
    "space = {\n",
    "    'temperature': hp.uniform('temperature', 0.6, 1.2),   \n",
    "    'top_p': hp.uniform('top_p', 0.7, 1.0),               \n",
    "    'max_length': hp.quniform('max_length', 512, 1024, 1), \n",
    "    'boost': hp.uniform('boost', 0, 3),\n",
    "    \n",
    "}"
   ]
  },
  {
   "cell_type": "code",
   "execution_count": 33,
   "metadata": {},
   "outputs": [
    {
     "name": "stdout",
     "output_type": "stream",
     "text": [
      "Evaluating with params: {'boost': 0.19169097176227612, 'max_length': 639.0, 'temperature': 0.6073720101599442, 'top_p': 0.9275859294389914}\n",
      "Evaluating with params: {'boost': 1.7026505167577843, 'max_length': 719.0, 'temperature': 0.8147334649501844, 'top_p': 0.7398525222990507}\n",
      "Evaluating with params: {'boost': 1.6703663822178891, 'max_length': 1000.0, 'temperature': 0.857998343051559, 'top_p': 0.8407265269806637}\n",
      "Evaluating with params: {'boost': 0.6973063534893288, 'max_length': 809.0, 'temperature': 1.0343489605907668, 'top_p': 0.8794319043356899}\n",
      "Evaluating with params: {'boost': 2.740640172730731, 'max_length': 592.0, 'temperature': 1.193254984078656, 'top_p': 0.781041600566971}\n",
      "Evaluating with params: {'boost': 0.05884893918022149, 'max_length': 882.0, 'temperature': 0.610642616050742, 'top_p': 0.9506859694251677}\n",
      "Evaluating with params: {'boost': 0.6589882838732926, 'max_length': 567.0, 'temperature': 0.768214284742639, 'top_p': 0.8277815405287754}\n",
      "Evaluating with params: {'boost': 2.993329443682201, 'max_length': 603.0, 'temperature': 0.8099334870679673, 'top_p': 0.7029142569194626}\n",
      "Evaluating with params: {'boost': 1.9076211597478978, 'max_length': 620.0, 'temperature': 0.8591311245545832, 'top_p': 0.9318092675379701}\n",
      "Evaluating with params: {'boost': 1.2709917467237288, 'max_length': 522.0, 'temperature': 1.0323171535786266, 'top_p': 0.7496255231371118}\n",
      "100%|██████████| 10/10 [00:15<00:00,  1.57s/trial, best loss: -0.0]\n",
      "Best hyperparameters: {'boost': np.float64(0.19169097176227612), 'max_length': np.float64(639.0), 'temperature': np.float64(0.6073720101599442), 'top_p': np.float64(0.9275859294389914)}\n"
     ]
    }
   ],
   "source": [
    "\n",
    "def objective(params):\n",
    "    print(f\"Evaluating with params: {params}\")\n",
    "    \n",
    "    # temperature = params['temperature']\n",
    "    # top_p = params['top_p']\n",
    "    # max_length = int(params['max_length'])\n",
    "    # boost_value = params['boost']\n",
    "    \n",
    "    response = rag(query)\n",
    "\n",
    "    hit_rate_value = hit_rate(response)  \n",
    "    mrr_value = mrr(response)\n",
    "    \n",
    "    loss = - (hit_rate_value + mrr_value)\n",
    "    \n",
    "    return {'loss': loss, 'status': STATUS_OK}\n",
    "\n",
    "trials = Trials()\n",
    "\n",
    "best = fmin(\n",
    "    fn=objective,\n",
    "    space=space,\n",
    "    algo=tpe.suggest,\n",
    "    max_evals=10,  \n",
    "    trials=trials\n",
    ")\n",
    "\n",
    "print(f\"Best hyperparameters: {best}\")\n"
   ]
  },
  {
   "cell_type": "code",
   "execution_count": 34,
   "metadata": {},
   "outputs": [],
   "source": [
    "best_temperature = best['temperature']\n",
    "best_top_p = best['top_p']\n",
    "best_max_length = int(best['max_length'])\n",
    "boost = best['boost']\n",
    "# response = rag(query)\n",
    "# print(response)\n"
   ]
  },
  {
   "cell_type": "code",
   "execution_count": 35,
   "metadata": {},
   "outputs": [],
   "source": [
    "import json\n",
    "\n",
    "with open('../data/best_hyperparams.json', 'w') as f:\n",
    "    json.dump(best, f)\n"
   ]
  },
  {
   "cell_type": "code",
   "execution_count": 36,
   "metadata": {},
   "outputs": [],
   "source": [
    "gt_val = df_val.to_dict(orient='records')"
   ]
  },
  {
   "cell_type": "code",
   "execution_count": 37,
   "metadata": {},
   "outputs": [],
   "source": [
    "def minsearch_search_optimized(query, boost):\n",
    "    # boost = {'text': 3.0, 'section': 0.5}\n",
    "    \n",
    "    results = index.search(\n",
    "        query=query,\n",
    "        filter_dict = {},\n",
    "        boost_dict=boost,\n",
    "        num_results=5)\n",
    "\n",
    "    return results\n"
   ]
  },
  {
   "cell_type": "code",
   "execution_count": 38,
   "metadata": {},
   "outputs": [
    {
     "data": {
      "application/vnd.jupyter.widget-view+json": {
       "model_id": "7f48095637504eef9e334da4c834523f",
       "version_major": 2,
       "version_minor": 0
      },
      "text/plain": [
       "  0%|          | 0/100 [00:00<?, ?it/s]"
      ]
     },
     "metadata": {},
     "output_type": "display_data"
    },
    {
     "data": {
      "text/plain": [
       "{'hit_rate': 0.83, 'mrr': 0.6703333333333333}"
      ]
     },
     "execution_count": 38,
     "metadata": {},
     "output_type": "execute_result"
    }
   ],
   "source": [
    "boost = {'text': best['boost']}\n",
    "         \n",
    "evaluate(gt_val, lambda q: minsearch_search_optimized(q['question'], boost))\n",
    "# para mirar cuanto da con los mejores hyperparam "
   ]
  },
  {
   "cell_type": "markdown",
   "metadata": {},
   "source": [
    "A little bit better :)"
   ]
  },
  {
   "cell_type": "markdown",
   "metadata": {},
   "source": [
    "## RAG Evaluation"
   ]
  },
  {
   "cell_type": "code",
   "execution_count": 39,
   "metadata": {},
   "outputs": [],
   "source": [
    "prompt1_template = \"\"\"\n",
    "You are an expert evaluator for a RAG system.\n",
    "Your task is to analyze the relevance of the generated answer compared to the original answer provided.\n",
    "Based on the relevance and similarity of the generated answer to the original answer, you will classify\n",
    "it as \"NON_RELEVANT\", \"PARTLY_RELEVANT\", or \"RELEVANT\".\n",
    "\n",
    "Here is the data for evaluation:\n",
    "\n",
    "Original Answer: {answer_orig}\n",
    "Generated Question: {question}\n",
    "Generated Answer: {answer_llm}\n",
    "\n",
    "Please analyze the content and context of the generated answer in relation to the original\n",
    "answer and provide your evaluation in parsable JSON without using code blocks:\n",
    "\n",
    "{{\n",
    "  \"Relevance\": \"NON_RELEVANT\" | \"PARTLY_RELEVANT\" | \"RELEVANT\",\n",
    "  \"Explanation\": \"[Provide a brief explanation for your evaluation]\"\n",
    "}}\n",
    "\"\"\".strip()\n",
    "\n",
    "prompt2_template = \"\"\"\n",
    "You are an expert evaluator for a Retrieval-Augmented Generation (RAG) system.\n",
    "Your task is to analyze the relevance of the generated answer to the given question.\n",
    "Based on the relevance of the generated answer, you will classify it\n",
    "as \"NON_RELEVANT\", \"PARTLY_RELEVANT\", or \"RELEVANT\".\n",
    "\n",
    "Here is the data for evaluation:\n",
    "\n",
    "Question: {question}\n",
    "Generated Answer: {answer_llm}\n",
    "\n",
    "Please analyze the content and context of the generated answer in relation to the question\n",
    "and provide your evaluation in parsable JSON without using code blocks:\n",
    "\n",
    "{{\n",
    "  \"Relevance\": \"NON_RELEVANT\" | \"PARTLY_RELEVANT\" | \"RELEVANT\",\n",
    "  \"Explanation\": \"[Provide a brief explanation for your evaluation]\"\n",
    "}}\n",
    "\"\"\".strip()\n"
   ]
  },
  {
   "cell_type": "code",
   "execution_count": 40,
   "metadata": {},
   "outputs": [
    {
     "data": {
      "text/plain": [
       "229"
      ]
     },
     "execution_count": 40,
     "metadata": {},
     "output_type": "execute_result"
    }
   ],
   "source": [
    "len(ground_truth) "
   ]
  },
  {
   "cell_type": "code",
   "execution_count": 49,
   "metadata": {},
   "outputs": [
    {
     "data": {
      "text/plain": [
       "{'question': 'Can you describe the different job titles and roles that use machine learning skills in industry?',\n",
       " 'text_id': '86fd49a66d'}"
      ]
     },
     "execution_count": 49,
     "metadata": {},
     "output_type": "execute_result"
    }
   ],
   "source": [
    "ground_truth[0]"
   ]
  },
  {
   "cell_type": "code",
   "execution_count": 41,
   "metadata": {},
   "outputs": [],
   "source": [
    "record = ground_truth[0]\n",
    "question = record['question']\n",
    "answer_llm = rag(question)"
   ]
  },
  {
   "cell_type": "code",
   "execution_count": 42,
   "metadata": {},
   "outputs": [
    {
     "name": "stdout",
     "output_type": "stream",
     "text": [
      "There are several job titles and roles that use machine learning skills in industry, including:\n",
      "\n",
      "1. Data Scientist: responsible for collecting, analyzing, and interpreting large datasets to gain insights and inform business decisions.\n",
      "2. Machine Learning Engineer: focuses on developing and deploying machine learning models and algorithms to solve complex problems.\n",
      "3. Applied Scientist: applies scientific knowledge and techniques to real-world problems in a practical setting.\n",
      "4. Software Engineer, Machine Learning: designs and develops software applications that involve machine learning techniques.\n",
      "5. MLOps Engineer: responsible for the operationalization of machine learning models, including deployment, monitoring, and maintenance.\n",
      "6. Product Data Scientist: works closely with product teams to design and implement data-driven products and features.\n",
      "7. Data Analyst: analyzes and interprets data to help organizations make informed decisions.\n",
      "8. Decision Scientist: uses statistical models and machine learning algorithms to inform business decisions.\n",
      "9. Research Scientist: conducts research in a specific area of machine learning, such as natural language processing or computer vision.\n",
      "\n",
      "It's worth noting that these job titles may overlap and have some similar responsibilities, but each role has its own unique set of skills and requirements. Additionally, job titles may vary across companies and industries, so it's important to research the specific job title and company you are interested in to understand the exact responsibilities and requirements.\n"
     ]
    }
   ],
   "source": [
    "print(answer_llm)"
   ]
  },
  {
   "cell_type": "code",
   "execution_count": 43,
   "metadata": {},
   "outputs": [
    {
     "name": "stdout",
     "output_type": "stream",
     "text": [
      "You are an expert evaluator for a Retrieval-Augmented Generation (RAG) system.\n",
      "Your task is to analyze the relevance of the generated answer to the given question.\n",
      "Based on the relevance of the generated answer, you will classify it\n",
      "as \"NON_RELEVANT\", \"PARTLY_RELEVANT\", or \"RELEVANT\".\n",
      "\n",
      "Here is the data for evaluation:\n",
      "\n",
      "Question: Can you describe the different job titles and roles that use machine learning skills in industry?\n",
      "Generated Answer: There are several job titles and roles that use machine learning skills in industry, including:\n",
      "\n",
      "1. Data Scientist: responsible for collecting, analyzing, and interpreting large datasets to gain insights and inform business decisions.\n",
      "2. Machine Learning Engineer: focuses on developing and deploying machine learning models and algorithms to solve complex problems.\n",
      "3. Applied Scientist: applies scientific knowledge and techniques to real-world problems in a practical setting.\n",
      "4. Software Engineer, Machine Learning: designs and develops software applications that involve machine learning techniques.\n",
      "5. MLOps Engineer: responsible for the operationalization of machine learning models, including deployment, monitoring, and maintenance.\n",
      "6. Product Data Scientist: works closely with product teams to design and implement data-driven products and features.\n",
      "7. Data Analyst: analyzes and interprets data to help organizations make informed decisions.\n",
      "8. Decision Scientist: uses statistical models and machine learning algorithms to inform business decisions.\n",
      "9. Research Scientist: conducts research in a specific area of machine learning, such as natural language processing or computer vision.\n",
      "\n",
      "It's worth noting that these job titles may overlap and have some similar responsibilities, but each role has its own unique set of skills and requirements. Additionally, job titles may vary across companies and industries, so it's important to research the specific job title and company you are interested in to understand the exact responsibilities and requirements.\n",
      "\n",
      "Please analyze the content and context of the generated answer in relation to the question\n",
      "and provide your evaluation in parsable JSON without using code blocks:\n",
      "\n",
      "{\n",
      "  \"Relevance\": \"NON_RELEVANT\" | \"PARTLY_RELEVANT\" | \"RELEVANT\",\n",
      "  \"Explanation\": \"[Provide a brief explanation for your evaluation]\"\n",
      "}\n"
     ]
    }
   ],
   "source": [
    "prompt = prompt2_template.format(question = question , answer_llm = answer_llm)\n",
    "print(prompt)"
   ]
  },
  {
   "cell_type": "code",
   "execution_count": 46,
   "metadata": {},
   "outputs": [
    {
     "name": "stdout",
     "output_type": "stream",
     "text": [
      "Based on the provided context and the generated answer, I would evaluate it as \"RELEVANT\". The answer provides a comprehensive list of job titles and roles that use machine learning skills in industry, including data scientist, machine learning engineer, applied scientist, software engineer, MLOps engineer, product data scientist, data analyst, decision scientist, and research scientist. These are indeed relevant roles in the field of data science and machine learning, as noted in the context. The answer also provides some explanation for each role and their overlap in skills, which is helpful for the candidate's understanding. Therefore, I would give a relevance evaluation of \"RELEVANT\" for this answer.\n"
     ]
    }
   ],
   "source": [
    "search_results = minsearch_search_optimized(query, boost)\n",
    "relevance = generate_answer(prompt, search_results)\n",
    "\n",
    "print(relevance)"
   ]
  },
  {
   "cell_type": "code",
   "execution_count": 51,
   "metadata": {},
   "outputs": [
    {
     "data": {
      "application/vnd.jupyter.widget-view+json": {
       "model_id": "8d2468c6c68a4704927e3b676a759220",
       "version_major": 2,
       "version_minor": 0
      },
      "text/plain": [
       "  0%|          | 0/229 [00:00<?, ?it/s]"
      ]
     },
     "metadata": {},
     "output_type": "display_data"
    },
    {
     "name": "stdout",
     "output_type": "stream",
     "text": [
      "{'question': 'Can you describe the different job titles and roles that use machine learning skills in industry?', 'text_id': '86fd49a66d'}\n",
      "{'question': 'How does the author of the chapter explain the confusion among job seekers regarding the differences between various machine learning roles?', 'text_id': '86fd49a66d'}\n",
      "{'question': 'According to the text, what is the main focus of Chapter 2 of the book?', 'text_id': '86fd49a66d'}\n",
      "{'question': 'What is the purpose of the figure provided in the chapter (Figure 1-1)?', 'text_id': '86fd49a66d'}\n",
      "{'question': \"How does the author encourage readers to approach the book's content?\", 'text_id': '86fd49a66d'}\n",
      "{'question': 'Can you explain the evolution of job titles in the field of machine learning and data science over the past decade?', 'text_id': '9a2356679c'}\n",
      "{'question': 'According to the text, what are some of the recent advancements in distributed and parallel computing that have enabled large-scale machine learning projects?', 'text_id': '9a2356679c'}\n",
      "{'question': 'Discuss the difference between a \"data scientist\" and a \"machine learning engineer.\" How do these roles relate to each other, and what are some of the key skills required for each role?', 'text_id': '9a2356679c'}\n",
      "{'question': 'How has the increasing availability of large datasets affected the development of machine learning algorithms?', 'text_id': '9a2356679c'}\n",
      "{'question': 'As described in the text, what are some of the new job titles that have emerged in the field of machine learning and data science?', 'text_id': '9a2356679c'}\n",
      "{'question': 'Can you explain the different roles involved in the machine learning lifecycle and how they depend on the company or organization?', 'text_id': '6d22154063'}\n",
      "{'question': 'How do job titles for machine learning roles vary between companies, and what factors influence these variations?', 'text_id': '6d22154063'}\n",
      "{'question': 'Can you provide examples of skills and roles that could be a good fit for a data scientist position?', 'text_id': '6d22154063'}\n",
      "{'question': 'How does the industry application of machine learning differ from research roles in academia, and what are some key differences between these two areas?', 'text_id': '6d22154063'}\n",
      "{'question': 'Can you discuss your own work experience in relation to the text, and how it has involved ML model training and development?', 'text_id': '6d22154063'}\n",
      "{'question': 'Can you explain the different roles involved in building an end-to-end ML product, and how they differ from each other?', 'text_id': '61153e0cc4'}\n",
      "{'question': 'How do you approach data engineering for ML projects, and what are some common challenges you encounter in this step?', 'text_id': '61153e0cc4'}\n",
      "{'question': 'In step B of the ML lifecycle, how do you handle feature engineering, and what are some techniques you use to improve model performance?', 'text_id': '61153e0cc4'}\n",
      "{'question': 'Can you walk me through a scenario where you had to monitor and evaluate the performance of an ML model after deployment, and how did you address any issues that arose?', 'text_id': '61153e0cc4'}\n",
      "{'question': 'How do you stay up-to-date with new tools and techniques in the field of ML, and how do you apply them in your work?', 'text_id': '61153e0cc4'}\n",
      "{'question': 'Can you explain the three pillars of machine learning roles and data science positions?', 'text_id': '535fe561d2'}\n",
      "{'question': 'How do interviews for machine learning jobs typically evaluate a candidate\\'s knowledge and readiness in the \"programming and software engineering skills\" pillar?', 'text_id': '535fe561d2'}\n",
      "{'question': 'What are some key soft skills that are important for success in machine learning roles, particularly in terms of communication and collaboration with non-technical team members?', 'text_id': '535fe561d2'}\n",
      "{'question': 'Can you discuss the minimum required skill levels for different types of machine learning jobs (e.g., entry-level, senior)?', 'text_id': '535fe561d2'}\n",
      "{'question': 'For entry-level machine learning positions, how important is it for candidates to have strong communication skills, even if they may not have as much experience in the other two pillars?', 'text_id': '535fe561d2'}\n",
      "{'question': 'Can you explain the three pillars of machine learning skills and how they are mapped to job titles in the industry?', 'text_id': 'f0d1a5d7be'}\n",
      "{'question': 'How do you map your interests and skills to specific machine learning roles, and what skills are most important for each role?', 'text_id': 'f0d1a5d7be'}\n",
      "{'question': 'How do you stay up-to-date with the latest trends and technologies in the field of machine learning and data science?', 'text_id': 'f0d1a5d7be'}\n",
      "{'question': 'Can you walk me through your process for identifying which job titles align with your skills and interests, and how do you go about preparing for those roles?', 'text_id': 'f0d1a5d7be'}\n",
      "{'question': 'How do you evaluate the importance of different skills within the machine learning lifecycle, and how do you prioritize your learning and development in that context?', 'text_id': 'f0d1a5d7be'}\n",
      "{'question': 'Can you explain the difference between an interviewee and an interviewer in the context of a job hiring process?', 'text_id': '6e80eb677b'}\n",
      "{'question': 'How do you increase your chances of getting more interviews, according to the book?', 'text_id': '6e80eb677b'}\n",
      "{'question': 'What is meant by \"big tech\" in the context of the book, and how has this term become outdated already?', 'text_id': '6e80eb677b'}\n",
      "{'question': 'Can you describe the different types of interviews discussed in the book, and provide an example of each?', 'text_id': '6e80eb677b'}\n",
      "{'question': 'How does the process of following up after an interview fit into the overall job hiring process, according to the book?', 'text_id': '6e80eb677b'}\n",
      "{'question': 'What is your experience with machine learning?', 'text_id': '2337809957'}\n",
      "{'question': 'How do you handle data preprocessing and feature engineering?', 'text_id': '2337809957'}\n",
      "{'question': 'How do you evaluate the performance of an ML model?', 'text_id': '2337809957'}\n",
      "{'question': 'How do you handle model interpretability and explainability?', 'text_id': '2337809957'}\n",
      "{'question': 'How do you stay up-to-date with new developments in ML?', 'text_id': '2337809957'}\n",
      "{'question': 'Can you tell me more about how to optimize your machine learning job application to increase the number of callbacks?', 'text_id': 'e3868ef048'}\n",
      "{'question': 'How do you research and identify relevant job listings in addition to the typical online job boards?', 'text_id': 'e3868ef048'}\n",
      "{'question': 'How do you determine which machine learning job opportunities align with your skills and career goals?', 'text_id': 'e3868ef048'}\n",
      "{'question': 'Have you ever used informal methods to learn about job listings in the machine learning field?', 'text_id': 'e3868ef048'}\n",
      "{'question': 'How important do you think it is to have a strong online presence when applying for machine learning jobs?', 'text_id': 'e3868ef048'}\n",
      "{'question': 'What are some events or conferences in your industry that you can attend to meet new people?', 'text_id': '114486e1a1'}\n",
      "{'question': 'How can you approach meeting one new person at each event you attend, as suggested in the passage?', 'text_id': '114486e1a1'}\n",
      "{'question': 'What are some ways you can make networking a long-term investment and build relationships with people in your industry?', 'text_id': '114486e1a1'}\n",
      "{'question': 'Can you think of any examples from your own experiences where networking has helped you get referrals or job opportunities?', 'text_id': '114486e1a1'}\n",
      "{'question': 'How can you leverage your existing network to get referrals for job openings, as suggested in the passage?', 'text_id': '114486e1a1'}\n",
      "{'question': 'What are the three pillars of ML roles according to Chapter 1?', 'text_id': '195ee8d52d'}\n",
      "{'question': 'What is the most relevant experience from your past role that you think is important for this machine learning engineer role?', 'text_id': '195ee8d52d'}\n",
      "{'question': 'How do you map the inventory of seven points from “My first ML churn model” example to the MLE posting?', 'text_id': '195ee8d52d'}\n",
      "{'question': 'Why is it important to focus on relevant experience and soft skills when applying for a machine learning role?', 'text_id': '195ee8d52d'}\n",
      "{'question': 'How do you suggest improving a resume for a machine learning role?', 'text_id': '195ee8d52d'}\n",
      "{'question': 'Can you explain the different types of ML roles and how they overlap or differ in terms of skills required?', 'text_id': '59be39571f'}\n",
      "{'question': 'How do you approach vetting job descriptions to determine which ones best match your skills and experience?', 'text_id': '59be39571f'}\n",
      "{'question': 'What are some common mistakes you see in job applications for ML roles, and how can candidates avoid them?', 'text_id': '59be39571f'}\n",
      "{'question': 'How do you prioritize which jobs to apply for, and what factors do you consider when deciding which roles to target?', 'text_id': '59be39571f'}\n",
      "{'question': 'Can you share a time when you had to analyze an interview question or coding challenge to determine the types of skills being tested?', 'text_id': '59be39571f'}\n",
      "{'question': 'How important is it to keep a resume to one page?', 'text_id': 'c80e9a7eaf'}\n",
      "{'question': 'Are there any exceptions to the one-page rule?', 'text_id': 'c80e9a7eaf'}\n",
      "{'question': 'What information should I include on my resume?', 'text_id': 'c80e9a7eaf'}\n",
      "{'question': 'How can I make my resume stand out?', 'text_id': 'c80e9a7eaf'}\n",
      "{'question': 'What are some common mistakes to avoid when creating a resume?', 'text_id': 'c80e9a7eaf'}\n",
      "{'question': \"Can you identify any gaps or areas for improvement in your current ML skills matrix based on the job descriptions you've reviewed?\", 'text_id': '072c02694c'}\n",
      "{'question': 'How have you optimized complex and slow queries in the past?', 'text_id': '072c02694c'}\n",
      "{'question': 'How do you approach data exploration, cleaning, and intuition when working with ML?', 'text_id': '072c02694c'}\n",
      "{'question': \"What are some common challenges you've encountered in your ML work, and how have you addressed them?\", 'text_id': '072c02694c'}\n",
      "{'question': 'Can you describe a time when you had to communicate complex ML concepts to a nontechnical audience?', 'text_id': '072c02694c'}\n",
      "{'question': 'Can you explain the difference between supervised and unsupervised learning, and provide an example of each?', 'text_id': '331444d407'}\n",
      "{'question': 'How do reinforcement learning algorithms differ from other machine learning algorithms in terms of their training process and goals?', 'text_id': '331444d407'}\n",
      "{'question': 'In what scenarios might a company choose to use natural language processing (NLP) techniques over other machine learning approaches?', 'text_id': '331444d407'}\n",
      "{'question': 'Can you walk me through how a recommender system works, and how it differs from other types of machine learning models?', 'text_id': '331444d407'}\n",
      "{'question': 'How do you ensure that the ML algorithms you deploy in a production environment are properly debugged and troubleshot, especially in complex scenarios with multiple data sources and stakeholders?', 'text_id': '331444d407'}\n",
      "{'question': 'Can you explain L1 and L2 regularization techniques used to prevent overfitting?', 'text_id': 'd0f8681a67'}\n",
      "{'question': 'How do you handle imbalanced datasets in ML?', 'text_id': 'd0f8681a67'}\n",
      "{'question': 'Can you explain bagging and boosting ensemble techniques used to improve ML model performance?', 'text_id': 'd0f8681a67'}\n",
      "{'question': 'How do you select the appropriate regularization technique(s) to prevent overfitting in an ML model?', 'text_id': 'd0f8681a67'}\n",
      "{'question': 'Can you explain the concept of bias-variance tradeoff in ML?', 'text_id': 'd0f8681a67'}\n",
      "{'question': 'What are some common applications of unsupervised learning in real-world scenarios?', 'text_id': '0ce98a8968'}\n",
      "{'question': 'How does the choice of supervised vs unsupervised learning depend on the type of problem being solved?', 'text_id': '0ce98a8968'}\n",
      "{'question': 'What are some common challenges associated with supervised learning?', 'text_id': '0ce98a8968'}\n",
      "{'question': 'How can data augmentation help address some of the challenges associated with supervised learning?', 'text_id': '0ce98a8968'}\n",
      "{'question': 'Can you provide an example of a real-world application of unsupervised learning?', 'text_id': '0ce98a8968'}\n",
      "{'question': 'What is the main purpose of preprocessing in NLP?', 'text_id': 'a89864b52f'}\n",
      "{'question': 'What are some of the challenges that NLP models can face even with robust pretraining?', 'text_id': 'a89864b52f'}\n",
      "{'question': 'How does BERT-uncased differ from BERT-cased?', 'text_id': 'a89864b52f'}\n",
      "{'question': 'What is the importance of understanding NLP techniques in responding to interview questions?', 'text_id': 'a89864b52f'}\n",
      "{'question': 'What are some common problems that recommender systems encounter, and how can they be addressed?', 'text_id': 'a6426309ff'}\n",
      "{'question': 'How does the use of implicit feedback differ from explicit feedback in recommender systems?', 'text_id': 'a6426309ff'}\n",
      "{'question': 'What are some common techniques used to handle class imbalance in recommender systems?', 'text_id': 'a6426309ff'}\n",
      "{'question': 'How can recommender systems incorporate both explicit and implicit feedback in their ML models?', 'text_id': 'a6426309ff'}\n",
      "{'question': 'What are some common applications of recommender systems beyond tech companies?', 'text_id': 'a6426309ff'}\n",
      "{'question': 'What is the main advantage of using model-free reinforcement learning?', 'text_id': '4ef8a420bc'}\n",
      "{'question': 'How does experience replay help in reinforcement learning?', 'text_id': '4ef8a420bc'}\n",
      "{'question': 'What is the purpose of using an epsilon-greedy policy in reinforcement learning?', 'text_id': '4ef8a420bc'}\n",
      "{'question': 'How does the reward function affect the behavior of a reinforcement learning agent?', 'text_id': '4ef8a420bc'}\n",
      "{'question': 'How does model-based reinforcement learning differ from model-free RL?', 'text_id': '4ef8a420bc'}\n",
      "{'question': 'Common preprocessing techniques in image-recognition tasks\\nWhat are some common preprocessing techniques used in image- recognition tasks, and why are they important?', 'text_id': '914e36400a'}\n",
      "{'question': 'Handling class imbalance in image recognition tasks\\nWhat methods can be used to handle class imbalance in image recognition tasks, and why is it important to do so?', 'text_id': '914e36400a'}\n",
      "{'question': 'Adding a dropout layer for regularization\\nWhat is a dropout layer, and why is it used for regularization?', 'text_id': '914e36400a'}\n",
      "{'question': 'Handling overfitting in image recognition models\\nWhat are some techniques for handling overfitting in image recognition models, and why are they important?', 'text_id': '914e36400a'}\n",
      "{'question': 'Evaluating ML models\\nWhat are some common metrics used to evaluate ML models, and why are they important?', 'text_id': '914e36400a'}\n",
      "{'question': 'Can you explain why you chose to use machine learning in this project rather than a simpler heuristic approach?', 'text_id': '005a577345'}\n",
      "{'question': 'How did you decide which features to include in the ML model, and how did you handle missing or irrelevant data?', 'text_id': '005a577345'}\n",
      "{'question': 'Can you walk me through your process for hyperparameter tuning and model selection, and how did you evaluate the performance of the final model?', 'text_id': '005a577345'}\n",
      "{'question': 'In real-world scenarios, how do you justify using machine learning over simpler heuristic approaches, and what are some potential reasons why ML might be preferred in certain situations?', 'text_id': '005a577345'}\n",
      "{'question': 'How would you handle overfitting or underfitting in an ML model, and what techniques have you used to prevent these problems in your projects?', 'text_id': '005a577345'}\n",
      "{'question': 'What is feature engineering in machine learning?', 'text_id': '99eacbbf97'}\n",
      "{'question': 'What are some common techniques used in feature engineering?', 'text_id': '99eacbbf97'}\n",
      "{'question': 'What is the difference between label encoding and one-hot encoding?', 'text_id': '99eacbbf97'}\n",
      "{'question': 'One-hot encoding is a technique where each category in a categorical variable is represented by a binary vector, with a 1 in the position of the category and 0s elsewhere. One-hot encoding is useful when there are many categories in a variable, while label encoding can be useful when the categories have a natural order or hierarchy.\\n\\nQuestion 4: What are some potential pitfalls to avoid when doing feature engineering?', 'text_id': '99eacbbf97'}\n",
      "{'question': 'Can you give an example of a situation where feature selection would be particularly useful?', 'text_id': '99eacbbf97'}\n",
      "{'question': 'How would you evaluate a binary classification model using the ROC curve?', 'text_id': '0720f39c5b'}\n",
      "{'question': 'What is NDCG and how do you use it to measure the quality of ranking tasks?', 'text_id': '0720f39c5b'}\n",
      "{'question': 'How do you decide which model versioning strategy to use in your project?', 'text_id': '0720f39c5b'}\n",
      "{'question': 'Can you walk me through the process of selecting a baseline model for comparison against an ML model during training?', 'text_id': '0720f39c5b'}\n",
      "{'question': 'How do you determine the optimal threshold for a binary classification model using the ROC curve?', 'text_id': '0720f39c5b'}\n",
      "{'question': 'Can you explain the difference between software engineering and ML roles in terms of coding skills required?', 'text_id': 'e5aff76113'}\n",
      "{'question': 'What is the importance of knowing Python in ML job interviews, and how can you use it to demonstrate your skills?', 'text_id': 'e5aff76113'}\n",
      "{'question': 'How do you approach data-related coding questions in SQL and Python Pandas during an ML interview?', 'text_id': 'e5aff76113'}\n",
      "{'question': 'What are some classic beginner questions for learning Python, and how can you use online resources like LeetCode and HackerRank to practice?', 'text_id': 'e5aff76113'}\n",
      "{'question': 'Can you discuss the importance of understanding ML models during a coding interview, and how can you demonstrate this knowledge without directly coding questions?', 'text_id': 'e5aff76113'}\n",
      "{'question': 'Can you tell me about a time when you were close to solving a problem, but needed a little more time to finish it?', 'text_id': '6d7e81991e'}\n",
      "{'question': \"How do you keep track of the flow of an interview or question, and how do you ensure that you don't rush through answers?\", 'text_id': '6d7e81991e'}\n",
      "{'question': 'Have you ever asked for hints or clarification during an interview?', 'text_id': '6d7e81991e'}\n",
      "{'question': 'How do you balance being aware of the time constraints during an interview while also taking the time to fully answer questions and showcase your skills?', 'text_id': '6d7e81991e'}\n",
      "{'question': 'How do you handle distractions or background noise during an interview, such as a noisy environment or technical issues?', 'text_id': '6d7e81991e'}\n",
      "{'question': 'How can you tell if a user will churn based on their activity level?', 'text_id': 'b00775576b'}\n",
      "{'question': 'What is the best way to handle missing values in a dataset?', 'text_id': 'b00775576b'}\n",
      "{'question': 'How do you evaluate the performance of a machine learning model?', 'text_id': 'b00775576b'}\n",
      "{'question': 'How do you handle outliers in a dataset?', 'text_id': 'b00775576b'}\n",
      "{'question': 'How do you ensure that your data is representative of the population it comes from?', 'text_id': 'b00775576b'}\n",
      "{'question': 'How would you optimize a SQL query to retrieve the top 10 products with the highest sales revenue in the last quarter?', 'text_id': 'ae2aa1ca31'}\n",
      "{'question': 'Write a SQL query to calculate the total number of searches made by users in a specific region over the past year?', 'text_id': 'ae2aa1ca31'}\n",
      "{'question': 'Design an autocomplete feature for search using SQL, what would be your approach and how would you optimize it?', 'text_id': 'ae2aa1ca31'}\n",
      "{'question': 'Given two tables, one containing product-level information and prices, and the other containing upcoming discounts, write a SQL query to calculate the total quantities and total discounted values for each category of products?', 'text_id': 'ae2aa1ca31'}\n",
      "{'question': 'How would you use window functions in a SQL query to rank the top 10 products based on their sales revenue over the last 6 months?', 'text_id': 'ae2aa1ca31'}\n",
      "{'question': 'Can you explain how you would approach preparing for a coding interview, given the limited time frame and competing responsibilities you mentioned in the passage?', 'text_id': 'dbd8460895'}\n",
      "{'question': 'How do you plan to stay motivated and engaged during the interview preparation process, especially when faced with difficult questions or moments of frustration?', 'text_id': 'dbd8460895'}\n",
      "{'question': \"How will you handle brainteaser questions that don't use common ML or stats Python libraries during a coding interview?\", 'text_id': 'dbd8460895'}\n",
      "{'question': 'Can you describe a time when you had to learn something new and challenging outside of your usual work or study routine?', 'text_id': 'dbd8460895'}\n",
      "{'question': 'How do you balance the need to prepare for a coding interview with other responsibilities and commitments in your life, such as work, family, or social obligations?', 'text_id': 'dbd8460895'}\n",
      "{'question': 'Can you explain the difference between Continuous Integration (CI) and Continuous Deployment (CD)?', 'text_id': 'f45e93a39b'}\n",
      "{'question': 'What are some common challenges that ML engineers face when deploying models in production environments?', 'text_id': 'f45e93a39b'}\n",
      "{'question': 'Can you discuss some of the key considerations for deploying ML models on edge devices?', 'text_id': 'f45e93a39b'}\n",
      "{'question': 'How do you approach debugging and troubleshooting ML models in production environments?', 'text_id': 'f45e93a39b'}\n",
      "{'question': 'Can you discuss some of the key considerations for deploying ML models in cloud environments?', 'text_id': 'f45e93a39b'}\n",
      "{'question': 'Can you describe how you would set up monitoring for an ML model in production?', 'text_id': '2e54c275a1'}\n",
      "{'question': 'How do you handle missing values or distribution shifts in the data used by an ML model?', 'text_id': '2e54c275a1'}\n",
      "{'question': 'In what ways can you use accuracy-related metrics to monitor the performance of an ML model over time?', 'text_id': '2e54c275a1'}\n",
      "{'question': 'Can you explain how you would handle prediction-related metrics for an ML model that needs to react quickly to changes in the data or inputs?', 'text_id': '2e54c275a1'}\n",
      "{'question': 'In a scenario where an ML model is causing unintended consequences, such as recommending clickbait or illegal content, how would you investigate and address the issue quickly to maintain user satisfaction and trust?', 'text_id': '2e54c275a1'}\n",
      "{'question': 'Can you explain the main differences between Google Cloud Platform, Amazon Web Services, and Microsoft Azure in terms of their cloud offering for machine learning?', 'text_id': '95d66e0b67'}\n",
      "{'question': 'How do you stay up-to-date with new tools and features being added to each of these big three cloud providers, especially when it comes to ML-related services?', 'text_id': '95d66e0b67'}\n",
      "{'question': \"Can you give an example of a situation where having experience with the specific technology used by the company you're interviewing for could be an advantage?\", 'text_id': '95d66e0b67'}\n",
      "{'question': 'How do you evaluate the ease of use of different ML tools and platforms, especially when it comes to creating, hosting, and sharing Jupyter Notebooks?', 'text_id': '95d66e0b67'}\n",
      "{'question': 'What are some of the most well-known ML services offered by each of these big three cloud providers, and how do they compare in terms of functionality and ease of use?', 'text_id': '95d66e0b67'}\n",
      "{'question': 'Can you explain the importance of using version control in software development, particularly for ML roles?', 'text_id': 'acad0ef561'}\n",
      "{'question': 'How do you approach learning new software tools and technologies, such as Git and dependency management?', 'text_id': 'acad0ef561'}\n",
      "{'question': 'In a ML development team, how do you see code reviews being conducted, and what is your experience with giving and taking feedback in a code review setting?', 'text_id': 'acad0ef561'}\n",
      "{'question': 'How do you handle mistakes or misunderstandings in your code during an interview?', 'text_id': 'acad0ef561'}\n",
      "{'question': 'How do you approach writing tests for your ML code, particularly in a take-home coding exercise setting?', 'text_id': 'acad0ef561'}\n",
      "{'question': 'Can you describe a time when you had to scale a machine learning model in production?', 'text_id': '9ebc3f2b8d'}\n",
      "{'question': 'How do you handle data drift in a machine learning model?', 'text_id': '9ebc3f2b8d'}\n",
      "{'question': 'How do you ensure that your machine learning models are properly deployed and monitored in production?', 'text_id': '9ebc3f2b8d'}\n",
      "{'question': 'Can you describe a time when you had to troubleshoot an issue with a machine learning model in production?', 'text_id': '9ebc3f2b8d'}\n",
      "{'question': 'How do you stay up-to-date with the latest developments in machine learning and MLOps?', 'text_id': '9ebc3f2b8d'}\n",
      "{'question': 'Can you explain the concept of reinforcement learning and how it differs from other machine learning paradigms?', 'text_id': 'f6f741906a'}\n",
      "{'question': 'How do you explain the implementation of a recommendation system using collaborative filtering to a non-technical co-worker?', 'text_id': 'f6f741906a'}\n",
      "{'question': 'Can you describe your experience working with natural language processing (NLP) in a project?', 'text_id': 'f6f741906a'}\n",
      "{'question': 'Can you walk me through how you would explain a machine learning model to a non-technical audience?', 'text_id': 'f6f741906a'}\n",
      "{'question': 'Can you provide an example of a time when you had to explain complex technical information to a non-technical audience?', 'text_id': 'f6f741906a'}\n",
      "{'question': 'Can you tell me about a time when you had to explain a complex technical concept to a non-technical colleague or manager?', 'text_id': 'f6620b37bc'}\n",
      "{'question': 'Describe a project where you had to work with a difficult team member or manager. How did you handle the situation and what was the outcome?', 'text_id': 'f6620b37bc'}\n",
      "{'question': 'Tell me about a time when you received critical feedback on your work. How did you handle it and what did you learn from the experience?', 'text_id': 'f6620b37bc'}\n",
      "{'question': 'Can you walk me through a time when you had to make a difficult technical decision with limited information or resources?', 'text_id': 'f6620b37bc'}\n",
      "{'question': 'Have you ever led a project or initiative where you had to work with multiple stakeholders who had competing priorities?', 'text_id': 'f6620b37bc'}\n",
      "{'question': 'Can you tell me about a time when you had to summarize complex information for a non-technical audience?', 'text_id': '052c470148'}\n",
      "{'question': 'How do you handle situations where you are unsure about something during an interview or project?', 'text_id': '052c470148'}\n",
      "{'question': 'Can you describe a time when you had to lead a team or project without direct supervision?', 'text_id': '052c470148'}\n",
      "{'question': 'How do you stay motivated and focused during long or difficult technical interviews?', 'text_id': '052c470148'}\n",
      "{'question': 'Can you tell me about a side project or self-directed work that you have completed, and how it demonstrates your skills in data science or machine learning?', 'text_id': '052c470148'}\n",
      "{'question': 'Can you tell me about a time when you demonstrated bias for action in your work?', 'text_id': '322f155e7d'}\n",
      "{'question': 'Give an example of how you have grown continuously in your career, and how have you applied the principles of \"ownership\" and \"invent and simplify\" in that growth?', 'text_id': '322f155e7d'}\n",
      "{'question': 'Can you describe a situation where you had to resolve conflict in a team or project?', 'text_id': '322f155e7d'}\n",
      "{'question': 'Have you ever had to communicate effectively with someone who had a different perspective or opinion than yours?', 'text_id': '322f155e7d'}\n",
      "{'question': 'Can you tell me about a time when you demonstrated \"customer obsession\" in your work?', 'text_id': '322f155e7d'}\n",
      "{'question': \"Can you identify the different parts of the machine learning (ML) lifecycle that you're interested in working on at work?\", 'text_id': 'e123c4c971'}\n",
      "{'question': 'How do you assess your skills in relation to the requirements for a specific ML role?', 'text_id': 'e123c4c971'}\n",
      "{'question': \"Which types of interviews do you think are most relevant for the ML role you're interested in, based on the information provided in this chapter?\", 'text_id': 'e123c4c971'}\n",
      "{'question': 'How long do you plan to prepare for interviews before starting to apply for roles?', 'text_id': 'e123c4c971'}\n",
      "{'question': 'Can you explain how the information and exercises in this chapter have helped you create a plan for your interview process?', 'text_id': 'e123c4c971'}\n",
      "{'question': 'Can you explain the concept of a \"roadmap\" and how it can be used to prepare for a data scientist position?', 'text_id': '995cfd588e'}\n",
      "{'question': 'What is the most important factor to consider when creating a roadmap for interview preparation, and why?', 'text_id': '995cfd588e'}\n",
      "{'question': \"In the text, it's mentioned that breaking down tasks into smaller chunks can help with time management during interview preparation. Can you give an example of how this might work in practice?\", 'text_id': '995cfd588e'}\n",
      "{'question': \"The text suggests that it's important to be flexible when creating a roadmap for interview preparation. Why is this the case, and what are some potential risks of being too inflexible with your planning?\", 'text_id': '995cfd588e'}\n",
      "{'question': 'How might you adjust your roadmap for interview preparation if you found that you were able to complete tasks more quickly or slowly than anticipated?', 'text_id': '995cfd588e'}\n",
      "{'question': \"What is the author's recommendation for increasing efficiency while preparing for interviews?\", 'text_id': '561ddf5f64'}\n",
      "{'question': 'How can keeping track of progress be helpful when preparing for interviews?', 'text_id': '561ddf5f64'}\n",
      "{'question': 'What is the downside of being your own accountability buddy when preparing for interviews?', 'text_id': '561ddf5f64'}\n",
      "{'question': 'How can telling a friend or family member about your progress help with accountability?', 'text_id': '561ddf5f64'}\n",
      "{'question': \"What is the author's opinion on using breaks to avoid burnout when preparing for interviews?\", 'text_id': '561ddf5f64'}\n",
      "{'question': 'Can you tell us about a time when you felt like an impostor in your previous role or job?', 'text_id': '6dadcd84bd'}\n",
      "{'question': 'How do you approach learning and staying up-to-date with new technologies and techniques in machine learning, especially as they relate to your own career path?', 'text_id': '6dadcd84bd'}\n",
      "{'question': 'How do you balance the need to continually learn and grow with the potential feelings of impostor syndrome that can arise in a competitive field like machine learning?', 'text_id': '6dadcd84bd'}\n",
      "{'question': 'In what ways do you think comparing yourself to others can hold you back in your career, and how can you avoid falling into this trap during an interview or in your daily work?', 'text_id': '6dadcd84bd'}\n",
      "{'question': 'How do you think your own accomplishments and strengths can be overlooked or undervalued in a competitive job market, and what strategies have you used to highlight these assets during an interview or in your job search?', 'text_id': '6dadcd84bd'}\n",
      "{'question': 'Can you describe a time when you persisted in your job search despite facing rejection or disappointment?', 'text_id': '22eb7b9b30'}\n",
      "{'question': 'What is your approach to taking notes during an interview, and how do you use them to improve your performance on future interviews?', 'text_id': '22eb7b9b30'}\n",
      "{'question': 'How do you handle it when you encounter a question that you struggled with during an interview?', 'text_id': '22eb7b9b30'}\n",
      "{'question': 'Can you share an example of a thank-you note you sent after an interview, and how did you tailor it to the specific role and company you were applying for?', 'text_id': '22eb7b9b30'}\n",
      "{'question': \"Have you ever received feedback from an interviewer that they didn't like something about your behavior or performance during an interview?\", 'text_id': '22eb7b9b30'}\n",
      "{'question': 'Can you tell me about a time when you received an unfortuantely, we have decided to move on with other candidates... email?', 'text_id': '1026686599'}\n",
      "{'question': 'How do you approach networking and building relationships with professionals in your field?', 'text_id': '1026686599'}\n",
      "{'question': 'What are some common mistakes that you see candidates making when applying for data science positions?', 'text_id': '1026686599'}\n",
      "{'question': 'Can you walk me through a time when you had to respond to a rejection email?', 'text_id': '1026686599'}\n",
      "{'question': 'How do you stay motivated and focused during the job search process?', 'text_id': '1026686599'}\n",
      "{'question': 'Can you provide more details on the vesting period for stocks or options?', 'text_id': 'dee0126444'}\n",
      "{'question': \"What is the exact value of the non-base pay options I'll receive?\", 'text_id': 'dee0126444'}\n",
      "{'question': 'Can you explain the blackout periods for restricted stock units (RSUs)?', 'text_id': 'dee0126444'}\n",
      "{'question': 'What is the employer matching contribution to retirement funds?', 'text_id': 'dee0126444'}\n",
      "{'question': 'Are there any other benefits that are not included in the base pay but have monetary value?', 'text_id': 'dee0126444'}\n",
      "{'question': 'Can you tell us about a time when you gained domain knowledge in a new area, and how did you go about acquiring it?', 'text_id': '2ca59d8bf2'}\n",
      "{'question': 'How do you approach meeting relevant people during the onboarding process, and what types of conversations do you have with them?', 'text_id': '2ca59d8bf2'}\n",
      "{'question': 'Can you describe a situation where you had to improve the onboarding documentation, and how did you go about making changes?', 'text_id': '2ca59d8bf2'}\n",
      "{'question': 'How do you keep track of your achievements during your first few months in an ML job, and what steps do you take to ensure that they are recognized and valued by your team and organization?', 'text_id': '2ca59d8bf2'}\n",
      "{'question': 'Can you share an example of a time when you reached out to a nontechnical person for help with a technical issue, and how did the interaction go?', 'text_id': '2ca59d8bf2'}\n"
     ]
    }
   ],
   "source": [
    "for record in tqdm(ground_truth):\n",
    "    print(record)"
   ]
  },
  {
   "cell_type": "code",
   "execution_count": null,
   "metadata": {},
   "outputs": [],
   "source": []
  },
  {
   "cell_type": "code",
   "execution_count": null,
   "metadata": {},
   "outputs": [],
   "source": []
  },
  {
   "cell_type": "code",
   "execution_count": null,
   "metadata": {},
   "outputs": [],
   "source": []
  },
  {
   "cell_type": "code",
   "execution_count": 53,
   "metadata": {},
   "outputs": [
    {
     "data": {
      "application/vnd.jupyter.widget-view+json": {
       "model_id": "2bf8d359755240f5a76202bf9254cf26",
       "version_major": 2,
       "version_minor": 0
      },
      "text/plain": [
       "  0%|          | 0/229 [00:00<?, ?it/s]"
      ]
     },
     "metadata": {},
     "output_type": "display_data"
    }
   ],
   "source": [
    "evaluations = []\n",
    "\n",
    "for record in tqdm(ground_truth):\n",
    "    question = record['question']\n",
    "    answer_llm = rag(question)\n",
    "    \n",
    "    prompt = prompt2_template.format(question = question , answer_llm = answer_llm)\n",
    "    search_results = minsearch_search_optimized(query, boost)\n",
    "    relevance = generate_answer(prompt, search_results)\n",
    "    evaluations.append((record['question'], answer_llm, relevance))"
   ]
  },
  {
   "cell_type": "code",
   "execution_count": 55,
   "metadata": {},
   "outputs": [
    {
     "data": {
      "text/plain": [
       "('Can you describe the different job titles and roles that use machine learning skills in industry?',\n",
       " \"Of course! Here are some common job titles and roles that use machine learning skills in industry:\\n\\n1. Data Scientist: responsible for analyzing and interpreting complex data sets, developing predictive models, and communicating insights to stakeholders.\\n2. Machine Learning Engineer: focuses on building and deploying machine learning models within a production environment, optimizing model performance, and ensuring the scalability and reliability of the model.\\n3. Applied Scientist: applies scientific techniques and methods to solve real-world problems, often working in collaboration with domain experts.\\n4. Software Engineer, Machine Learning: responsible for developing software that incorporates machine learning algorithms and techniques.\\n5. MLOps Engineer: focuses on the operationalization of machine learning models, including model deployment, monitoring, and maintenance.\\n6. Product Data Scientist: works closely with product managers to develop data-driven products and features, and to provide insights on product performance and user behavior.\\n7. Data Analyst: responsible for analyzing and interpreting data to inform business decisions, often working in a specific industry or domain.\\n8. Decision Scientist: applies statistical and machine learning techniques to inform decision-making processes within an organization.\\n9. Research Scientist: conducts research in machine learning and related fields, often publishing findings in academic publications and presenting at conferences.\\n\\nIt's worth noting that these job titles and roles are not exhaustive, and there may be other positions within industry that use machine learning skills. Additionally, the specific responsibilities of each role can vary depending on the company and the specific project or initiative.\",\n",
       " 'Based on the provided context and question, I would evaluate the generated answer as \"RELEVANT\". The answer provides a comprehensive list of job titles and roles that use machine learning skills in industry, which aligns with the question\\'s request for information on different job titles and roles. Additionally, the answer includes relevant details about each role, such as responsibilities and specific skills required, which further supports its relevance to the question. The explanation below provides more detail on why I evaluated the answer as \"RELEVANT\".\\n\\nExplanation: The generated answer is relevant because it directly addresses the question\\'s request for information on different job titles and roles that use machine learning skills in industry. The list provided includes common job titles and roles that are widely recognized in the field, such as Data Scientist, Machine Learning Engineer, and Applied Scientist. Additionally, the answer provides relevant details about each role, including specific responsibilities and required skills, which helps to provide a comprehensive understanding of these job titles and roles. Overall, the answer is well-aligned with the question\\'s request and provides valuable information on machine learning job roles in industry.')"
      ]
     },
     "execution_count": 55,
     "metadata": {},
     "output_type": "execute_result"
    }
   ],
   "source": [
    "evaluations[0]"
   ]
  },
  {
   "cell_type": "code",
   "execution_count": 60,
   "metadata": {},
   "outputs": [],
   "source": [
    "df_eval = pd.DataFrame(evaluations, columns=['Question', 'Response', 'Evaluation'])"
   ]
  },
  {
   "cell_type": "code",
   "execution_count": 61,
   "metadata": {},
   "outputs": [
    {
     "data": {
      "text/html": [
       "<div>\n",
       "<style scoped>\n",
       "    .dataframe tbody tr th:only-of-type {\n",
       "        vertical-align: middle;\n",
       "    }\n",
       "\n",
       "    .dataframe tbody tr th {\n",
       "        vertical-align: top;\n",
       "    }\n",
       "\n",
       "    .dataframe thead th {\n",
       "        text-align: right;\n",
       "    }\n",
       "</style>\n",
       "<table border=\"1\" class=\"dataframe\">\n",
       "  <thead>\n",
       "    <tr style=\"text-align: right;\">\n",
       "      <th></th>\n",
       "      <th>Question</th>\n",
       "      <th>Response</th>\n",
       "      <th>Evaluation</th>\n",
       "    </tr>\n",
       "  </thead>\n",
       "  <tbody>\n",
       "    <tr>\n",
       "      <th>0</th>\n",
       "      <td>Can you describe the different job titles and ...</td>\n",
       "      <td>Of course! Here are some common job titles and...</td>\n",
       "      <td>Based on the provided context and question, I ...</td>\n",
       "    </tr>\n",
       "    <tr>\n",
       "      <th>1</th>\n",
       "      <td>How does the author of the chapter explain the...</td>\n",
       "      <td>According to the author of the chapter, job se...</td>\n",
       "      <td>Based on the provided context and the generate...</td>\n",
       "    </tr>\n",
       "    <tr>\n",
       "      <th>2</th>\n",
       "      <td>According to the text, what is the main focus ...</td>\n",
       "      <td>According to the text, the main focus of Chapt...</td>\n",
       "      <td>{\\n\"Relevance\": \"RELEVANT\",\\n\"Explanation\": \"T...</td>\n",
       "    </tr>\n",
       "    <tr>\n",
       "      <th>3</th>\n",
       "      <td>What is the purpose of the figure provided in ...</td>\n",
       "      <td>The purpose of the figure provided in Chapter ...</td>\n",
       "      <td>{\\n\"Relevance\": \"RELEVANT\",\\n\"Explanation\": \"T...</td>\n",
       "    </tr>\n",
       "    <tr>\n",
       "      <th>4</th>\n",
       "      <td>How does the author encourage readers to appro...</td>\n",
       "      <td>The author encourages readers to approach the ...</td>\n",
       "      <td>Based on the provided context and generated an...</td>\n",
       "    </tr>\n",
       "    <tr>\n",
       "      <th>...</th>\n",
       "      <td>...</td>\n",
       "      <td>...</td>\n",
       "      <td>...</td>\n",
       "    </tr>\n",
       "    <tr>\n",
       "      <th>224</th>\n",
       "      <td>Can you tell us about a time when you gained d...</td>\n",
       "      <td>Sure! Here's how I would answer the question a...</td>\n",
       "      <td>Based on the provided answer, I would evaluate...</td>\n",
       "    </tr>\n",
       "    <tr>\n",
       "      <th>225</th>\n",
       "      <td>How do you approach meeting relevant people du...</td>\n",
       "      <td>During the onboarding process, I approach meet...</td>\n",
       "      <td>{\\n\"Relevance\": \"RELEVANT\",\\n\"Explanation\": \"T...</td>\n",
       "    </tr>\n",
       "    <tr>\n",
       "      <th>226</th>\n",
       "      <td>Can you describe a situation where you had to ...</td>\n",
       "      <td>Sure! Here's how I would answer the question:\\...</td>\n",
       "      <td>Based on the generated answer, I would evaluat...</td>\n",
       "    </tr>\n",
       "    <tr>\n",
       "      <th>227</th>\n",
       "      <td>How do you keep track of your achievements dur...</td>\n",
       "      <td>To keep track of my achievements during my fir...</td>\n",
       "      <td>Based on the content and context provided, I w...</td>\n",
       "    </tr>\n",
       "    <tr>\n",
       "      <th>228</th>\n",
       "      <td>Can you share an example of a time when you re...</td>\n",
       "      <td>Sure, here's an example of a time when I reach...</td>\n",
       "      <td>Based on the content and context of the genera...</td>\n",
       "    </tr>\n",
       "  </tbody>\n",
       "</table>\n",
       "<p>229 rows × 3 columns</p>\n",
       "</div>"
      ],
      "text/plain": [
       "                                              Question  \\\n",
       "0    Can you describe the different job titles and ...   \n",
       "1    How does the author of the chapter explain the...   \n",
       "2    According to the text, what is the main focus ...   \n",
       "3    What is the purpose of the figure provided in ...   \n",
       "4    How does the author encourage readers to appro...   \n",
       "..                                                 ...   \n",
       "224  Can you tell us about a time when you gained d...   \n",
       "225  How do you approach meeting relevant people du...   \n",
       "226  Can you describe a situation where you had to ...   \n",
       "227  How do you keep track of your achievements dur...   \n",
       "228  Can you share an example of a time when you re...   \n",
       "\n",
       "                                              Response  \\\n",
       "0    Of course! Here are some common job titles and...   \n",
       "1    According to the author of the chapter, job se...   \n",
       "2    According to the text, the main focus of Chapt...   \n",
       "3    The purpose of the figure provided in Chapter ...   \n",
       "4    The author encourages readers to approach the ...   \n",
       "..                                                 ...   \n",
       "224  Sure! Here's how I would answer the question a...   \n",
       "225  During the onboarding process, I approach meet...   \n",
       "226  Sure! Here's how I would answer the question:\\...   \n",
       "227  To keep track of my achievements during my fir...   \n",
       "228  Sure, here's an example of a time when I reach...   \n",
       "\n",
       "                                            Evaluation  \n",
       "0    Based on the provided context and question, I ...  \n",
       "1    Based on the provided context and the generate...  \n",
       "2    {\\n\"Relevance\": \"RELEVANT\",\\n\"Explanation\": \"T...  \n",
       "3    {\\n\"Relevance\": \"RELEVANT\",\\n\"Explanation\": \"T...  \n",
       "4    Based on the provided context and generated an...  \n",
       "..                                                 ...  \n",
       "224  Based on the provided answer, I would evaluate...  \n",
       "225  {\\n\"Relevance\": \"RELEVANT\",\\n\"Explanation\": \"T...  \n",
       "226  Based on the generated answer, I would evaluat...  \n",
       "227  Based on the content and context provided, I w...  \n",
       "228  Based on the content and context of the genera...  \n",
       "\n",
       "[229 rows x 3 columns]"
      ]
     },
     "execution_count": 61,
     "metadata": {},
     "output_type": "execute_result"
    }
   ],
   "source": [
    "df_eval"
   ]
  },
  {
   "cell_type": "code",
   "execution_count": 68,
   "metadata": {},
   "outputs": [],
   "source": [
    "import re \n",
    "\n",
    "def categorize_evaluation(text):\n",
    "    if re.search(r'\"NON_RELEVANT\"', text):\n",
    "        return \"NON_RELEVANT\"\n",
    "    elif re.search(r'\"PARTLY_RELEVANT\"', text):\n",
    "        return \"PARTLY_RELEVANT\"\n",
    "    elif re.search(r'\"RELEVANT\"', text):\n",
    "        return \"RELEVANT\"\n",
    "    else:\n",
    "        return \"UNKNOWN\"\n",
    "\n",
    "df_eval['Category'] = df_eval['Evaluation'].apply(categorize_evaluation)\n",
    "\n",
    "category_counts = df_eval['Category'].value_counts()"
   ]
  },
  {
   "cell_type": "code",
   "execution_count": 69,
   "metadata": {},
   "outputs": [
    {
     "data": {
      "text/plain": [
       "Category\n",
       "RELEVANT           213\n",
       "PARTLY_RELEVANT     16\n",
       "Name: count, dtype: int64"
      ]
     },
     "execution_count": 69,
     "metadata": {},
     "output_type": "execute_result"
    }
   ],
   "source": [
    "category_counts"
   ]
  },
  {
   "cell_type": "code",
   "execution_count": 71,
   "metadata": {},
   "outputs": [
    {
     "data": {
      "text/plain": [
       "Category\n",
       "RELEVANT           0.930131\n",
       "PARTLY_RELEVANT    0.069869\n",
       "Name: proportion, dtype: float64"
      ]
     },
     "execution_count": 71,
     "metadata": {},
     "output_type": "execute_result"
    }
   ],
   "source": [
    "normalized_counts = df_eval['Category'].value_counts(normalize= True)\n",
    "normalized_counts"
   ]
  },
  {
   "cell_type": "code",
   "execution_count": null,
   "metadata": {},
   "outputs": [],
   "source": []
  }
 ],
 "metadata": {
  "kernelspec": {
   "display_name": "interview_preparation_bot-ZQDkHgpI",
   "language": "python",
   "name": "python3"
  },
  "language_info": {
   "codemirror_mode": {
    "name": "ipython",
    "version": 3
   },
   "file_extension": ".py",
   "mimetype": "text/x-python",
   "name": "python",
   "nbconvert_exporter": "python",
   "pygments_lexer": "ipython3",
   "version": "3.10.12"
  }
 },
 "nbformat": 4,
 "nbformat_minor": 2
}
